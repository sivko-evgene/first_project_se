{
 "cells": [
  {
   "cell_type": "code",
   "execution_count": 1,
   "id": "4310eabd",
   "metadata": {
    "colab": {
     "base_uri": "https://localhost:8080/"
    },
    "id": "4GyHuCIj6MKz",
    "outputId": "1531b6d3-3577-47b6-e10e-7111a2752b81",
    "scrolled": true
   },
   "outputs": [
    {
     "name": "stdout",
     "output_type": "stream",
     "text": [
      "Collecting pandasql\n",
      "  Downloading pandasql-0.7.3.tar.gz (26 kB)\n",
      "Requirement already satisfied: numpy in c:\\users\\user\\anaconda3\\lib\\site-packages (from pandasql) (1.19.2)\n",
      "Requirement already satisfied: pandas in c:\\users\\user\\anaconda3\\lib\\site-packages (from pandasql) (1.2.3)\n",
      "Requirement already satisfied: sqlalchemy in c:\\users\\user\\anaconda3\\lib\\site-packages (from pandasql) (1.4.4)\n",
      "Requirement already satisfied: pytz>=2017.3 in c:\\users\\user\\anaconda3\\lib\\site-packages (from pandas->pandasql) (2021.1)\n",
      "Requirement already satisfied: python-dateutil>=2.7.3 in c:\\users\\user\\anaconda3\\lib\\site-packages (from pandas->pandasql) (2.8.1)\n",
      "Requirement already satisfied: six>=1.5 in c:\\users\\user\\anaconda3\\lib\\site-packages (from python-dateutil>=2.7.3->pandas->pandasql) (1.15.0)\n",
      "Requirement already satisfied: greenlet!=0.4.17 in c:\\users\\user\\anaconda3\\lib\\site-packages (from sqlalchemy->pandasql) (1.0.0)\n",
      "Building wheels for collected packages: pandasql\n",
      "  Building wheel for pandasql (setup.py): started\n",
      "  Building wheel for pandasql (setup.py): finished with status 'done'\n",
      "  Created wheel for pandasql: filename=pandasql-0.7.3-py3-none-any.whl size=26818 sha256=a605ed774c9648431e7e4a0012c6ae8b77ccaffb2980d98960622301bc626e95\n",
      "  Stored in directory: c:\\users\\administrator\\appdata\\local\\pip\\cache\\wheels\\ed\\8f\\46\\a383923333728744f01ba24adbd8e364f2cb9470a8b8e5b9ff\n",
      "Successfully built pandasql\n",
      "Installing collected packages: pandasql\n",
      "Successfully installed pandasql-0.7.3\n"
     ]
    }
   ],
   "source": [
    "!pip install pandasql"
   ]
  },
  {
   "cell_type": "code",
   "execution_count": 2,
   "id": "fee09065",
   "metadata": {
    "colab": {
     "base_uri": "https://localhost:8080/"
    },
    "id": "CSnm5JQL9N7b",
    "outputId": "a8beb092-b400-44b8-8972-93410d2f2d12",
    "scrolled": false
   },
   "outputs": [
    {
     "name": "stderr",
     "output_type": "stream",
     "text": [
      "\"gdown\" не является внутренней или внешней\n",
      "командой, исполняемой программой или пакетным файлом.\n",
      "\"mv\" не является внутренней или внешней\n",
      "командой, исполняемой программой или пакетным файлом.\n"
     ]
    }
   ],
   "source": [
    "!gdown --id 1BSHIKQ7rFw5BpTq5nw1UZfjPK_7Mpnbi\n",
    "!mv _sqlite3.cpython-37m-x86_64-linux-gnu.so /usr/lib/python3.7/lib-dynload/\n",
    "#import os\n",
    "#os.kill(os.getpid(), 9)"
   ]
  },
  {
   "cell_type": "code",
   "execution_count": 1,
   "id": "41fa5880",
   "metadata": {
    "colab": {
     "base_uri": "https://localhost:8080/"
    },
    "id": "NBf7Y7e15_9P",
    "outputId": "e0cd9116-cb9b-4803-fdb2-015d9f0eb1e9"
   },
   "outputs": [
    {
     "name": "stderr",
     "output_type": "stream",
     "text": [
      "C:\\Users\\User\\anaconda3\\lib\\site-packages\\statsmodels\\tsa\\base\\tsa_model.py:7: FutureWarning: pandas.Int64Index is deprecated and will be removed from pandas in a future version. Use pandas.Index with the appropriate dtype instead.\n",
      "  from pandas import (to_datetime, Int64Index, DatetimeIndex, Period,\n",
      "C:\\Users\\User\\anaconda3\\lib\\site-packages\\statsmodels\\tsa\\base\\tsa_model.py:7: FutureWarning: pandas.Float64Index is deprecated and will be removed from pandas in a future version. Use pandas.Index with the appropriate dtype instead.\n",
      "  from pandas import (to_datetime, Int64Index, DatetimeIndex, Period,\n"
     ]
    }
   ],
   "source": [
    "import pandas as pd\n",
    "import numpy as np\n",
    "%matplotlib inline\n",
    "import matplotlib.pyplot as plt\n",
    "import seaborn as sns\n",
    "import csv\n",
    "import plotly.express as px\n",
    "from datetime import datetime as dt, timedelta\n",
    "import pylab \n",
    "import scipy.stats as st\n",
    "import statsmodels.stats.api as sms\n",
    "import random\n",
    "from tqdm.notebook import tqdm\n",
    "from scipy.stats import norm, mannwhitneyu\n",
    "from scipy.stats import ttest_ind\n",
    "from tqdm.auto import tqdm\n",
    "from scipy.stats import levene\n",
    "import warnings\n",
    "import statsmodels.api as sm\n",
    "from scipy.stats._continuous_distns import _distn_names\n",
    "import matplotlib\n",
    "from scipy.stats import recipinvgauss\n",
    "from pandasql import sqldf\n",
    "import requests\n",
    "from urllib.parse import urlencode\n",
    "import sqlite3"
   ]
  },
  {
   "cell_type": "code",
   "execution_count": 25,
   "id": "f8d9d1c7",
   "metadata": {},
   "outputs": [
    {
     "name": "stdout",
     "output_type": "stream",
     "text": [
      "Requirement already satisfied: pandas in c:\\users\\user\\anaconda3\\lib\\site-packages (1.4.2)\n",
      "Requirement already satisfied: numpy>=1.18.5 in c:\\users\\user\\anaconda3\\lib\\site-packages (from pandas) (1.19.2)\n",
      "Requirement already satisfied: python-dateutil>=2.8.1 in c:\\users\\user\\anaconda3\\lib\\site-packages (from pandas) (2.8.1)\n",
      "Requirement already satisfied: pytz>=2020.1 in c:\\users\\user\\anaconda3\\lib\\site-packages (from pandas) (2021.1)\n",
      "Requirement already satisfied: six>=1.5 in c:\\users\\user\\anaconda3\\lib\\site-packages (from python-dateutil>=2.8.1->pandas) (1.15.0)\n",
      "Note: you may need to restart the kernel to use updated packages.\n"
     ]
    }
   ],
   "source": [
    "pip install pandas --upgrade"
   ]
  },
  {
   "cell_type": "code",
   "execution_count": 5,
   "id": "02b7617d",
   "metadata": {
    "id": "S6iLO0rEFZ1a"
   },
   "outputs": [],
   "source": [
    "plt.style.use(\"dark_background\")"
   ]
  },
  {
   "cell_type": "markdown",
   "id": "e5ecba30",
   "metadata": {
    "id": "WhcAOX185_9R"
   },
   "source": [
    "# Проект: вариант 2\n",
    "# Задание 1. A/B–тестирование\n",
    "1.1 Условие\n",
    "Одной из основных задач аналитика является корректное проведение экспериментов. Для этого применяется метод A/B–тестирования. В ходе тестирования одной гипотезы целевой группе была предложена новая механика оплаты услуг на сайте, у контрольной группы оставалась базовая механика. В качестве задания необходимо проанализировать итоги эксперимента и сделать вывод, стоит ли запускать новую механику оплаты на всех пользователей."
   ]
  },
  {
   "cell_type": "markdown",
   "id": "82eef09f",
   "metadata": {
    "id": "rtj5NEB65_9S"
   },
   "source": [
    "Порядок проведения A/B–тестирования:\n",
    "    . Определение общего критерия оценки (overall evaluation criterion, OEC).\n",
    "    . Определение исследуемой мерики.\n",
    "    . Формулирование нулевой и альтернативной гипотез.\n",
    "    . Подготовка эксперимента:\n",
    "        . Определение контрольной и экспериментальной групп.\n",
    "        . Определение существующей baseline.\n",
    "        . Минимальный эффект, который я хочу отследить.\n",
    "        . Определение уровня статистической значимости.\n",
    "        . Определение требуемой мощности.\n",
    "        . Определение размеров выборок.\n",
    "    . Проведение эксперимента.\n",
    "        . Выбор метода статистического теста.\n",
    "        . Проведение теста.\n",
    "            . Проверка p-value.\n",
    "            . Проверка мощности.\n",
    "            . Проверка на корректность.\n",
    "   . Анализ результатов эксперимента.\n",
    "   . Вывод.\n",
    "            \n",
    "    "
   ]
  },
  {
   "cell_type": "markdown",
   "id": "d163d7dd",
   "metadata": {
    "id": "TIrC6zF75_9T"
   },
   "source": [
    "Исследование и подготовка данных."
   ]
  },
  {
   "cell_type": "code",
   "execution_count": 2,
   "id": "13c1eeef",
   "metadata": {
    "id": "KpX6BTOBG9QU"
   },
   "outputs": [],
   "source": [
    "groups_link = 'https://disk.yandex.ru/d/58Us0DWOzuWAjg'\n",
    "groups_add_link = 'https://disk.yandex.ru/d/3aARY-P9pfaksg'\n",
    "activ_studs_link = 'https://disk.yandex.ru/d/prbgU-rZpiXVYg'\n",
    "checks_link = 'https://disk.yandex.ru/d/84hTmELphW2sqQ'"
   ]
  },
  {
   "cell_type": "code",
   "execution_count": 3,
   "id": "13a3f0c2",
   "metadata": {
    "id": "-0geagWdHCLi"
   },
   "outputs": [],
   "source": [
    "# Загружаем файл.\n",
    "def load_file(link_):\n",
    "    public_key = link_\n",
    "    base_url = 'https://cloud-api.yandex.net/v1/disk/public/resources/download?'\n",
    "    final_url = base_url + urlencode(dict(public_key=link_))\n",
    "    response = requests.get(final_url)\n",
    "    download_url = response.json()['href']\n",
    "    return download_url"
   ]
  },
  {
   "cell_type": "code",
   "execution_count": 4,
   "id": "d67ca470",
   "metadata": {
    "id": "AgM8aqiybo60"
   },
   "outputs": [],
   "source": [
    "groups =  load_file(groups_link)\n",
    "groups = pd.read_csv(groups, sep = \";\") # файл с информацией о принадлежности пользователя \n",
    "                                                       # к контрольной или экспериментальной группе\n",
    "                                                       # (А – контроль, B – целевая группа)"
   ]
  },
  {
   "cell_type": "code",
   "execution_count": 5,
   "id": "c5a66ab5",
   "metadata": {
    "id": "oj1ie9H8bo61"
   },
   "outputs": [],
   "source": [
    "group_add =  load_file(groups_add_link)\n",
    "group_add = pd.read_csv(group_add) # дополнительный файл с пользователями,\n",
    "                                                  # который вам прислали спустя 2 дня после передачи данных"
   ]
  },
  {
   "cell_type": "code",
   "execution_count": 6,
   "id": "15ad8e81",
   "metadata": {
    "id": "rpLTLP_6bo62"
   },
   "outputs": [],
   "source": [
    "activ_studs =  load_file(activ_studs_link)\n",
    "active_studs = pd.read_csv(activ_studs) # файл с информацией о пользователях, которые\n",
    "                                                        # зашли на платформу в дни проведения эксперимента "
   ]
  },
  {
   "cell_type": "code",
   "execution_count": 7,
   "id": "7b3ce8fe",
   "metadata": {
    "id": "IsjIZyc7bo63"
   },
   "outputs": [],
   "source": [
    "checks =  load_file(checks_link)\n",
    "checks = pd.read_csv(checks, sep = \";\") # файл с информацией об оплатах пользователей в\n",
    "                                                       # дни проведения эксперимента"
   ]
  },
  {
   "cell_type": "code",
   "execution_count": 8,
   "id": "024507bc",
   "metadata": {
    "colab": {
     "base_uri": "https://localhost:8080/",
     "height": 206
    },
    "id": "O5a77bEx5_9V",
    "outputId": "1766d54b-ed30-4f04-9d09-32e275b70b7b"
   },
   "outputs": [
    {
     "data": {
      "text/html": [
       "<div>\n",
       "<style scoped>\n",
       "    .dataframe tbody tr th:only-of-type {\n",
       "        vertical-align: middle;\n",
       "    }\n",
       "\n",
       "    .dataframe tbody tr th {\n",
       "        vertical-align: top;\n",
       "    }\n",
       "\n",
       "    .dataframe thead th {\n",
       "        text-align: right;\n",
       "    }\n",
       "</style>\n",
       "<table border=\"1\" class=\"dataframe\">\n",
       "  <thead>\n",
       "    <tr style=\"text-align: right;\">\n",
       "      <th></th>\n",
       "      <th>id</th>\n",
       "      <th>grp</th>\n",
       "    </tr>\n",
       "  </thead>\n",
       "  <tbody>\n",
       "    <tr>\n",
       "      <th>0</th>\n",
       "      <td>1489</td>\n",
       "      <td>B</td>\n",
       "    </tr>\n",
       "    <tr>\n",
       "      <th>1</th>\n",
       "      <td>1627</td>\n",
       "      <td>A</td>\n",
       "    </tr>\n",
       "    <tr>\n",
       "      <th>2</th>\n",
       "      <td>1768</td>\n",
       "      <td>B</td>\n",
       "    </tr>\n",
       "    <tr>\n",
       "      <th>3</th>\n",
       "      <td>1783</td>\n",
       "      <td>B</td>\n",
       "    </tr>\n",
       "    <tr>\n",
       "      <th>4</th>\n",
       "      <td>1794</td>\n",
       "      <td>A</td>\n",
       "    </tr>\n",
       "  </tbody>\n",
       "</table>\n",
       "</div>"
      ],
      "text/plain": [
       "     id grp\n",
       "0  1489   B\n",
       "1  1627   A\n",
       "2  1768   B\n",
       "3  1783   B\n",
       "4  1794   A"
      ]
     },
     "execution_count": 8,
     "metadata": {},
     "output_type": "execute_result"
    }
   ],
   "source": [
    "groups.head()"
   ]
  },
  {
   "cell_type": "code",
   "execution_count": 9,
   "id": "1dc04d86",
   "metadata": {
    "colab": {
     "base_uri": "https://localhost:8080/",
     "height": 206
    },
    "id": "OZf5aXoB5_9X",
    "outputId": "0634d1b7-f0bb-4911-8d47-07fde90fd480"
   },
   "outputs": [
    {
     "data": {
      "text/html": [
       "<div>\n",
       "<style scoped>\n",
       "    .dataframe tbody tr th:only-of-type {\n",
       "        vertical-align: middle;\n",
       "    }\n",
       "\n",
       "    .dataframe tbody tr th {\n",
       "        vertical-align: top;\n",
       "    }\n",
       "\n",
       "    .dataframe thead th {\n",
       "        text-align: right;\n",
       "    }\n",
       "</style>\n",
       "<table border=\"1\" class=\"dataframe\">\n",
       "  <thead>\n",
       "    <tr style=\"text-align: right;\">\n",
       "      <th></th>\n",
       "      <th>student_id</th>\n",
       "      <th>rev</th>\n",
       "    </tr>\n",
       "  </thead>\n",
       "  <tbody>\n",
       "    <tr>\n",
       "      <th>0</th>\n",
       "      <td>1627</td>\n",
       "      <td>990.0</td>\n",
       "    </tr>\n",
       "    <tr>\n",
       "      <th>1</th>\n",
       "      <td>3185</td>\n",
       "      <td>690.0</td>\n",
       "    </tr>\n",
       "    <tr>\n",
       "      <th>2</th>\n",
       "      <td>25973</td>\n",
       "      <td>690.0</td>\n",
       "    </tr>\n",
       "    <tr>\n",
       "      <th>3</th>\n",
       "      <td>26280</td>\n",
       "      <td>690.0</td>\n",
       "    </tr>\n",
       "    <tr>\n",
       "      <th>4</th>\n",
       "      <td>100300</td>\n",
       "      <td>990.0</td>\n",
       "    </tr>\n",
       "  </tbody>\n",
       "</table>\n",
       "</div>"
      ],
      "text/plain": [
       "   student_id    rev\n",
       "0        1627  990.0\n",
       "1        3185  690.0\n",
       "2       25973  690.0\n",
       "3       26280  690.0\n",
       "4      100300  990.0"
      ]
     },
     "execution_count": 9,
     "metadata": {},
     "output_type": "execute_result"
    }
   ],
   "source": [
    "checks.head()"
   ]
  },
  {
   "cell_type": "code",
   "execution_count": 10,
   "id": "77450506",
   "metadata": {
    "colab": {
     "base_uri": "https://localhost:8080/",
     "height": 206
    },
    "id": "JEizhzwv5_9X",
    "outputId": "7b08ff02-c58d-4eed-e6cd-74f15d96da8e"
   },
   "outputs": [
    {
     "data": {
      "text/html": [
       "<div>\n",
       "<style scoped>\n",
       "    .dataframe tbody tr th:only-of-type {\n",
       "        vertical-align: middle;\n",
       "    }\n",
       "\n",
       "    .dataframe tbody tr th {\n",
       "        vertical-align: top;\n",
       "    }\n",
       "\n",
       "    .dataframe thead th {\n",
       "        text-align: right;\n",
       "    }\n",
       "</style>\n",
       "<table border=\"1\" class=\"dataframe\">\n",
       "  <thead>\n",
       "    <tr style=\"text-align: right;\">\n",
       "      <th></th>\n",
       "      <th>student_id</th>\n",
       "    </tr>\n",
       "  </thead>\n",
       "  <tbody>\n",
       "    <tr>\n",
       "      <th>0</th>\n",
       "      <td>581585</td>\n",
       "    </tr>\n",
       "    <tr>\n",
       "      <th>1</th>\n",
       "      <td>5723133</td>\n",
       "    </tr>\n",
       "    <tr>\n",
       "      <th>2</th>\n",
       "      <td>3276743</td>\n",
       "    </tr>\n",
       "    <tr>\n",
       "      <th>3</th>\n",
       "      <td>4238589</td>\n",
       "    </tr>\n",
       "    <tr>\n",
       "      <th>4</th>\n",
       "      <td>4475369</td>\n",
       "    </tr>\n",
       "  </tbody>\n",
       "</table>\n",
       "</div>"
      ],
      "text/plain": [
       "   student_id\n",
       "0      581585\n",
       "1     5723133\n",
       "2     3276743\n",
       "3     4238589\n",
       "4     4475369"
      ]
     },
     "execution_count": 10,
     "metadata": {},
     "output_type": "execute_result"
    }
   ],
   "source": [
    "active_studs.head()"
   ]
  },
  {
   "cell_type": "code",
   "execution_count": 11,
   "id": "8821249c",
   "metadata": {
    "colab": {
     "base_uri": "https://localhost:8080/"
    },
    "id": "wLxqzIKY5_9Y",
    "outputId": "ec86a9a6-ff32-4ba3-8122-780304d83f6d"
   },
   "outputs": [
    {
     "data": {
      "text/plain": [
       "(74484, 2)"
      ]
     },
     "execution_count": 11,
     "metadata": {},
     "output_type": "execute_result"
    }
   ],
   "source": [
    "groups.shape"
   ]
  },
  {
   "cell_type": "code",
   "execution_count": 12,
   "id": "2ea051ee",
   "metadata": {
    "colab": {
     "base_uri": "https://localhost:8080/"
    },
    "id": "62IMtlLl5_9Y",
    "outputId": "d0a36545-864c-4c9d-c9fa-f31ac49c8548"
   },
   "outputs": [
    {
     "data": {
      "text/plain": [
       "(541, 2)"
      ]
     },
     "execution_count": 12,
     "metadata": {},
     "output_type": "execute_result"
    }
   ],
   "source": [
    "checks.shape"
   ]
  },
  {
   "cell_type": "code",
   "execution_count": 13,
   "id": "5c099976",
   "metadata": {
    "colab": {
     "base_uri": "https://localhost:8080/"
    },
    "id": "AXrvNr185_9Y",
    "outputId": "689989fc-2c93-44c1-8a5f-2f59284d92d2"
   },
   "outputs": [
    {
     "data": {
      "text/plain": [
       "(8341, 1)"
      ]
     },
     "execution_count": 13,
     "metadata": {},
     "output_type": "execute_result"
    }
   ],
   "source": [
    "active_studs.shape"
   ]
  },
  {
   "cell_type": "code",
   "execution_count": 14,
   "id": "270312a1",
   "metadata": {},
   "outputs": [
    {
     "data": {
      "text/html": [
       "<div>\n",
       "<style scoped>\n",
       "    .dataframe tbody tr th:only-of-type {\n",
       "        vertical-align: middle;\n",
       "    }\n",
       "\n",
       "    .dataframe tbody tr th {\n",
       "        vertical-align: top;\n",
       "    }\n",
       "\n",
       "    .dataframe thead th {\n",
       "        text-align: right;\n",
       "    }\n",
       "</style>\n",
       "<table border=\"1\" class=\"dataframe\">\n",
       "  <thead>\n",
       "    <tr style=\"text-align: right;\">\n",
       "      <th></th>\n",
       "      <th>id</th>\n",
       "      <th>grp</th>\n",
       "    </tr>\n",
       "  </thead>\n",
       "  <tbody>\n",
       "    <tr>\n",
       "      <th>0</th>\n",
       "      <td>1489</td>\n",
       "      <td>B</td>\n",
       "    </tr>\n",
       "    <tr>\n",
       "      <th>1</th>\n",
       "      <td>1627</td>\n",
       "      <td>A</td>\n",
       "    </tr>\n",
       "    <tr>\n",
       "      <th>2</th>\n",
       "      <td>1768</td>\n",
       "      <td>B</td>\n",
       "    </tr>\n",
       "    <tr>\n",
       "      <th>3</th>\n",
       "      <td>1783</td>\n",
       "      <td>B</td>\n",
       "    </tr>\n",
       "    <tr>\n",
       "      <th>4</th>\n",
       "      <td>1794</td>\n",
       "      <td>A</td>\n",
       "    </tr>\n",
       "    <tr>\n",
       "      <th>...</th>\n",
       "      <td>...</td>\n",
       "      <td>...</td>\n",
       "    </tr>\n",
       "    <tr>\n",
       "      <th>74479</th>\n",
       "      <td>5692459</td>\n",
       "      <td>B</td>\n",
       "    </tr>\n",
       "    <tr>\n",
       "      <th>74480</th>\n",
       "      <td>5692572</td>\n",
       "      <td>B</td>\n",
       "    </tr>\n",
       "    <tr>\n",
       "      <th>74481</th>\n",
       "      <td>5692865</td>\n",
       "      <td>B</td>\n",
       "    </tr>\n",
       "    <tr>\n",
       "      <th>74482</th>\n",
       "      <td>5693667</td>\n",
       "      <td>B</td>\n",
       "    </tr>\n",
       "    <tr>\n",
       "      <th>74483</th>\n",
       "      <td>5694419</td>\n",
       "      <td>B</td>\n",
       "    </tr>\n",
       "  </tbody>\n",
       "</table>\n",
       "<p>74484 rows × 2 columns</p>\n",
       "</div>"
      ],
      "text/plain": [
       "            id grp\n",
       "0         1489   B\n",
       "1         1627   A\n",
       "2         1768   B\n",
       "3         1783   B\n",
       "4         1794   A\n",
       "...        ...  ..\n",
       "74479  5692459   B\n",
       "74480  5692572   B\n",
       "74481  5692865   B\n",
       "74482  5693667   B\n",
       "74483  5694419   B\n",
       "\n",
       "[74484 rows x 2 columns]"
      ]
     },
     "execution_count": 14,
     "metadata": {},
     "output_type": "execute_result"
    }
   ],
   "source": [
    "groups"
   ]
  },
  {
   "cell_type": "code",
   "execution_count": 15,
   "id": "971fda38",
   "metadata": {
    "colab": {
     "base_uri": "https://localhost:8080/"
    },
    "id": "t74oI9TR5_9Z",
    "outputId": "afd6951f-fb2b-4880-c1cc-f291f21d315e"
   },
   "outputs": [
    {
     "data": {
      "text/plain": [
       "B    0.803032\n",
       "A    0.196968\n",
       "Name: grp, dtype: float64"
      ]
     },
     "execution_count": 15,
     "metadata": {},
     "output_type": "execute_result"
    }
   ],
   "source": [
    "groups['grp'].value_counts(normalize=True)"
   ]
  },
  {
   "cell_type": "code",
   "execution_count": 16,
   "id": "e3e40e38",
   "metadata": {
    "colab": {
     "base_uri": "https://localhost:8080/"
    },
    "id": "Xd73GraU5_9Z",
    "outputId": "265b52a1-ad02-449d-eb3f-0a08c4a391a0"
   },
   "outputs": [
    {
     "data": {
      "text/plain": [
       "B    0.76087\n",
       "A    0.23913\n",
       "Name: grp, dtype: float64"
      ]
     },
     "execution_count": 16,
     "metadata": {},
     "output_type": "execute_result"
    }
   ],
   "source": [
    "group_add['grp'].value_counts(normalize=True)"
   ]
  },
  {
   "cell_type": "code",
   "execution_count": 17,
   "id": "b270dcc5",
   "metadata": {
    "id": "5cJq4r9c5_9a"
   },
   "outputs": [],
   "source": [
    "groups = groups.rename(columns={'grp': 'group'})"
   ]
  },
  {
   "cell_type": "code",
   "execution_count": 18,
   "id": "4c8270b5",
   "metadata": {
    "id": "I2sNvljG5_9a"
   },
   "outputs": [],
   "source": [
    "group_add = group_add.rename(columns={'grp': 'group'})"
   ]
  },
  {
   "cell_type": "code",
   "execution_count": 19,
   "id": "f12e066c",
   "metadata": {
    "id": "Tq0lrFJE5_9a"
   },
   "outputs": [],
   "source": [
    "checks = checks.rename(columns={'student_id': 'id',\n",
    "                                'rev': 'revenue'})"
   ]
  },
  {
   "cell_type": "code",
   "execution_count": 20,
   "id": "d07d2b91",
   "metadata": {
    "id": "9UaICKyJ5_9a"
   },
   "outputs": [],
   "source": [
    "active_studs['active'] = 1"
   ]
  },
  {
   "cell_type": "code",
   "execution_count": 21,
   "id": "e15404f3",
   "metadata": {
    "id": "Gv1dJptl5_9b"
   },
   "outputs": [],
   "source": [
    "active_studs = active_studs.rename(columns={'student_id': 'id'})"
   ]
  },
  {
   "cell_type": "code",
   "execution_count": 22,
   "id": "623b362c",
   "metadata": {
    "id": "49P-Lwgg5_9b"
   },
   "outputs": [],
   "source": [
    "# Джойним данные в один датасет.\n",
    "groups_all = groups.merge(group_add, how='outer', on=['id','group'])\n",
    "groups_rev = groups_all.merge(checks, how='outer', on='id')\n",
    "groups_rev_ac = groups_rev.merge(active_studs, how='outer', on='id')"
   ]
  },
  {
   "cell_type": "code",
   "execution_count": 23,
   "id": "7902c8dc",
   "metadata": {
    "id": "xJ0LTA1B5_9b"
   },
   "outputs": [],
   "source": [
    "groups_rev_ac['active'] = groups_rev_ac['active'].fillna(0)"
   ]
  },
  {
   "cell_type": "code",
   "execution_count": 24,
   "id": "56b0c8a9",
   "metadata": {
    "id": "YpCqqvin5_9c"
   },
   "outputs": [],
   "source": [
    "group_a = groups_rev_ac.query('group == \"A\"')\n",
    "group_b = groups_rev_ac.query('group == \"B\"')"
   ]
  },
  {
   "cell_type": "code",
   "execution_count": 25,
   "id": "b849d9a1",
   "metadata": {
    "id": "ea6QY_4T5_9c"
   },
   "outputs": [],
   "source": [
    "group_a_for_test = group_a.query('active > 0 & revenue > 0')\n",
    "group_b_for_test = group_b.query('active > 0 & revenue > 0')"
   ]
  },
  {
   "cell_type": "code",
   "execution_count": 26,
   "id": "7e1a7e62",
   "metadata": {
    "id": "rsCt2Jge5_9c"
   },
   "outputs": [],
   "source": [
    "data_revenue_a = group_a_for_test['revenue']\n",
    "data_revenue_b = group_b_for_test['revenue']"
   ]
  },
  {
   "cell_type": "code",
   "execution_count": 27,
   "id": "8022d3a7",
   "metadata": {
    "colab": {
     "base_uri": "https://localhost:8080/",
     "height": 282
    },
    "id": "3cNnvQLT5_9d",
    "outputId": "f1ffe434-f219-4df1-c829-41fc41baa585"
   },
   "outputs": [
    {
     "data": {
      "text/plain": [
       "<AxesSubplot:>"
      ]
     },
     "execution_count": 27,
     "metadata": {},
     "output_type": "execute_result"
    },
    {
     "data": {
      "image/png": "[encoded data removed]",
      "text/plain": [
       "<Figure size 432x288 with 1 Axes>"
      ]
     },
     "metadata": {
      "needs_background": "light"
     },
     "output_type": "display_data"
    }
   ],
   "source": [
    "data_revenue_a.hist(bins=25)"
   ]
  },
  {
   "cell_type": "code",
   "execution_count": 28,
   "id": "6e91c338",
   "metadata": {
    "colab": {
     "base_uri": "https://localhost:8080/",
     "height": 282
    },
    "id": "mqWem8qd5_9d",
    "outputId": "e08124e4-cab7-46cf-f912-6378945bf19a",
    "scrolled": true
   },
   "outputs": [
    {
     "data": {
      "text/plain": [
       "<AxesSubplot:>"
      ]
     },
     "execution_count": 28,
     "metadata": {},
     "output_type": "execute_result"
    },
    {
     "data": {
      "image/png": "[encoded data removed]",
      "text/plain": [
       "<Figure size 432x288 with 1 Axes>"
      ]
     },
     "metadata": {
      "needs_background": "light"
     },
     "output_type": "display_data"
    }
   ],
   "source": [
    "data_revenue_b.hist(bins=25)"
   ]
  },
  {
   "cell_type": "code",
   "execution_count": 29,
   "id": "925007af",
   "metadata": {
    "colab": {
     "base_uri": "https://localhost:8080/"
    },
    "id": "1BLW5Sxg5_9d",
    "outputId": "dab64810-8a9b-4644-da2d-eb1685aa35a1"
   },
   "outputs": [
    {
     "data": {
      "text/plain": [
       "1900.0000    0.296178\n",
       "290.0000     0.143312\n",
       "1900.0001    0.111465\n",
       "199.0000     0.085987\n",
       "840.0000     0.066879\n",
       "990.0000     0.054140\n",
       "690.0000     0.041401\n",
       "1140.0000    0.028662\n",
       "398.0000     0.019108\n",
       "590.0000     0.019108\n",
       "580.0000     0.015924\n",
       "870.0000     0.015924\n",
       "1530.0000    0.015924\n",
       "2890.0000    0.009554\n",
       "2099.0000    0.009554\n",
       "3660.0000    0.006369\n",
       "1980.0000    0.006369\n",
       "2910.0000    0.006369\n",
       "597.0000     0.003185\n",
       "1339.0000    0.003185\n",
       "489.0000     0.003185\n",
       "1968.0000    0.003185\n",
       "1050.0000    0.003185\n",
       "2220.0000    0.003185\n",
       "880.0000     0.003185\n",
       "1388.0000    0.003185\n",
       "1729.0000    0.003185\n",
       "2190.0000    0.003185\n",
       "4650.0000    0.003185\n",
       "796.0000     0.003185\n",
       "3040.0000    0.003185\n",
       "3260.0000    0.003185\n",
       "1160.0000    0.003185\n",
       "Name: revenue, dtype: float64"
      ]
     },
     "execution_count": 29,
     "metadata": {},
     "output_type": "execute_result"
    }
   ],
   "source": [
    "data_revenue_b.value_counts(normalize=True)"
   ]
  },
  {
   "cell_type": "code",
   "execution_count": 30,
   "id": "fbf57b2d",
   "metadata": {
    "colab": {
     "base_uri": "https://localhost:8080/"
    },
    "id": "Mc11AL1L5_9e",
    "outputId": "9184049f-5e7f-460e-9d79-ab4fc5d9b91d"
   },
   "outputs": [
    {
     "data": {
      "text/plain": [
       "290.0     0.320513\n",
       "580.0     0.076923\n",
       "990.0     0.064103\n",
       "199.0     0.064103\n",
       "590.0     0.064103\n",
       "690.0     0.051282\n",
       "3660.0    0.038462\n",
       "1530.0    0.038462\n",
       "840.0     0.038462\n",
       "2820.0    0.025641\n",
       "1140.0    0.025641\n",
       "2910.0    0.025641\n",
       "489.0     0.025641\n",
       "1160.0    0.025641\n",
       "1039.0    0.012821\n",
       "2890.0    0.012821\n",
       "2220.0    0.012821\n",
       "1180.0    0.012821\n",
       "398.0     0.012821\n",
       "1830.0    0.012821\n",
       "1980.0    0.012821\n",
       "2900.0    0.012821\n",
       "870.0     0.012821\n",
       "Name: revenue, dtype: float64"
      ]
     },
     "execution_count": 30,
     "metadata": {},
     "output_type": "execute_result"
    }
   ],
   "source": [
    "data_revenue_a.value_counts(normalize=True)"
   ]
  },
  {
   "cell_type": "code",
   "execution_count": 31,
   "id": "ee71d6b1",
   "metadata": {
    "colab": {
     "base_uri": "https://localhost:8080/"
    },
    "id": "vPZe42v95_9e",
    "outputId": "58936e27-89d4-4954-fd4f-8742e400869a"
   },
   "outputs": [
    {
     "data": {
      "text/plain": [
       "True"
      ]
     },
     "execution_count": 31,
     "metadata": {},
     "output_type": "execute_result"
    }
   ],
   "source": [
    "# Проверяем все ли пользователи уникальные.\n",
    "nunique_id = groups_rev_ac \\\n",
    "    .groupby('id', as_index=False) \\\n",
    "    .agg({'group':'nunique'}) \\\n",
    "    .sort_values('group', ascending=False)\n",
    "nunique_id.shape[0] == groups_rev_ac.shape[0]"
   ]
  },
  {
   "cell_type": "code",
   "execution_count": 32,
   "id": "a4bec4d6",
   "metadata": {
    "colab": {
     "base_uri": "https://localhost:8080/",
     "height": 206
    },
    "id": "JPF5Ewra5_9e",
    "outputId": "5f2547ba-5d96-4790-b43a-2131bd2b8f72"
   },
   "outputs": [
    {
     "data": {
      "text/html": [
       "<div>\n",
       "<style scoped>\n",
       "    .dataframe tbody tr th:only-of-type {\n",
       "        vertical-align: middle;\n",
       "    }\n",
       "\n",
       "    .dataframe tbody tr th {\n",
       "        vertical-align: top;\n",
       "    }\n",
       "\n",
       "    .dataframe thead th {\n",
       "        text-align: right;\n",
       "    }\n",
       "</style>\n",
       "<table border=\"1\" class=\"dataframe\">\n",
       "  <thead>\n",
       "    <tr style=\"text-align: right;\">\n",
       "      <th></th>\n",
       "      <th>id</th>\n",
       "      <th>group</th>\n",
       "      <th>revenue</th>\n",
       "      <th>active</th>\n",
       "    </tr>\n",
       "  </thead>\n",
       "  <tbody>\n",
       "    <tr>\n",
       "      <th>39</th>\n",
       "      <td>3185</td>\n",
       "      <td>B</td>\n",
       "      <td>690.0</td>\n",
       "      <td>0.0</td>\n",
       "    </tr>\n",
       "    <tr>\n",
       "      <th>121</th>\n",
       "      <td>25973</td>\n",
       "      <td>B</td>\n",
       "      <td>690.0</td>\n",
       "      <td>0.0</td>\n",
       "    </tr>\n",
       "    <tr>\n",
       "      <th>125</th>\n",
       "      <td>26280</td>\n",
       "      <td>B</td>\n",
       "      <td>690.0</td>\n",
       "      <td>0.0</td>\n",
       "    </tr>\n",
       "    <tr>\n",
       "      <th>223</th>\n",
       "      <td>100645</td>\n",
       "      <td>B</td>\n",
       "      <td>630.0</td>\n",
       "      <td>0.0</td>\n",
       "    </tr>\n",
       "    <tr>\n",
       "      <th>254</th>\n",
       "      <td>102534</td>\n",
       "      <td>B</td>\n",
       "      <td>580.0</td>\n",
       "      <td>0.0</td>\n",
       "    </tr>\n",
       "  </tbody>\n",
       "</table>\n",
       "</div>"
      ],
      "text/plain": [
       "         id group  revenue  active\n",
       "39     3185     B    690.0     0.0\n",
       "121   25973     B    690.0     0.0\n",
       "125   26280     B    690.0     0.0\n",
       "223  100645     B    630.0     0.0\n",
       "254  102534     B    580.0     0.0"
      ]
     },
     "execution_count": 32,
     "metadata": {},
     "output_type": "execute_result"
    }
   ],
   "source": [
    "# Пользователи, которые не заходили на платформу но совершили покупку.\n",
    "no_active_and_pay =  groups_rev_ac.query('active == 0 & revenue > 0 ')\n",
    "no_active_and_pay.head()"
   ]
  },
  {
   "cell_type": "code",
   "execution_count": 33,
   "id": "2dd996e4",
   "metadata": {
    "colab": {
     "base_uri": "https://localhost:8080/",
     "height": 49
    },
    "id": "osvPpzAx5_9e",
    "outputId": "f933b900-50f2-4acb-e8fa-b063b9b962e0"
   },
   "outputs": [
    {
     "data": {
      "text/html": [
       "<div>\n",
       "<style scoped>\n",
       "    .dataframe tbody tr th:only-of-type {\n",
       "        vertical-align: middle;\n",
       "    }\n",
       "\n",
       "    .dataframe tbody tr th {\n",
       "        vertical-align: top;\n",
       "    }\n",
       "\n",
       "    .dataframe thead th {\n",
       "        text-align: right;\n",
       "    }\n",
       "</style>\n",
       "<table border=\"1\" class=\"dataframe\">\n",
       "  <thead>\n",
       "    <tr style=\"text-align: right;\">\n",
       "      <th></th>\n",
       "      <th>id</th>\n",
       "      <th>group</th>\n",
       "      <th>revenue</th>\n",
       "      <th>active</th>\n",
       "    </tr>\n",
       "  </thead>\n",
       "  <tbody>\n",
       "  </tbody>\n",
       "</table>\n",
       "</div>"
      ],
      "text/plain": [
       "Empty DataFrame\n",
       "Columns: [id, group, revenue, active]\n",
       "Index: []"
      ]
     },
     "execution_count": 33,
     "metadata": {},
     "output_type": "execute_result"
    }
   ],
   "source": [
    "# Выясняем, какие пользователи произвели оплату,\n",
    "# не заходя на платформу (не из датасета group_add).\n",
    "no_active_and_pay.merge(group_add, how='inner', on=['id', 'group'])"
   ]
  },
  {
   "cell_type": "code",
   "execution_count": 34,
   "id": "2f867f3a",
   "metadata": {
    "colab": {
     "base_uri": "https://localhost:8080/",
     "height": 424
    },
    "id": "79IDlIex5_9f",
    "outputId": "e5faef04-27d5-4e66-f3e4-b11b0309f737"
   },
   "outputs": [
    {
     "data": {
      "text/html": [
       "<div>\n",
       "<style scoped>\n",
       "    .dataframe tbody tr th:only-of-type {\n",
       "        vertical-align: middle;\n",
       "    }\n",
       "\n",
       "    .dataframe tbody tr th {\n",
       "        vertical-align: top;\n",
       "    }\n",
       "\n",
       "    .dataframe thead th {\n",
       "        text-align: right;\n",
       "    }\n",
       "</style>\n",
       "<table border=\"1\" class=\"dataframe\">\n",
       "  <thead>\n",
       "    <tr style=\"text-align: right;\">\n",
       "      <th></th>\n",
       "      <th>id</th>\n",
       "      <th>group</th>\n",
       "      <th>revenue</th>\n",
       "      <th>active</th>\n",
       "    </tr>\n",
       "  </thead>\n",
       "  <tbody>\n",
       "    <tr>\n",
       "      <th>0</th>\n",
       "      <td>3185</td>\n",
       "      <td>B</td>\n",
       "      <td>690.0</td>\n",
       "      <td>0.0</td>\n",
       "    </tr>\n",
       "    <tr>\n",
       "      <th>1</th>\n",
       "      <td>25973</td>\n",
       "      <td>B</td>\n",
       "      <td>690.0</td>\n",
       "      <td>0.0</td>\n",
       "    </tr>\n",
       "    <tr>\n",
       "      <th>2</th>\n",
       "      <td>26280</td>\n",
       "      <td>B</td>\n",
       "      <td>690.0</td>\n",
       "      <td>0.0</td>\n",
       "    </tr>\n",
       "    <tr>\n",
       "      <th>3</th>\n",
       "      <td>100645</td>\n",
       "      <td>B</td>\n",
       "      <td>630.0</td>\n",
       "      <td>0.0</td>\n",
       "    </tr>\n",
       "    <tr>\n",
       "      <th>4</th>\n",
       "      <td>102534</td>\n",
       "      <td>B</td>\n",
       "      <td>580.0</td>\n",
       "      <td>0.0</td>\n",
       "    </tr>\n",
       "    <tr>\n",
       "      <th>...</th>\n",
       "      <td>...</td>\n",
       "      <td>...</td>\n",
       "      <td>...</td>\n",
       "      <td>...</td>\n",
       "    </tr>\n",
       "    <tr>\n",
       "      <th>144</th>\n",
       "      <td>5291900</td>\n",
       "      <td>B</td>\n",
       "      <td>199.0</td>\n",
       "      <td>0.0</td>\n",
       "    </tr>\n",
       "    <tr>\n",
       "      <th>145</th>\n",
       "      <td>5331842</td>\n",
       "      <td>B</td>\n",
       "      <td>290.0</td>\n",
       "      <td>0.0</td>\n",
       "    </tr>\n",
       "    <tr>\n",
       "      <th>146</th>\n",
       "      <td>5486319</td>\n",
       "      <td>B</td>\n",
       "      <td>199.0</td>\n",
       "      <td>0.0</td>\n",
       "    </tr>\n",
       "    <tr>\n",
       "      <th>147</th>\n",
       "      <td>5562806</td>\n",
       "      <td>B</td>\n",
       "      <td>398.0</td>\n",
       "      <td>0.0</td>\n",
       "    </tr>\n",
       "    <tr>\n",
       "      <th>148</th>\n",
       "      <td>5599663</td>\n",
       "      <td>B</td>\n",
       "      <td>1900.0</td>\n",
       "      <td>0.0</td>\n",
       "    </tr>\n",
       "  </tbody>\n",
       "</table>\n",
       "<p>149 rows × 4 columns</p>\n",
       "</div>"
      ],
      "text/plain": [
       "          id group  revenue  active\n",
       "0       3185     B    690.0     0.0\n",
       "1      25973     B    690.0     0.0\n",
       "2      26280     B    690.0     0.0\n",
       "3     100645     B    630.0     0.0\n",
       "4     102534     B    580.0     0.0\n",
       "..       ...   ...      ...     ...\n",
       "144  5291900     B    199.0     0.0\n",
       "145  5331842     B    290.0     0.0\n",
       "146  5486319     B    199.0     0.0\n",
       "147  5562806     B    398.0     0.0\n",
       "148  5599663     B   1900.0     0.0\n",
       "\n",
       "[149 rows x 4 columns]"
      ]
     },
     "execution_count": 34,
     "metadata": {},
     "output_type": "execute_result"
    }
   ],
   "source": [
    "# Проверяем в какой из выборок были некорректные данные.\n",
    "# Выясняем, что пользователи, которые произвели оплату не заходя на платформу - из датасета groups.\n",
    "no_active_and_pay.merge(groups, how='inner', on=['id', 'group'])"
   ]
  },
  {
   "cell_type": "code",
   "execution_count": 35,
   "id": "2c9ed549",
   "metadata": {
    "colab": {
     "base_uri": "https://localhost:8080/"
    },
    "id": "F8V8OtpX5_9f",
    "outputId": "19901622-f639-4ecc-fd09-de786b1cc713"
   },
   "outputs": [
    {
     "data": {
      "text/plain": [
       "B    0.805369\n",
       "A    0.194631\n",
       "Name: group, dtype: float64"
      ]
     },
     "execution_count": 35,
     "metadata": {},
     "output_type": "execute_result"
    }
   ],
   "source": [
    "no_active_and_pay['group'].value_counts(normalize=True)"
   ]
  },
  {
   "cell_type": "code",
   "execution_count": 36,
   "id": "65297e73",
   "metadata": {
    "colab": {
     "base_uri": "https://localhost:8080/",
     "height": 282
    },
    "id": "gGBZ_4VF5_9f",
    "outputId": "06e1a1cb-3d63-4a02-b241-bae47676d6fd"
   },
   "outputs": [
    {
     "data": {
      "text/plain": [
       "<AxesSubplot:>"
      ]
     },
     "execution_count": 36,
     "metadata": {},
     "output_type": "execute_result"
    },
    {
     "data": {
      "image/png": "[encoded data removed]",
      "text/plain": [
       "<Figure size 432x288 with 1 Axes>"
      ]
     },
     "metadata": {
      "needs_background": "light"
     },
     "output_type": "display_data"
    }
   ],
   "source": [
    "no_active_and_pay['revenue'].hist()"
   ]
  },
  {
   "cell_type": "code",
   "execution_count": 37,
   "id": "bffb99c6",
   "metadata": {
    "colab": {
     "base_uri": "https://localhost:8080/"
    },
    "id": "iziE0aGy5_9g",
    "outputId": "398a25b1-7c76-45b4-9538-46159fc02dc3"
   },
   "outputs": [
    {
     "data": {
      "text/plain": [
       "690.0000     0.409396\n",
       "290.0000     0.161074\n",
       "990.0000     0.127517\n",
       "1140.0000    0.093960\n",
       "199.0000     0.093960\n",
       "580.0000     0.026846\n",
       "1900.0000    0.026846\n",
       "840.0000     0.020134\n",
       "398.0000     0.013423\n",
       "630.0000     0.006711\n",
       "1980.0000    0.006711\n",
       "1180.0000    0.006711\n",
       "1900.0001    0.006711\n",
       "Name: revenue, dtype: float64"
      ]
     },
     "execution_count": 37,
     "metadata": {},
     "output_type": "execute_result"
    }
   ],
   "source": [
    "no_active_and_pay['revenue'].value_counts(normalize=True)"
   ]
  },
  {
   "cell_type": "code",
   "execution_count": 38,
   "id": "d1e6b31d",
   "metadata": {
    "colab": {
     "base_uri": "https://localhost:8080/",
     "height": 143
    },
    "id": "ObmNlaBx5_9g",
    "outputId": "ee5523c3-e907-4f56-d2f0-633a85dd7a67"
   },
   "outputs": [
    {
     "data": {
      "text/html": [
       "<div>\n",
       "<style scoped>\n",
       "    .dataframe tbody tr th:only-of-type {\n",
       "        vertical-align: middle;\n",
       "    }\n",
       "\n",
       "    .dataframe tbody tr th {\n",
       "        vertical-align: top;\n",
       "    }\n",
       "\n",
       "    .dataframe thead tr th {\n",
       "        text-align: left;\n",
       "    }\n",
       "</style>\n",
       "<table border=\"1\" class=\"dataframe\">\n",
       "  <thead>\n",
       "    <tr>\n",
       "      <th></th>\n",
       "      <th>group</th>\n",
       "      <th colspan=\"4\" halign=\"left\">revenue</th>\n",
       "    </tr>\n",
       "    <tr>\n",
       "      <th></th>\n",
       "      <th></th>\n",
       "      <th>count</th>\n",
       "      <th>mean</th>\n",
       "      <th>median</th>\n",
       "      <th>std</th>\n",
       "    </tr>\n",
       "  </thead>\n",
       "  <tbody>\n",
       "    <tr>\n",
       "      <th>0</th>\n",
       "      <td>A</td>\n",
       "      <td>29</td>\n",
       "      <td>664.689655</td>\n",
       "      <td>690.0</td>\n",
       "      <td>371.793347</td>\n",
       "    </tr>\n",
       "    <tr>\n",
       "      <th>1</th>\n",
       "      <td>B</td>\n",
       "      <td>120</td>\n",
       "      <td>718.800001</td>\n",
       "      <td>690.0</td>\n",
       "      <td>381.133906</td>\n",
       "    </tr>\n",
       "  </tbody>\n",
       "</table>\n",
       "</div>"
      ],
      "text/plain": [
       "  group revenue                               \n",
       "          count        mean median         std\n",
       "0     A      29  664.689655  690.0  371.793347\n",
       "1     B     120  718.800001  690.0  381.133906"
      ]
     },
     "execution_count": 38,
     "metadata": {},
     "output_type": "execute_result"
    }
   ],
   "source": [
    "# Создаем сводную таблицу, в которой указываем количество пользователей,\n",
    "# которые НЕ были активны и сделали покупку, их среднее, медиана и стандартное отклонение.\n",
    "# Не выяснив причин возникновения данной ошибки мы решили не включать данных пользователей в эксперимент.\n",
    "active_and_nopay_us_mean = no_active_and_pay \\\n",
    "    .groupby('group', as_index=False) \\\n",
    "    .agg({'revenue':['count','mean','median','std']})\n",
    "active_and_nopay_us_mean"
   ]
  },
  {
   "cell_type": "code",
   "execution_count": 39,
   "id": "1ead90ca",
   "metadata": {
    "colab": {
     "base_uri": "https://localhost:8080/",
     "height": 206
    },
    "id": "ugc5AxW25_9g",
    "outputId": "642406f2-ec2b-42aa-aab7-e355670ceca2"
   },
   "outputs": [
    {
     "data": {
      "text/html": [
       "<div>\n",
       "<style scoped>\n",
       "    .dataframe tbody tr th:only-of-type {\n",
       "        vertical-align: middle;\n",
       "    }\n",
       "\n",
       "    .dataframe tbody tr th {\n",
       "        vertical-align: top;\n",
       "    }\n",
       "\n",
       "    .dataframe thead th {\n",
       "        text-align: right;\n",
       "    }\n",
       "</style>\n",
       "<table border=\"1\" class=\"dataframe\">\n",
       "  <thead>\n",
       "    <tr style=\"text-align: right;\">\n",
       "      <th></th>\n",
       "      <th>id</th>\n",
       "      <th>group</th>\n",
       "      <th>revenue</th>\n",
       "      <th>active</th>\n",
       "    </tr>\n",
       "  </thead>\n",
       "  <tbody>\n",
       "    <tr>\n",
       "      <th>1</th>\n",
       "      <td>1627</td>\n",
       "      <td>A</td>\n",
       "      <td>990.0000</td>\n",
       "      <td>1.0</td>\n",
       "    </tr>\n",
       "    <tr>\n",
       "      <th>220</th>\n",
       "      <td>100300</td>\n",
       "      <td>B</td>\n",
       "      <td>990.0000</td>\n",
       "      <td>1.0</td>\n",
       "    </tr>\n",
       "    <tr>\n",
       "      <th>320</th>\n",
       "      <td>108270</td>\n",
       "      <td>B</td>\n",
       "      <td>290.0000</td>\n",
       "      <td>1.0</td>\n",
       "    </tr>\n",
       "    <tr>\n",
       "      <th>3779</th>\n",
       "      <td>264473</td>\n",
       "      <td>B</td>\n",
       "      <td>1900.0001</td>\n",
       "      <td>1.0</td>\n",
       "    </tr>\n",
       "    <tr>\n",
       "      <th>4187</th>\n",
       "      <td>274352</td>\n",
       "      <td>B</td>\n",
       "      <td>690.0000</td>\n",
       "      <td>1.0</td>\n",
       "    </tr>\n",
       "  </tbody>\n",
       "</table>\n",
       "</div>"
      ],
      "text/plain": [
       "          id group    revenue  active\n",
       "1       1627     A   990.0000     1.0\n",
       "220   100300     B   990.0000     1.0\n",
       "320   108270     B   290.0000     1.0\n",
       "3779  264473     B  1900.0001     1.0\n",
       "4187  274352     B   690.0000     1.0"
      ]
     },
     "execution_count": 39,
     "metadata": {},
     "output_type": "execute_result"
    }
   ],
   "source": [
    "# Для проведения статистических тестов мы решили учитывать только активных пользователей, \n",
    "# совершивших покупку.\n",
    "active_and_pay =  groups_rev_ac.query('active > 0 & revenue > 0')\n",
    "active_and_pay.head()"
   ]
  },
  {
   "cell_type": "code",
   "execution_count": 40,
   "id": "d7ce45ce",
   "metadata": {
    "colab": {
     "base_uri": "https://localhost:8080/",
     "height": 143
    },
    "id": "aW5OR9Tc5_9h",
    "outputId": "ded241f5-f040-4298-f812-8dd468d3d322"
   },
   "outputs": [
    {
     "data": {
      "text/html": [
       "<div>\n",
       "<style scoped>\n",
       "    .dataframe tbody tr th:only-of-type {\n",
       "        vertical-align: middle;\n",
       "    }\n",
       "\n",
       "    .dataframe tbody tr th {\n",
       "        vertical-align: top;\n",
       "    }\n",
       "\n",
       "    .dataframe thead tr th {\n",
       "        text-align: left;\n",
       "    }\n",
       "</style>\n",
       "<table border=\"1\" class=\"dataframe\">\n",
       "  <thead>\n",
       "    <tr>\n",
       "      <th></th>\n",
       "      <th>group</th>\n",
       "      <th colspan=\"4\" halign=\"left\">revenue</th>\n",
       "    </tr>\n",
       "    <tr>\n",
       "      <th></th>\n",
       "      <th></th>\n",
       "      <th>count</th>\n",
       "      <th>mean</th>\n",
       "      <th>median</th>\n",
       "      <th>std</th>\n",
       "    </tr>\n",
       "  </thead>\n",
       "  <tbody>\n",
       "    <tr>\n",
       "      <th>0</th>\n",
       "      <td>A</td>\n",
       "      <td>107</td>\n",
       "      <td>860.710280</td>\n",
       "      <td>690.0</td>\n",
       "      <td>815.893445</td>\n",
       "    </tr>\n",
       "    <tr>\n",
       "      <th>1</th>\n",
       "      <td>B</td>\n",
       "      <td>434</td>\n",
       "      <td>1108.824893</td>\n",
       "      <td>935.0</td>\n",
       "      <td>741.834304</td>\n",
       "    </tr>\n",
       "  </tbody>\n",
       "</table>\n",
       "</div>"
      ],
      "text/plain": [
       "  group revenue                                \n",
       "          count         mean median         std\n",
       "0     A     107   860.710280  690.0  815.893445\n",
       "1     B     434  1108.824893  935.0  741.834304"
      ]
     },
     "execution_count": 40,
     "metadata": {},
     "output_type": "execute_result"
    }
   ],
   "source": [
    "# Все пользователи.\n",
    "all_users =  groups_rev_ac.query('revenue > 0')\n",
    "all_users_mean = all_users \\\n",
    "    .groupby('group', as_index=False) \\\n",
    "    .agg({'revenue':['count', 'mean','median','std']})\n",
    "all_users_mean"
   ]
  },
  {
   "cell_type": "code",
   "execution_count": 41,
   "id": "fa3fad98",
   "metadata": {
    "colab": {
     "base_uri": "https://localhost:8080/",
     "height": 143
    },
    "id": "AABhTMnX5_9h",
    "outputId": "775bf8a4-cdb8-4df3-cfe2-f69c524b7670"
   },
   "outputs": [
    {
     "data": {
      "text/html": [
       "<div>\n",
       "<style scoped>\n",
       "    .dataframe tbody tr th:only-of-type {\n",
       "        vertical-align: middle;\n",
       "    }\n",
       "\n",
       "    .dataframe tbody tr th {\n",
       "        vertical-align: top;\n",
       "    }\n",
       "\n",
       "    .dataframe thead tr th {\n",
       "        text-align: left;\n",
       "    }\n",
       "</style>\n",
       "<table border=\"1\" class=\"dataframe\">\n",
       "  <thead>\n",
       "    <tr>\n",
       "      <th></th>\n",
       "      <th>group</th>\n",
       "      <th colspan=\"4\" halign=\"left\">revenue</th>\n",
       "    </tr>\n",
       "    <tr>\n",
       "      <th></th>\n",
       "      <th></th>\n",
       "      <th>count</th>\n",
       "      <th>mean</th>\n",
       "      <th>median</th>\n",
       "      <th>std</th>\n",
       "    </tr>\n",
       "  </thead>\n",
       "  <tbody>\n",
       "    <tr>\n",
       "      <th>0</th>\n",
       "      <td>A</td>\n",
       "      <td>78</td>\n",
       "      <td>933.589744</td>\n",
       "      <td>585.0</td>\n",
       "      <td>919.932711</td>\n",
       "    </tr>\n",
       "    <tr>\n",
       "      <th>1</th>\n",
       "      <td>B</td>\n",
       "      <td>314</td>\n",
       "      <td>1257.878992</td>\n",
       "      <td>1140.0</td>\n",
       "      <td>790.864254</td>\n",
       "    </tr>\n",
       "  </tbody>\n",
       "</table>\n",
       "</div>"
      ],
      "text/plain": [
       "  group revenue                                 \n",
       "          count         mean  median         std\n",
       "0     A      78   933.589744   585.0  919.932711\n",
       "1     B     314  1257.878992  1140.0  790.864254"
      ]
     },
     "execution_count": 41,
     "metadata": {},
     "output_type": "execute_result"
    }
   ],
   "source": [
    "# Для статиситческого теста используется \n",
    "# количество пользователей, которые были активны и сделали покупку, \n",
    "# их среднее, медиана и стандартное отклонение.\n",
    "active_and_pay_us_mean = active_and_pay \\\n",
    "    .groupby('group', as_index=False) \\\n",
    "    .agg({'revenue':['count', 'mean','median','std']})\n",
    "active_and_pay_us_mean"
   ]
  },
  {
   "cell_type": "markdown",
   "id": "f2e615d1",
   "metadata": {
    "id": "2-vi63795_9h"
   },
   "source": [
    "Проведение статистических тестов."
   ]
  },
  {
   "cell_type": "markdown",
   "id": "ecd22b7a",
   "metadata": {
    "id": "XhBVdaRE5_9h"
   },
   "source": [
    "Т-тест Стьюдента."
   ]
  },
  {
   "cell_type": "code",
   "execution_count": 42,
   "id": "76ca31ee",
   "metadata": {
    "id": "MqpEGkJy5_9i"
   },
   "outputs": [],
   "source": [
    "# Проверяем распределение выборочного среднего.\n",
    "all_count = round(active_and_pay['revenue'].count())\n",
    "all_mean = active_and_pay['revenue'].mean()\n",
    "all_std = active_and_pay['revenue'].std()\n",
    "sample_mean_distribution = \\\n",
    "    pd.Series([np.random.normal(all_mean, all_std, size=all_count).mean() for i in range(1000)])"
   ]
  },
  {
   "cell_type": "code",
   "execution_count": 43,
   "id": "6a064fe6",
   "metadata": {
    "colab": {
     "base_uri": "https://localhost:8080/",
     "height": 282
    },
    "id": "XAYtbdhl5_9i",
    "outputId": "1283634d-c352-46bc-b99b-b5563fc04bd0"
   },
   "outputs": [
    {
     "data": {
      "text/plain": [
       "<AxesSubplot:>"
      ]
     },
     "execution_count": 43,
     "metadata": {},
     "output_type": "execute_result"
    },
    {
     "data": {
      "image/png": "[encoded data removed]",
      "text/plain": [
       "<Figure size 432x288 with 1 Axes>"
      ]
     },
     "metadata": {
      "needs_background": "light"
     },
     "output_type": "display_data"
    }
   ],
   "source": [
    "sample_mean_distribution.hist()"
   ]
  },
  {
   "cell_type": "code",
   "execution_count": 44,
   "id": "b5f78d1a",
   "metadata": {
    "colab": {
     "base_uri": "https://localhost:8080/",
     "height": 295
    },
    "id": "_MYxhAsb5_9i",
    "outputId": "d995b569-80b9-4fc7-d062-0bc93a2d4bff"
   },
   "outputs": [
    {
     "data": {
      "image/png": "[encoded data removed]",
      "text/plain": [
       "<Figure size 432x288 with 1 Axes>"
      ]
     },
     "metadata": {
      "needs_background": "light"
     },
     "output_type": "display_data"
    }
   ],
   "source": [
    "st.probplot(sample_mean_distribution, dist=\"norm\", plot=pylab)\n",
    "pylab.show()"
   ]
  },
  {
   "cell_type": "code",
   "execution_count": 45,
   "id": "87d13130",
   "metadata": {
    "colab": {
     "base_uri": "https://localhost:8080/"
    },
    "id": "iXPM566z5_9i",
    "outputId": "cc9aa834-3dd7-4bfe-8cf2-c3bba71a6de6"
   },
   "outputs": [
    {
     "data": {
      "text/plain": [
       "0.08025675761347022"
      ]
     },
     "execution_count": 45,
     "metadata": {},
     "output_type": "execute_result"
    }
   ],
   "source": [
    "# Проверка гомогенности дисперсий.\n",
    "# Данный тест проверяет нулевую гипотезу о том, что входные выборки взяты\n",
    "# из популяции с одинаковой дисперcией.\n",
    "stat, p = levene(data_revenue_a, data_revenue_b, center='median')\n",
    "p"
   ]
  },
  {
   "cell_type": "code",
   "execution_count": 46,
   "id": "469caa29",
   "metadata": {
    "colab": {
     "base_uri": "https://localhost:8080/",
     "height": 49,
     "referenced_widgets": [
      "db9394970c854cccb6263385aa2f60e1",
      "50cfc74929624b33b81464c5dc134988",
      "09b68e732fc744b1a9b546120f7e708e",
      "0bf5f18f521b42baa94ead977b49437e",
      "a02325fd18d0468db39a4b705b22bcd6",
      "614565e31f5044a59aaf1e6b6311a3cc",
      "f71f1d024ad341ecb0a3a551f3a1a3c4",
      "487694a34d4240b18fbbc532fc3d86ed",
      "bce2a5c616ed4bffb22657e655529d51",
      "18510e507b02426aa6149fde8f52706f",
      "2ba7622b4f4a4803b70177d2f6038f2e"
     ]
    },
    "id": "S66ywRFc5_9j",
    "outputId": "153978d6-9eca-45df-fd96-75377ae76da8"
   },
   "outputs": [
    {
     "data": {
      "application/vnd.jupyter.widget-view+json": {
       "model_id": "b4116443985c40e8a2ec901ab18c538b",
       "version_major": 2,
       "version_minor": 0
      },
      "text/plain": [
       "  0%|          | 0/10000 [00:00<?, ?it/s]"
      ]
     },
     "metadata": {},
     "output_type": "display_data"
    }
   ],
   "source": [
    "# Проверяем мощность t-теста для наших размеров выборок.\n",
    "baseline = data_revenue_a.mean()\n",
    "mde = data_revenue_b.mean() - data_revenue_a.mean()\n",
    "std_a = data_revenue_a.std()\n",
    "std_b = data_revenue_b.std()\n",
    "sample_size_a = len(data_revenue_a)\n",
    "sample_size_b = len(data_revenue_b)\n",
    "result = []\n",
    "n = 10000\n",
    "for _ in tqdm(range(n)):\n",
    "  a = np.random.normal(baseline, std_a, size=sample_size_a)\n",
    "  b = np.random.normal(baseline + mde, std_b, size=sample_size_b)\n",
    "  _, pval = ttest_ind(a, b, equal_var=False)\n",
    "  result.append(pval)"
   ]
  },
  {
   "cell_type": "code",
   "execution_count": 47,
   "id": "291b309a",
   "metadata": {
    "colab": {
     "base_uri": "https://localhost:8080/"
    },
    "id": "aIU_eBo45_9j",
    "outputId": "7af04c22-82cb-4767-cf7c-b088ec8efd1c"
   },
   "outputs": [
    {
     "data": {
      "text/plain": [
       "0.8102"
      ]
     },
     "execution_count": 47,
     "metadata": {},
     "output_type": "execute_result"
    }
   ],
   "source": [
    "# Мощность нашего теста.\n",
    "t = pd.Series(result)\n",
    "(t < 0.05).mean()"
   ]
  },
  {
   "cell_type": "code",
   "execution_count": 48,
   "id": "d7778c9f",
   "metadata": {
    "colab": {
     "base_uri": "https://localhost:8080/",
     "height": 49,
     "referenced_widgets": [
      "af0df8a37add429a9aad00c7f87027f8",
      "8357b898f04344668c9117299301c174",
      "890608c4a39248418dda59bdfefd31dc",
      "500b0439b771433f9c000445c388bd84",
      "a7a1b658ca884048807dd36ca912db84",
      "8777b13fb6b74a0a8e555d52cd040b4f",
      "fb8cbb305dfb485eb405be1178ee3b2b",
      "2bcdfc9a0b384d79ab4648348142bd98",
      "bfbf1ef2d9294134900dd4c8a7c77cf6",
      "ec9d862ae59d48f786b67335ecac508e",
      "1086a0e07937414f8a6921606dcfc1d2"
     ]
    },
    "id": "MHcmEMoC5_9j",
    "outputId": "26615648-fbcb-4136-8b2d-ac5be803f33c"
   },
   "outputs": [
    {
     "data": {
      "application/vnd.jupyter.widget-view+json": {
       "model_id": "26ed150f66eb4addac2dd471d08c27d3",
       "version_major": 2,
       "version_minor": 0
      },
      "text/plain": [
       "  0%|          | 0/10000 [00:00<?, ?it/s]"
      ]
     },
     "metadata": {},
     "output_type": "display_data"
    }
   ],
   "source": [
    "# Проверяем пригодность теста. Генерируем выборки из одного распределения.\n",
    "# p-value должно быть распределено равномерно.\n",
    "baseline = data_revenue_a.mean()\n",
    "std = data_revenue_a.std()\n",
    "sample_size = len(data_revenue_a)\n",
    "result = []\n",
    "n = 10000\n",
    "for _ in tqdm(range(n)):\n",
    "  a = np.random.normal(baseline, std, size=sample_size)\n",
    "  b = np.random.normal(baseline, std, size=sample_size)\n",
    "  _, pval = ttest_ind(a,b,equal_var=False)\n",
    "  result.append(pval)"
   ]
  },
  {
   "cell_type": "code",
   "execution_count": 49,
   "id": "bdba4f7b",
   "metadata": {
    "id": "lSZsraNG5_9k"
   },
   "outputs": [],
   "source": [
    "t = pd.Series(result)"
   ]
  },
  {
   "cell_type": "code",
   "execution_count": 50,
   "id": "e4f5a56f",
   "metadata": {
    "colab": {
     "base_uri": "https://localhost:8080/",
     "height": 282
    },
    "id": "Ws17u9695_9k",
    "outputId": "946abb26-da36-4b0c-a29e-d1a29f3481bc"
   },
   "outputs": [
    {
     "data": {
      "text/plain": [
       "<AxesSubplot:>"
      ]
     },
     "execution_count": 50,
     "metadata": {},
     "output_type": "execute_result"
    },
    {
     "data": {
      "image/png": "[encoded data removed]",
      "text/plain": [
       "<Figure size 432x288 with 1 Axes>"
      ]
     },
     "metadata": {
      "needs_background": "light"
     },
     "output_type": "display_data"
    }
   ],
   "source": [
    "# Распределение равномерное.\n",
    "t.hist()"
   ]
  },
  {
   "cell_type": "code",
   "execution_count": 51,
   "id": "51f1eee6",
   "metadata": {
    "colab": {
     "base_uri": "https://localhost:8080/",
     "height": 286
    },
    "id": "Y9r9giIP5_9k",
    "outputId": "5f1688f5-7d75-42e0-b90a-73f21b247f09"
   },
   "outputs": [
    {
     "data": {
      "text/plain": [
       "<AxesSubplot:ylabel='Proportion'>"
      ]
     },
     "execution_count": 51,
     "metadata": {},
     "output_type": "execute_result"
    },
    {
     "data": {
      "image/png": "[encoded data removed]",
      "text/plain": [
       "<Figure size 432x288 with 1 Axes>"
      ]
     },
     "metadata": {
      "needs_background": "light"
     },
     "output_type": "display_data"
    }
   ],
   "source": [
    "# Это еще один способ проверки равномерности распределения.\n",
    "# В случае искривления прямой распределение не равномерное.\n",
    "sns.ecdfplot(t)"
   ]
  },
  {
   "cell_type": "code",
   "execution_count": 52,
   "id": "f0582f10",
   "metadata": {
    "colab": {
     "base_uri": "https://localhost:8080/",
     "height": 295
    },
    "id": "2UuwS_Tk5_9k",
    "outputId": "0f1bca33-3ae9-490d-c785-ea634592823c"
   },
   "outputs": [
    {
     "data": {
      "image/png": "[encoded data removed]",
      "text/plain": [
       "<Figure size 432x288 with 1 Axes>"
      ]
     },
     "metadata": {
      "needs_background": "light"
     },
     "output_type": "display_data"
    }
   ],
   "source": [
    "# Также равномерность распределения удобно проверить с помощью QQ графика.\n",
    "st.probplot(t, dist=\"uniform\", plot=pylab)\n",
    "pylab.show()"
   ]
  },
  {
   "cell_type": "code",
   "execution_count": 53,
   "id": "0f9ff774",
   "metadata": {
    "colab": {
     "base_uri": "https://localhost:8080/"
    },
    "id": "iJBf3RKw5_9k",
    "outputId": "ccd74ccc-605b-4339-94f7-2e7a56d885b5"
   },
   "outputs": [
    {
     "data": {
      "text/plain": [
       "0.0478"
      ]
     },
     "execution_count": 53,
     "metadata": {},
     "output_type": "execute_result"
    }
   ],
   "source": [
    "# Все хорошо. Ошибка первого рода (False positive) не превышает 5%.\n",
    "(t < 0.05).mean()"
   ]
  },
  {
   "cell_type": "code",
   "execution_count": 54,
   "id": "5e517b2b",
   "metadata": {
    "id": "YODwO4s05_9l"
   },
   "outputs": [],
   "source": [
    "# Проверяем, какой размер выборок нам нужен для достижения нужной нам мощности еще одним способом.\n",
    "mean_a = active_and_pay.query('group == \"A\"')['revenue'].mean()\n",
    "mean_b = active_and_pay.query('group == \"B\"')['revenue'].mean()\n",
    "es = (mean_b - mean_a)/ active_and_pay['revenue'].std()"
   ]
  },
  {
   "cell_type": "code",
   "execution_count": 55,
   "id": "44d6df60",
   "metadata": {
    "colab": {
     "base_uri": "https://localhost:8080/"
    },
    "id": "uzTtSVyQ5_9l",
    "outputId": "e7540366-ea80-4c00-b0ec-8c4e21e66176"
   },
   "outputs": [
    {
     "data": {
      "text/plain": [
       "61.59594762782996"
      ]
     },
     "execution_count": 55,
     "metadata": {},
     "output_type": "execute_result"
    }
   ],
   "source": [
    "# Рекомендуемый размер выборки A для требуемых параметров.\n",
    "sms.TTestIndPower().solve_power(es, power=0.80, alpha=0.05, ratio=5/1)"
   ]
  },
  {
   "cell_type": "code",
   "execution_count": 56,
   "id": "6aedf1c7",
   "metadata": {
    "colab": {
     "base_uri": "https://localhost:8080/"
    },
    "id": "WinUyqgZ5_9l",
    "outputId": "3f3a6f89-f59d-4332-8fa7-e4368f59e90c"
   },
   "outputs": [
    {
     "data": {
      "text/plain": [
       "307.9797380300894"
      ]
     },
     "execution_count": 56,
     "metadata": {},
     "output_type": "execute_result"
    }
   ],
   "source": [
    "# Рекомендуемый размер выборки B для требуемых параметров.\n",
    "sms.TTestIndPower().solve_power(es, power=0.80, alpha=0.05, ratio=1/5)"
   ]
  },
  {
   "cell_type": "code",
   "execution_count": 57,
   "id": "9065894c",
   "metadata": {
    "colab": {
     "base_uri": "https://localhost:8080/",
     "height": 49,
     "referenced_widgets": [
      "e730acc08abf43ca8df7523414955acb",
      "ba376b2882af40c1993124bcc77439e9",
      "d219b8e5199049babd96368d722b7263",
      "5d1c5d9fff0449a2ad40b49fdd8480c1",
      "57091b8e30be4b84955c3a54ce12009b",
      "7b1b6a339ef1408eb0b73ded9079188b",
      "c814ca43e7dc45fbb85883ec8eba978e",
      "4a085c544e974bf0a6e47a3beb7c13a4",
      "efda7dba95034b9f912d1e5c29dca558",
      "403eb12e99b34b039a37defa05e77920",
      "bff9dbdef61646bca733a0bb1b221a9b"
     ]
    },
    "id": "8KacyJJF5_9m",
    "outputId": "95ff71fd-e5c2-46d9-b07b-5211bde033f3"
   },
   "outputs": [
    {
     "data": {
      "application/vnd.jupyter.widget-view+json": {
       "model_id": "e232abb01719431fbc0ba032940545df",
       "version_major": 2,
       "version_minor": 0
      },
      "text/plain": [
       "  0%|          | 0/10000 [00:00<?, ?it/s]"
      ]
     },
     "metadata": {},
     "output_type": "display_data"
    }
   ],
   "source": [
    "# Проводим тест на наших данных.\n",
    "n = 10000\n",
    "result = []\n",
    "for _ in tqdm(range(n)):\n",
    "  control = data_revenue_a\n",
    "  test = data_revenue_b\n",
    "  _, pval = ttest_ind(control, test, equal_var=False)\n",
    "  result.append(pval)"
   ]
  },
  {
   "cell_type": "code",
   "execution_count": 58,
   "id": "03f98962",
   "metadata": {
    "colab": {
     "base_uri": "https://localhost:8080/"
    },
    "id": "s_NXCp7V5_9m",
    "outputId": "0cdbd128-3e9a-4c7a-b98d-c237fb1554ae"
   },
   "outputs": [
    {
     "data": {
      "text/plain": [
       "1.0"
      ]
     },
     "execution_count": 58,
     "metadata": {},
     "output_type": "execute_result"
    }
   ],
   "source": [
    "# Мощность\n",
    "t = pd.Series(result)\n",
    "(t < 0.05).mean()"
   ]
  },
  {
   "cell_type": "code",
   "execution_count": 59,
   "id": "3353e1b2",
   "metadata": {
    "colab": {
     "base_uri": "https://localhost:8080/"
    },
    "id": "NNgM44wZ5_9m",
    "outputId": "9beaa9d1-d24d-41c0-e9f9-91c424d5d4f9"
   },
   "outputs": [
    {
     "data": {
      "text/plain": [
       "0.0050697340127997485"
      ]
     },
     "execution_count": 59,
     "metadata": {},
     "output_type": "execute_result"
    }
   ],
   "source": [
    "# p-value\n",
    "t.mean()\n",
    "# T-тест показал ошибку первого рода меньше 0.05 это говорит о том,\n",
    "# что у нас между выборками есть статистически значимые различия."
   ]
  },
  {
   "cell_type": "markdown",
   "id": "18c4f2a5",
   "metadata": {
    "id": "GApiGMoh5_9n"
   },
   "source": [
    "Проверим наши данные на bootstrap.\n",
    "    \n",
    "\n"
   ]
  },
  {
   "cell_type": "code",
   "execution_count": 60,
   "id": "1d6ffe0e",
   "metadata": {
    "id": "gj1BNR9H5_9n"
   },
   "outputs": [],
   "source": [
    "# Функция bootstrap\n",
    "def bootstrap(control,test):\n",
    "  n = 100 # Определяем количество эксперементов.\n",
    "  result = [] # Создаем пустой список для результатов теста.\n",
    "  base_diff = np.abs(control.mean() - test.mean()) # Абсольтная разница, которая получилась \n",
    "                                                   # в реальном эксперементе.\n",
    "  merged = pd.Series(np.concatenate((control,test))) # Соединяем наши выборки в одну.\n",
    "\n",
    "  for _ in range(n): # Создаем цикл, который будет складывать p-value в result.\n",
    "    control = merged.sample(100, replace=True)\n",
    "    test = merged.sample(100, replace=True)\n",
    "\n",
    "    diff = np.abs(control.mean() - test.mean()) # Считаем абсолютную разницу средених в полученных выборках.\n",
    "\n",
    "    result.append(diff >= base_diff) # Считаем количество значений равное или больше наблюдаемому\n",
    "                                     # в проведенном эксперименте (прямо как в определении p-value:))\n",
    "            \n",
    "  return pd.Series(result).mean() # Взяв среднее по result мы получили наш p-value."
   ]
  },
  {
   "cell_type": "code",
   "execution_count": 61,
   "id": "d43f5cf2",
   "metadata": {
    "colab": {
     "base_uri": "https://localhost:8080/",
     "height": 49,
     "referenced_widgets": [
      "44cee91070c74f40b1c1172a2581b7e4",
      "b03e3b3897cb4955a6c12a3152a50a97",
      "d954659bcc114ba5a334c830b3839a77",
      "4e2008cc8ca1496a87aefe957d0314a1",
      "8713646f0a5546ab961307a0d9a5c448",
      "4847d392ab2f4f29a035f0b420771f5a",
      "4cfaf519e2b04af190a12d9389bd5061",
      "e19714edb0654041bd98c3cb980f9145",
      "0e0077991ef4473ab413ab8d78111c47",
      "634a837fb07846ceab2e1c2590de3887",
      "b62c81364c8d4d76815bb8ee22a5f771"
     ]
    },
    "id": "ZpALP6n45_9n",
    "outputId": "20df5a4c-245e-46be-8999-dd5f694fa6b2"
   },
   "outputs": [
    {
     "data": {
      "application/vnd.jupyter.widget-view+json": {
       "model_id": "56acc8b1456b496aa980a0a5b9d23bd8",
       "version_major": 2,
       "version_minor": 0
      },
      "text/plain": [
       "  0%|          | 0/100 [00:00<?, ?it/s]"
      ]
     },
     "metadata": {},
     "output_type": "display_data"
    }
   ],
   "source": [
    "# Проверка нашего теста. \n",
    "n = 100\n",
    "result = []\n",
    "for _ in tqdm(range(n)):\n",
    "  control = data_revenue_a\n",
    "  test = data_revenue_b\n",
    "  pval = bootstrap(control,test)\n",
    "\n",
    "  result.append(pval)"
   ]
  },
  {
   "cell_type": "code",
   "execution_count": 62,
   "id": "e9be2242",
   "metadata": {
    "colab": {
     "base_uri": "https://localhost:8080/"
    },
    "id": "Z7Si-VqP5_9q",
    "outputId": "90dfd464-f0e8-4cf3-dfec-1d0228ef509c"
   },
   "outputs": [
    {
     "data": {
      "text/plain": [
       "1.0"
      ]
     },
     "execution_count": 62,
     "metadata": {},
     "output_type": "execute_result"
    }
   ],
   "source": [
    "# Мощьность нашего теста.\n",
    "t = pd.Series(result)\n",
    "(t < 0.05).mean()"
   ]
  },
  {
   "cell_type": "code",
   "execution_count": 63,
   "id": "aaaa7863",
   "metadata": {
    "colab": {
     "base_uri": "https://localhost:8080/"
    },
    "id": "RhCu5Mc-5_9q",
    "outputId": "b124501d-b13a-4624-e006-01c1ba9bb766"
   },
   "outputs": [
    {
     "data": {
      "text/plain": [
       "0.006700000000000004"
      ]
     },
     "execution_count": 63,
     "metadata": {},
     "output_type": "execute_result"
    }
   ],
   "source": [
    "# p-value нашего теста.\n",
    "t.mean()"
   ]
  },
  {
   "cell_type": "markdown",
   "id": "900f6638",
   "metadata": {
    "id": "ZhP1oC8F5_9q"
   },
   "source": [
    "Проведем тест Манна-Уитни."
   ]
  },
  {
   "cell_type": "code",
   "execution_count": 64,
   "id": "604f8804",
   "metadata": {
    "colab": {
     "base_uri": "https://localhost:8080/",
     "height": 49,
     "referenced_widgets": [
      "8c35c13980304601a2508c3ac905d233",
      "f1516b099dc44379bd3b7147411b1822",
      "ebe70c8977c4457e8a0b9d0821cedff6",
      "d8097be3d26a43eabb902f79b69d6d14",
      "1d5946d6c34840de88828afc47cdbfd3",
      "c0225c4416b94c53875cedc0d3e4f92c",
      "1b96dc3d72e34e7eb8d03f337512c2ab",
      "14a38a7c136946f2b307d23c4f7ef215",
      "4f34211a61f0405bbb6b32985a287d0e",
      "f4db159ef26c4f4b81d3245955264fb8",
      "4d91f9fa67bc496bad94cc9c147e305b"
     ]
    },
    "id": "TufRrdH45_9r",
    "outputId": "0719fd65-9734-43ba-c12b-62eeba57c0bd"
   },
   "outputs": [
    {
     "data": {
      "application/vnd.jupyter.widget-view+json": {
       "model_id": "bd79f183eb4a45cab8b4cc5d18c1c9c1",
       "version_major": 2,
       "version_minor": 0
      },
      "text/plain": [
       "  0%|          | 0/10000 [00:00<?, ?it/s]"
      ]
     },
     "metadata": {},
     "output_type": "display_data"
    }
   ],
   "source": [
    "n = 10000\n",
    "result = []\n",
    "for _ in tqdm(range(n)):\n",
    "  control = data_revenue_a\n",
    "  test = data_revenue_b\n",
    "  _, pval = mannwhitneyu(control, test, alternative='two-sided')\n",
    "  result.append(pval)"
   ]
  },
  {
   "cell_type": "code",
   "execution_count": 65,
   "id": "1e398f3e",
   "metadata": {
    "colab": {
     "base_uri": "https://localhost:8080/"
    },
    "id": "5HevfhLZ5_9r",
    "outputId": "554eabc7-8532-459b-d144-c5f8fe08d0db"
   },
   "outputs": [
    {
     "data": {
      "text/plain": [
       "1.0"
      ]
     },
     "execution_count": 65,
     "metadata": {},
     "output_type": "execute_result"
    }
   ],
   "source": [
    "# Мощность нашего теста.\n",
    "t = pd.Series(result)\n",
    "(t < 0.05).mean()"
   ]
  },
  {
   "cell_type": "code",
   "execution_count": 66,
   "id": "9ed91e90",
   "metadata": {
    "colab": {
     "base_uri": "https://localhost:8080/"
    },
    "id": "OsPD8RzK5_9r",
    "outputId": "b90af905-cb1c-4b0a-9467-a35049fb9f7a"
   },
   "outputs": [
    {
     "data": {
      "text/plain": [
       "0.0002511393831406302"
      ]
     },
     "execution_count": 66,
     "metadata": {},
     "output_type": "execute_result"
    }
   ],
   "source": [
    "# p-value нашего теста.\n",
    "t.mean()"
   ]
  },
  {
   "cell_type": "markdown",
   "id": "c4f04866",
   "metadata": {
    "id": "W-DejEDq5_9r"
   },
   "source": [
    "Попробуем с помощью функции понять какое у нас распределение, а потом провести тест\n",
    "Манн-Уитни."
   ]
  },
  {
   "cell_type": "code",
   "execution_count": 67,
   "id": "37998051",
   "metadata": {
    "id": "igbWNm5L5_9s"
   },
   "outputs": [],
   "source": [
    "fit_distribution = groups_rev_ac.query('revenue > 0' )"
   ]
  },
  {
   "cell_type": "code",
   "execution_count": 68,
   "id": "5d13a1e1",
   "metadata": {
    "colab": {
     "base_uri": "https://localhost:8080/",
     "height": 1000
    },
    "id": "wsJpdKoV5_9s",
    "outputId": "c10c0a9c-527a-42c6-9e81-e1997fa46840"
   },
   "outputs": [
    {
     "name": "stdout",
     "output_type": "stream",
     "text": [
      "  1 / 101: ksone\n",
      "  2 / 101: kstwo\n",
      "  3 / 101: kstwobign\n",
      "  4 / 101: norm\n",
      "  5 / 101: alpha\n",
      "  6 / 101: anglit\n",
      "  7 / 101: arcsine\n",
      "  8 / 101: beta\n",
      "  9 / 101: betaprime\n",
      " 10 / 101: bradford\n",
      " 11 / 101: burr\n",
      " 12 / 101: burr12\n",
      " 13 / 101: fisk\n",
      " 14 / 101: cauchy\n",
      " 15 / 101: chi\n",
      " 16 / 101: chi2\n",
      " 17 / 101: cosine\n",
      " 18 / 101: dgamma\n",
      " 19 / 101: dweibull\n",
      " 20 / 101: expon\n",
      " 21 / 101: exponnorm\n",
      " 22 / 101: exponweib\n",
      " 23 / 101: exponpow\n",
      " 24 / 101: fatiguelife\n",
      " 25 / 101: foldcauchy\n",
      " 26 / 101: f\n",
      " 27 / 101: foldnorm\n",
      " 28 / 101: weibull_min\n",
      " 29 / 101: weibull_max\n",
      " 30 / 101: genlogistic\n",
      " 31 / 101: genpareto\n",
      " 32 / 101: genexpon\n",
      " 33 / 101: genextreme\n",
      " 34 / 101: gamma\n",
      " 35 / 101: erlang\n",
      " 36 / 101: gengamma\n",
      " 37 / 101: genhalflogistic\n",
      " 38 / 101: gompertz\n",
      " 39 / 101: gumbel_r\n",
      " 40 / 101: gumbel_l\n",
      " 41 / 101: halfcauchy\n",
      " 42 / 101: halflogistic\n",
      " 43 / 101: halfnorm\n",
      " 44 / 101: hypsecant\n",
      " 45 / 101: gausshyper\n",
      " 46 / 101: invgamma\n",
      " 47 / 101: invgauss\n",
      " 48 / 101: geninvgauss\n",
      " 49 / 101: norminvgauss\n",
      " 50 / 101: invweibull\n",
      " 51 / 101: johnsonsb\n",
      " 52 / 101: johnsonsu\n",
      " 53 / 101: laplace\n",
      " 54 / 101: laplace_asymmetric\n",
      " 55 / 101: levy\n",
      " 56 / 101: levy_l\n",
      " 57 / 101: logistic\n",
      " 58 / 101: loggamma\n",
      " 59 / 101: loglaplace\n",
      " 60 / 101: lognorm\n",
      " 61 / 101: gilbrat\n",
      " 62 / 101: maxwell\n",
      " 63 / 101: mielke\n",
      " 64 / 101: kappa4\n",
      " 65 / 101: kappa3\n",
      " 66 / 101: moyal\n",
      " 67 / 101: nakagami\n",
      " 68 / 101: ncx2\n",
      " 69 / 101: ncf\n",
      " 70 / 101: t\n",
      " 71 / 101: nct\n",
      " 72 / 101: pareto\n",
      " 73 / 101: lomax\n",
      " 74 / 101: pearson3\n",
      " 75 / 101: powerlaw\n",
      " 76 / 101: powerlognorm\n",
      " 77 / 101: powernorm\n",
      " 78 / 101: rdist\n",
      " 79 / 101: rayleigh\n",
      " 80 / 101: loguniform\n",
      " 81 / 101: reciprocal\n",
      " 82 / 101: rice\n",
      " 83 / 101: recipinvgauss\n",
      " 84 / 101: semicircular\n",
      " 85 / 101: skewnorm\n",
      " 86 / 101: trapezoid\n",
      " 87 / 101: trapz\n",
      " 88 / 101: triang\n",
      " 89 / 101: truncexpon\n",
      " 90 / 101: truncnorm\n",
      " 91 / 101: tukeylambda\n",
      " 92 / 101: uniform\n",
      " 93 / 101: vonmises\n",
      " 94 / 101: vonmises_line\n",
      " 95 / 101: wald\n",
      " 96 / 101: wrapcauchy\n",
      " 97 / 101: gennorm\n",
      " 98 / 101: halfgennorm\n",
      " 99 / 101: crystalball\n",
      "100 / 101: argus\n"
     ]
    },
    {
     "data": {
      "text/plain": [
       "Text(0, 0.5, 'Frequency')"
      ]
     },
     "execution_count": 68,
     "metadata": {},
     "output_type": "execute_result"
    },
    {
     "data": {
      "image/png": "[encoded data removed]",
      "text/plain": [
       "<Figure size 360x360 with 1 Axes>"
      ]
     },
     "metadata": {},
     "output_type": "display_data"
    },
    {
     "data": {
      "image/png": "[encoded data removed]",
      "text/plain": [
       "<Figure size 360x360 with 1 Axes>"
      ]
     },
     "metadata": {},
     "output_type": "display_data"
    }
   ],
   "source": [
    "matplotlib.rcParams['figure.figsize'] = (5.0, 5.0)\n",
    "matplotlib.style.use('ggplot')\n",
    "\n",
    "# Create models from data\n",
    "def best_fit_distribution(data, bins=200, ax=None):\n",
    "    \"\"\"Model data by finding best fit distribution to data\"\"\"\n",
    "    # Get histogram of original data\n",
    "    y, x = np.histogram(data, bins=bins, density=True)\n",
    "    x = (x + np.roll(x, -1))[:-1] / 2.0\n",
    "\n",
    "    # Best holders\n",
    "    best_distributions = []\n",
    "\n",
    "    # Estimate distribution parameters from data\n",
    "    for ii, distribution in enumerate([d for d in _distn_names if not d in ['levy_stable', 'studentized_range']]):\n",
    "\n",
    "        print(\"{:>3} / {:<3}: {}\".format( ii+1, len(_distn_names), distribution ))\n",
    "\n",
    "        distribution = getattr(st, distribution)\n",
    "\n",
    "        # Try to fit the distribution\n",
    "        try:\n",
    "            # Ignore warnings from data that can't be fit\n",
    "            with warnings.catch_warnings():\n",
    "                warnings.filterwarnings('ignore')\n",
    "                \n",
    "                # fit dist to data\n",
    "                params = distribution.fit(data)\n",
    "\n",
    "                # Separate parts of parameters\n",
    "                arg = params[:-2]\n",
    "                loc = params[-2]\n",
    "                scale = params[-1]\n",
    "                \n",
    "                # Calculate fitted PDF and error with fit in distribution\n",
    "                pdf = distribution.pdf(x, loc=loc, scale=scale, *arg)\n",
    "                sse = np.sum(np.power(y - pdf, 2.0))\n",
    "                \n",
    "                # if axis pass in add to plot\n",
    "                try:\n",
    "                    if ax:\n",
    "                        pd.Series(pdf, x).plot(ax=ax)\n",
    "                    end\n",
    "                except Exception:\n",
    "                    pass\n",
    "\n",
    "                # identify if this distribution is better\n",
    "                best_distributions.append((distribution, params, sse))\n",
    "        \n",
    "        except Exception:\n",
    "            pass\n",
    "\n",
    "    \n",
    "    return sorted(best_distributions, key=lambda x:x[2])\n",
    "\n",
    "def make_pdf(dist, params, size=10000):\n",
    "    \"\"\"Generate distributions's Probability Distribution Function \"\"\"\n",
    "\n",
    "    # Separate parts of parameters\n",
    "    arg = params[:-2]\n",
    "    loc = params[-2]\n",
    "    scale = params[-1]\n",
    "\n",
    "    # Get sane start and end points of distribution\n",
    "    start = dist.ppf(0.01, *arg, loc=loc, scale=scale) if arg else dist.ppf(0.01, loc=loc, scale=scale)\n",
    "    end = dist.ppf(0.99, *arg, loc=loc, scale=scale) if arg else dist.ppf(0.99, loc=loc, scale=scale)\n",
    "\n",
    "    # Build PDF and turn into pandas Series\n",
    "    x = np.linspace(start, end, size)\n",
    "    y = dist.pdf(x, loc=loc, scale=scale, *arg)\n",
    "    pdf = pd.Series(y, x)\n",
    "\n",
    "    return pdf\n",
    "\n",
    "# Load data from statsmodels datasets\n",
    "data = fit_distribution['revenue']\n",
    "\n",
    "# Plot for comparison\n",
    "plt.figure(figsize=(5,5))\n",
    "ax = data.plot(kind='hist', bins=50, density=True, alpha=0.5, color=list(matplotlib.rcParams['axes.prop_cycle'])[1]['color'])\n",
    "\n",
    "# Save plot limits\n",
    "dataYLim = ax.get_ylim()\n",
    "\n",
    "# Find best fit distribution\n",
    "best_distibutions = best_fit_distribution(data, 200, ax)\n",
    "best_dist = best_distibutions[0]\n",
    "\n",
    "# Update plots\n",
    "ax.set_ylim(dataYLim)\n",
    "ax.set_title(u'El Niño sea temp.\\n All Fitted Distributions')\n",
    "ax.set_xlabel(u'Temp (°C)')\n",
    "ax.set_ylabel('Frequency')\n",
    "\n",
    "# Make PDF with best params \n",
    "pdf = make_pdf(best_dist[0], best_dist[1])\n",
    "\n",
    "# Display\n",
    "plt.figure(figsize=(5,5))\n",
    "ax = pdf.plot(lw=2, label='PDF', legend=True)\n",
    "data.plot(kind='hist', bins=50, density=True, alpha=0.5, label='Data', legend=True, ax=ax)\n",
    "\n",
    "param_names = (best_dist[0].shapes + ', loc, scale').split(', ') if best_dist[0].shapes else ['loc', 'scale']\n",
    "param_str = ', '.join(['{}={:0.2f}'.format(k,v) for k,v in zip(param_names, best_dist[1])])\n",
    "dist_str = '{}({})'.format(best_dist[0].name, param_str)\n",
    "\n",
    "ax.set_title(u'El Niño sea temp. with best fit distribution \\n' + dist_str)\n",
    "ax.set_xlabel(u'Temp. (°C)')\n",
    "ax.set_ylabel('Frequency')"
   ]
  },
  {
   "cell_type": "code",
   "execution_count": 69,
   "id": "82dfbfc6",
   "metadata": {
    "colab": {
     "base_uri": "https://localhost:8080/",
     "height": 424
    },
    "id": "QlY1hU5q5_9s",
    "outputId": "3f0ce5e7-4583-40c9-83ea-30300d78a20f"
   },
   "outputs": [
    {
     "data": {
      "text/html": [
       "<div>\n",
       "<style scoped>\n",
       "    .dataframe tbody tr th:only-of-type {\n",
       "        vertical-align: middle;\n",
       "    }\n",
       "\n",
       "    .dataframe tbody tr th {\n",
       "        vertical-align: top;\n",
       "    }\n",
       "\n",
       "    .dataframe thead th {\n",
       "        text-align: right;\n",
       "    }\n",
       "</style>\n",
       "<table border=\"1\" class=\"dataframe\">\n",
       "  <thead>\n",
       "    <tr style=\"text-align: right;\">\n",
       "      <th></th>\n",
       "      <th>0</th>\n",
       "      <th>1</th>\n",
       "      <th>2</th>\n",
       "    </tr>\n",
       "  </thead>\n",
       "  <tbody>\n",
       "    <tr>\n",
       "      <th>0</th>\n",
       "      <td>&lt;scipy.stats._continuous_distns.beta_gen objec...</td>\n",
       "      <td>(0.6440161382107279, 14.509469739592314, 198.9...</td>\n",
       "      <td>2.383463e-04</td>\n",
       "    </tr>\n",
       "    <tr>\n",
       "      <th>1</th>\n",
       "      <td>&lt;scipy.stats._continuous_distns.chi_gen object...</td>\n",
       "      <td>(0.7101906160540404, 198.99999999999994, 1265....</td>\n",
       "      <td>2.389449e-04</td>\n",
       "    </tr>\n",
       "    <tr>\n",
       "      <th>2</th>\n",
       "      <td>&lt;scipy.stats._continuous_distns.geninvgauss_ge...</td>\n",
       "      <td>(0.7459260554362112, 7.317946544145188e-10, 19...</td>\n",
       "      <td>2.389913e-04</td>\n",
       "    </tr>\n",
       "    <tr>\n",
       "      <th>3</th>\n",
       "      <td>&lt;scipy.stats._continuous_distns.exponpow_gen o...</td>\n",
       "      <td>(0.7439717793587342, 198.99999999999994, 1471....</td>\n",
       "      <td>2.393756e-04</td>\n",
       "    </tr>\n",
       "    <tr>\n",
       "      <th>4</th>\n",
       "      <td>&lt;scipy.stats._continuous_distns.pearson3_gen o...</td>\n",
       "      <td>(2.3300018273214462, 954.5580860939862, 880.22...</td>\n",
       "      <td>2.393959e-04</td>\n",
       "    </tr>\n",
       "    <tr>\n",
       "      <th>...</th>\n",
       "      <td>...</td>\n",
       "      <td>...</td>\n",
       "      <td>...</td>\n",
       "    </tr>\n",
       "    <tr>\n",
       "      <th>95</th>\n",
       "      <td>&lt;scipy.stats._continuous_distns.trapezoid_gen ...</td>\n",
       "      <td>(0.9999999999999999, 1.0, -258.405, 5341.19999...</td>\n",
       "      <td>2.681435e-04</td>\n",
       "    </tr>\n",
       "    <tr>\n",
       "      <th>96</th>\n",
       "      <td>&lt;scipy.stats._continuous_distns.weibull_max_ge...</td>\n",
       "      <td>(0.10451001257030429, 4650.000000000001, 1.756...</td>\n",
       "      <td>2.803493e-04</td>\n",
       "    </tr>\n",
       "    <tr>\n",
       "      <th>97</th>\n",
       "      <td>&lt;scipy.stats._continuous_distns.vonmises_gen o...</td>\n",
       "      <td>(0.2780379559002264, 1911.3484333899905, 3.757...</td>\n",
       "      <td>3.823128e+45</td>\n",
       "    </tr>\n",
       "    <tr>\n",
       "      <th>90</th>\n",
       "      <td>&lt;scipy.stats._continuous_distns.powernorm_gen ...</td>\n",
       "      <td>(2.626421387304855e-05, -190.55704359652202, 5...</td>\n",
       "      <td>NaN</td>\n",
       "    </tr>\n",
       "    <tr>\n",
       "      <th>98</th>\n",
       "      <td>&lt;scipy.stats._continuous_distns.wrapcauchy_gen...</td>\n",
       "      <td>(1.0, -246.10000000000002, 850.0783820424314)</td>\n",
       "      <td>NaN</td>\n",
       "    </tr>\n",
       "  </tbody>\n",
       "</table>\n",
       "<p>99 rows × 3 columns</p>\n",
       "</div>"
      ],
      "text/plain": [
       "                                                    0  \\\n",
       "0   <scipy.stats._continuous_distns.beta_gen objec...   \n",
       "1   <scipy.stats._continuous_distns.chi_gen object...   \n",
       "2   <scipy.stats._continuous_distns.geninvgauss_ge...   \n",
       "3   <scipy.stats._continuous_distns.exponpow_gen o...   \n",
       "4   <scipy.stats._continuous_distns.pearson3_gen o...   \n",
       "..                                                ...   \n",
       "95  <scipy.stats._continuous_distns.trapezoid_gen ...   \n",
       "96  <scipy.stats._continuous_distns.weibull_max_ge...   \n",
       "97  <scipy.stats._continuous_distns.vonmises_gen o...   \n",
       "90  <scipy.stats._continuous_distns.powernorm_gen ...   \n",
       "98  <scipy.stats._continuous_distns.wrapcauchy_gen...   \n",
       "\n",
       "                                                    1             2  \n",
       "0   (0.6440161382107279, 14.509469739592314, 198.9...  2.383463e-04  \n",
       "1   (0.7101906160540404, 198.99999999999994, 1265....  2.389449e-04  \n",
       "2   (0.7459260554362112, 7.317946544145188e-10, 19...  2.389913e-04  \n",
       "3   (0.7439717793587342, 198.99999999999994, 1471....  2.393756e-04  \n",
       "4   (2.3300018273214462, 954.5580860939862, 880.22...  2.393959e-04  \n",
       "..                                                ...           ...  \n",
       "95  (0.9999999999999999, 1.0, -258.405, 5341.19999...  2.681435e-04  \n",
       "96  (0.10451001257030429, 4650.000000000001, 1.756...  2.803493e-04  \n",
       "97  (0.2780379559002264, 1911.3484333899905, 3.757...  3.823128e+45  \n",
       "90  (2.626421387304855e-05, -190.55704359652202, 5...           NaN  \n",
       "98      (1.0, -246.10000000000002, 850.0783820424314)           NaN  \n",
       "\n",
       "[99 rows x 3 columns]"
      ]
     },
     "execution_count": 69,
     "metadata": {},
     "output_type": "execute_result"
    }
   ],
   "source": [
    "best_des = pd.DataFrame(best_distibutions).sort_values(2)\n",
    "best_des"
   ]
  },
  {
   "cell_type": "code",
   "execution_count": 70,
   "id": "ae7ba73e",
   "metadata": {
    "colab": {
     "base_uri": "https://localhost:8080/"
    },
    "id": "f9cdBOFt5_9t",
    "outputId": "6a73e4a7-eaf4-41da-db20-3966698fd09a"
   },
   "outputs": [
    {
     "data": {
      "text/plain": [
       "<scipy.stats._continuous_distns.beta_gen at 0x1aeb8afcf10>"
      ]
     },
     "execution_count": 70,
     "metadata": {},
     "output_type": "execute_result"
    }
   ],
   "source": [
    "# Распределение которое нам подобрала функция recipinvgauss_gen.\n",
    "best_des[0][0]"
   ]
  },
  {
   "cell_type": "code",
   "execution_count": 71,
   "id": "92481347",
   "metadata": {
    "id": "HXh-vr0X5_9t"
   },
   "outputs": [],
   "source": [
    "# Параметры для создания распределения анологичного нашему.\n",
    "a =  best_des[1][0][0]\n",
    "b = best_des[1][0][1]\n",
    "loc = best_des[1][0][2]"
   ]
  },
  {
   "cell_type": "code",
   "execution_count": 72,
   "id": "6035f04c",
   "metadata": {
    "colab": {
     "base_uri": "https://localhost:8080/"
    },
    "id": "smvI3SkP5_9t",
    "outputId": "5d6ceada-6c50-4f68-98ff-ffcb61c28b8a"
   },
   "outputs": [
    {
     "data": {
      "text/plain": [
       "array(522.50793763)"
      ]
     },
     "execution_count": 72,
     "metadata": {},
     "output_type": "execute_result"
    }
   ],
   "source": [
    "# Создаем распределение анологичное нашему.\n",
    "mean, var, skew, kurt = recipinvgauss.stats(a, b, loc, moments='mvsk')\n",
    "mean"
   ]
  },
  {
   "cell_type": "code",
   "execution_count": 73,
   "id": "ee876a36",
   "metadata": {
    "colab": {
     "base_uri": "https://localhost:8080/",
     "height": 143
    },
    "id": "CP79k4oI5_9t",
    "outputId": "da3b1db8-3373-4ec3-dda4-1875daf908b3"
   },
   "outputs": [
    {
     "data": {
      "text/html": [
       "<div>\n",
       "<style scoped>\n",
       "    .dataframe tbody tr th:only-of-type {\n",
       "        vertical-align: middle;\n",
       "    }\n",
       "\n",
       "    .dataframe tbody tr th {\n",
       "        vertical-align: top;\n",
       "    }\n",
       "\n",
       "    .dataframe thead tr th {\n",
       "        text-align: left;\n",
       "    }\n",
       "</style>\n",
       "<table border=\"1\" class=\"dataframe\">\n",
       "  <thead>\n",
       "    <tr>\n",
       "      <th></th>\n",
       "      <th>group</th>\n",
       "      <th colspan=\"4\" halign=\"left\">revenue</th>\n",
       "    </tr>\n",
       "    <tr>\n",
       "      <th></th>\n",
       "      <th></th>\n",
       "      <th>count</th>\n",
       "      <th>mean</th>\n",
       "      <th>median</th>\n",
       "      <th>std</th>\n",
       "    </tr>\n",
       "  </thead>\n",
       "  <tbody>\n",
       "    <tr>\n",
       "      <th>0</th>\n",
       "      <td>A</td>\n",
       "      <td>78</td>\n",
       "      <td>933.589744</td>\n",
       "      <td>585.0</td>\n",
       "      <td>919.932711</td>\n",
       "    </tr>\n",
       "    <tr>\n",
       "      <th>1</th>\n",
       "      <td>B</td>\n",
       "      <td>314</td>\n",
       "      <td>1257.878992</td>\n",
       "      <td>1140.0</td>\n",
       "      <td>790.864254</td>\n",
       "    </tr>\n",
       "  </tbody>\n",
       "</table>\n",
       "</div>"
      ],
      "text/plain": [
       "  group revenue                                 \n",
       "          count         mean  median         std\n",
       "0     A      78   933.589744   585.0  919.932711\n",
       "1     B     314  1257.878992  1140.0  790.864254"
      ]
     },
     "execution_count": 73,
     "metadata": {},
     "output_type": "execute_result"
    }
   ],
   "source": [
    "active_and_pay_us_mean"
   ]
  },
  {
   "cell_type": "code",
   "execution_count": 74,
   "id": "a7f2c0cd",
   "metadata": {
    "colab": {
     "base_uri": "https://localhost:8080/"
    },
    "id": "xu1rTPEh5_9u",
    "outputId": "65c3923d-67f0-4be0-b9d0-b26a13ba4635"
   },
   "outputs": [
    {
     "data": {
      "text/plain": [
       "934.0828566679702"
      ]
     },
     "execution_count": 74,
     "metadata": {},
     "output_type": "execute_result"
    }
   ],
   "source": [
    "# Корректируем средний под средний выборки A.\n",
    "a, b, loc = 1813483.037979085, 198.99999999973454, 734.4029149415312\n",
    "np.mean([np.mean(recipinvgauss.rvs(a, b, loc, 10000)) for i in range(1000)])"
   ]
  },
  {
   "cell_type": "code",
   "execution_count": 75,
   "id": "98010a28",
   "metadata": {
    "colab": {
     "base_uri": "https://localhost:8080/"
    },
    "id": "xJEiCjoH5_9u",
    "outputId": "4296b2f5-255e-4795-8c59-408617aa1061"
   },
   "outputs": [
    {
     "data": {
      "text/plain": [
       "1257.244422086637"
      ]
     },
     "execution_count": 75,
     "metadata": {},
     "output_type": "execute_result"
    }
   ],
   "source": [
    "# Корректируем средний под средний выборки B.\n",
    "a1, b1, loc1 = 1813483.037979085, 198.99999999973454, 1058.4029149415312\n",
    "np.mean([np.mean(recipinvgauss.rvs(a1, b1, loc1, 10000)) for i in range(1000)])"
   ]
  },
  {
   "cell_type": "code",
   "execution_count": 76,
   "id": "7e783ca0",
   "metadata": {
    "colab": {
     "base_uri": "https://localhost:8080/",
     "height": 49,
     "referenced_widgets": [
      "b4370a67d4b44c7aa83950745114be22",
      "4df4883fe71946c3b4b28539fe787bbb",
      "5c192295df4a41828fabea498dfec422",
      "34c7cc51cbb640c7ba026305700e33ab",
      "5278a20cece244899156af72b221508a",
      "327358f6a0ad49618285c0f7b5fc300e",
      "6fe579b4dc2a4867a717cd34343e7017",
      "62783de0935c4b859db0450a07a27898",
      "2959245da4754b6085d6a070b9d7aa1c",
      "5ba1ecef471941858311334d6504a7db",
      "01b5ada763744276bde61777880f484c"
     ]
    },
    "id": "bgrIriDX5_9u",
    "outputId": "8227b194-8a2b-463b-e36e-e3abdc9709d2"
   },
   "outputs": [
    {
     "data": {
      "application/vnd.jupyter.widget-view+json": {
       "model_id": "1a661e9036b142d8a836f53b96889c08",
       "version_major": 2,
       "version_minor": 0
      },
      "text/plain": [
       "  0%|          | 0/10000 [00:00<?, ?it/s]"
      ]
     },
     "metadata": {},
     "output_type": "display_data"
    }
   ],
   "source": [
    "# Проводим тест.\n",
    "result = []\n",
    "a1, b1, loc1 = 1813483.037979085, 198.99999999973454, 1058.4029149415312\n",
    "a, b, loc = 1813483.037979085, 198.99999999973454, 734.4029149415312\n",
    "n = 10000\n",
    "for _ in tqdm(range(n)):\n",
    "  control = recipinvgauss.rvs(a, b, loc, 78)\n",
    "  test = recipinvgauss.rvs(a1, b1, loc1, 314)\n",
    "  _, pval = mannwhitneyu(control, test, alternative='two-sided')\n",
    "  result.append(pval)"
   ]
  },
  {
   "cell_type": "code",
   "execution_count": 77,
   "id": "b61c031a",
   "metadata": {
    "id": "l80LFfV75_9u"
   },
   "outputs": [],
   "source": [
    "t = pd.Series(result)"
   ]
  },
  {
   "cell_type": "code",
   "execution_count": 78,
   "id": "8afaca53",
   "metadata": {
    "colab": {
     "base_uri": "https://localhost:8080/"
    },
    "id": "48iN4BX65_9v",
    "outputId": "a389eb6b-3593-46df-f37a-7162e2e709a3"
   },
   "outputs": [
    {
     "data": {
      "text/plain": [
       "0.3418"
      ]
     },
     "execution_count": 78,
     "metadata": {},
     "output_type": "execute_result"
    }
   ],
   "source": [
    "# Мощность теста очень низкая.\n",
    "(t < 0.05).mean()"
   ]
  },
  {
   "cell_type": "code",
   "execution_count": 79,
   "id": "b13a8100",
   "metadata": {
    "colab": {
     "base_uri": "https://localhost:8080/"
    },
    "id": "ozca6K1R5_9v",
    "outputId": "3b50d4bb-3fcd-408b-d4e8-0f8ea9930235"
   },
   "outputs": [
    {
     "data": {
      "text/plain": [
       "0.2289579978104504"
      ]
     },
     "execution_count": 79,
     "metadata": {},
     "output_type": "execute_result"
    }
   ],
   "source": [
    "# p-value также высокий.\n",
    "t.mean()"
   ]
  },
  {
   "cell_type": "code",
   "execution_count": 80,
   "id": "718ad572",
   "metadata": {
    "colab": {
     "base_uri": "https://localhost:8080/",
     "height": 49,
     "referenced_widgets": [
      "f19dbabb8a794a1ea05afcb7d22cc045",
      "43cd006907fa4849b064541f5b50b31a",
      "8ba33220af764901afd998de5e451a0d",
      "94062085e9944798864566257cc5207b",
      "38fb9b3d1b8f4a2a9ab2844888296738",
      "de83809aedc0421fac6f3d76d3e59d9f",
      "a892ae117c7c4d15b25cf7de4101c9be",
      "2f16afbff4df4f9fbb6c931f2a645f06",
      "a0391fdc6b934873bf66cd6820a9112d",
      "7b490d321796457db282a9dc2c0963ad",
      "c44d7cb256a242ca9105156e0b3de8ad"
     ]
    },
    "id": "D3BnWAyn5_9v",
    "outputId": "e8610e43-813c-40d8-f929-977486dfc79e"
   },
   "outputs": [
    {
     "data": {
      "application/vnd.jupyter.widget-view+json": {
       "model_id": "58a73ceccc9b45ea951519bf44c13155",
       "version_major": 2,
       "version_minor": 0
      },
      "text/plain": [
       "  0%|          | 0/10000 [00:00<?, ?it/s]"
      ]
     },
     "metadata": {},
     "output_type": "display_data"
    }
   ],
   "source": [
    "# Проверяем тест на адекватность.\n",
    "result = []\n",
    "a1, b1, loc1 = 1813483.037979085, 198.99999999973454, 1058.4029149415312\n",
    "n = 10000\n",
    "for _ in tqdm(range(n)):\n",
    "  control = recipinvgauss.rvs(a1, b1, loc1, 78)\n",
    "  test = recipinvgauss.rvs(a1, b1, loc1, 314)\n",
    "  _, pval = mannwhitneyu(control, test, alternative='two-sided')\n",
    "  result.append(pval)"
   ]
  },
  {
   "cell_type": "code",
   "execution_count": 81,
   "id": "a094f8df",
   "metadata": {
    "id": "cw2fAnmJ5_9v"
   },
   "outputs": [],
   "source": [
    "t = pd.Series(result)"
   ]
  },
  {
   "cell_type": "code",
   "execution_count": 82,
   "id": "f1838d00",
   "metadata": {
    "colab": {
     "base_uri": "https://localhost:8080/"
    },
    "id": "pjcwZx5f5_9v",
    "outputId": "d78865a3-7e79-42f4-a9f3-658cede1d6ee"
   },
   "outputs": [
    {
     "data": {
      "text/plain": [
       "0.05"
      ]
     },
     "execution_count": 82,
     "metadata": {},
     "output_type": "execute_result"
    }
   ],
   "source": [
    "(t < 0.05).mean()"
   ]
  },
  {
   "cell_type": "code",
   "execution_count": 83,
   "id": "7a207e40",
   "metadata": {
    "colab": {
     "base_uri": "https://localhost:8080/",
     "height": 354
    },
    "id": "bJvHo0G15_9w",
    "outputId": "c91394c1-74db-472c-acee-f34331541414"
   },
   "outputs": [
    {
     "data": {
      "image/png": "[encoded data removed]",
      "text/plain": [
       "<Figure size 360x360 with 1 Axes>"
      ]
     },
     "metadata": {},
     "output_type": "display_data"
    }
   ],
   "source": [
    "st.probplot(t, dist=\"uniform\", plot=pylab)\n",
    "pylab.show()"
   ]
  },
  {
   "cell_type": "markdown",
   "id": "630ef0a5",
   "metadata": {
    "id": "gDgd6g4C5_9w"
   },
   "source": [
    "В наших выборках слишком мало наблюдений. Увеличение количества наблюдений может положительно повлиять на подбор нужного распределения и мощности теста."
   ]
  },
  {
   "cell_type": "markdown",
   "id": "34b0e509",
   "metadata": {
    "id": "pHZQg0Wu5_9w"
   },
   "source": [
    "Анализ.\n",
    "    1. Возникает вопрос: почему у нас целевая группа больше контрольное, ведь любое внесение изменений оплачивается заказчиком?\n",
    "           Возможно у нас такая маленькая контрольная группа из-за ошибки. Стоит выяснить. Разница в              выборках 20/80 очень большая. Стоит обязательно провести А/А тест. \n",
    "    2. Почему у нас есть пользователи, которые не были активны, но совершили покупку?\n",
    "           После выяснения причин возникновения данной ошибки мы можем принять решение включать ли                этих пользователей в наши статистические тесты.\n",
    "    3. Из какого сегмента пришли пользователи на платформу с покупкой в 1900?\n",
    "           Таких пользователей 30%, это существенная часть всех пользователей группы \"B\".\n",
    "           В дальнейшем нужно выяснить что это за сегмент.\n",
    "           Явно видно, что приток пользователей, приобретающей данную услугу увеличился. Стоит оценить            каковы перспективы извлечения выгоды и долгосрочный ли это эффект. Возможно в дальнейшем это            можно будет монитизировать.\n",
    "    4. Почему у нас есть покупки с точностью до десятитысячных 1900.0001?\n",
    "           Это 11% от всех пользователей в группе \"B\". Нужно выяснить почему так вышло.\n",
    "           Данная погрешность не существенна. Если это не дубли, то можно ничего не предпринимать."
   ]
  },
  {
   "cell_type": "markdown",
   "id": "51d49fcf",
   "metadata": {
    "id": "gLzpjLNv5_9w"
   },
   "source": [
    "Вывод: \n",
    "  Возможные метрики - это средний чек и относительный CR активных пользователей. У нас был не большой выбор из-за малого количества факторов. Выбор метрик зависит от нашего EOC. Поскольку изменение касается способа оплаты, то мы можем передположить, что при прохождении воронки выбор способа оплаты снижал относительную конверсию в покупку. Это было причиной внедрения изменений. Также можно предположить, что внесенные изменения в способ оплаты увеличат средний чек у пользователей. Например, оплата покупок по частям увеличивает покупательскую способность клиента, следевательно средний чек вырастает. CR - такая метрика, которую нельзя расматривать без привязки к финансовым метрикам, поскольку это не всегда наилучший вариант оптимизации прибыли. Зачастую гораздо выгоднее привлечь более платёжеспособных пользователей, несмотря на то, что CR может уменьшиться. Выбираем исследуемую метрику - средний чек.\n",
    "   После предварительного анализа мы выявили, что у нас есть измнения между контрольной и целевой группой. Они выражаются в росте среднего чека. В качестве нулевой гипотезы принимаем, что увеличения среднего чека случайны, и на самом деле никакой разницы нет. Альтернативная гипотеза говорит о том, что изменения среднего чека значимы и не случайны.\n",
    "  В результате проведения статистических тестов мы выяснили, что все проведенные тесты показали нам уровень p-value значительно меньше 0,05. Принимаем альтернативную гипотезу.\n",
    "  Перед запуском изменений на всех пользователей можно было бы провести более детальный анализ пользователей с покупкой в 1900, узнать, что это за сегмент пользователей. Откуда к нам пришли эти пользователи и насколько долгосрочным будет этот эффект от внесенного изменения. После этого можно проверить статистическими тестами относительный CR активных пользователей, является ли случайным его снижение. Затем можно соотнести снижение CR c повышением среднего чека. И уже после этого принимать решение о запуске изменений."
   ]
  }
 ],
 "metadata": {
  "kernelspec": {
   "display_name": "Python 3",
   "language": "python",
   "name": "python3"
  },
  "language_info": {
   "codemirror_mode": {
    "name": "ipython",
    "version": 3
   },
   "file_extension": ".py",
   "mimetype": "text/x-python",
   "name": "python",
   "nbconvert_exporter": "python",
   "pygments_lexer": "ipython3",
   "version": "3.8.8"
  }
 },
 "nbformat": 4,
 "nbformat_minor": 5
}
