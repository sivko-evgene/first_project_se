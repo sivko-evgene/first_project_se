{
 "cells": [
  {
   "cell_type": "code",
   "execution_count": 1,
   "id": "d22efd4c",
   "metadata": {},
   "outputs": [
    {
     "name": "stderr",
     "output_type": "stream",
     "text": [
      "C:\\Users\\User\\anaconda3\\lib\\site-packages\\statsmodels\\tsa\\base\\tsa_model.py:7: FutureWarning: pandas.Int64Index is deprecated and will be removed from pandas in a future version. Use pandas.Index with the appropriate dtype instead.\n",
      "  from pandas import (to_datetime, Int64Index, DatetimeIndex, Period,\n",
      "C:\\Users\\User\\anaconda3\\lib\\site-packages\\statsmodels\\tsa\\base\\tsa_model.py:7: FutureWarning: pandas.Float64Index is deprecated and will be removed from pandas in a future version. Use pandas.Index with the appropriate dtype instead.\n",
      "  from pandas import (to_datetime, Int64Index, DatetimeIndex, Period,\n"
     ]
    }
   ],
   "source": [
    "import pandas as pd\n",
    "import numpy as np\n",
    "%matplotlib inline\n",
    "import matplotlib.pyplot as plt\n",
    "import seaborn as sns\n",
    "import csv\n",
    "import plotly.express as px\n",
    "from datetime import datetime as dt, timedelta\n",
    "import pylab \n",
    "import scipy.stats as st\n",
    "import statsmodels.stats.api as sms\n",
    "import random\n",
    "from tqdm.notebook import tqdm\n",
    "from scipy.stats import norm, mannwhitneyu\n",
    "from scipy.stats import ttest_ind\n",
    "from tqdm.auto import tqdm\n",
    "from scipy.stats import levene\n",
    "import warnings\n",
    "import statsmodels.api as sm\n",
    "from scipy.stats._continuous_distns import _distn_names\n",
    "import matplotlib\n",
    "from scipy.stats import recipinvgauss\n",
    "from pandasql import sqldf\n",
    "import requests\n",
    "from urllib.parse import urlencode\n",
    "import sqlite3"
   ]
  },
  {
   "cell_type": "markdown",
   "id": "69f34ed2",
   "metadata": {
    "id": "D04jQUEH5_9x"
   },
   "source": [
    "# Задание 2. SQL"
   ]
  },
  {
   "cell_type": "markdown",
   "id": "f200079b",
   "metadata": {
    "id": "mPO6jNxb5_9x"
   },
   "source": [
    "2.1.1 Условие\n",
    "\n",
    "Образовательные курсы состоят из различных уроков,\n",
    "каждый из которых состоит из нескольких маленьких заданий.\n",
    "Каждое такое маленькое задание называется \"горошиной\".\n",
    "Назовём очень усердным учеником того пользователя, \n",
    "который хотя бы раз за текущий месяц правильно решил 20 горошин за час."
   ]
  },
  {
   "cell_type": "markdown",
   "id": "80cff8b7",
   "metadata": {
    "id": "Aoh4e_HO5_9x"
   },
   "source": [
    "Необходимо написать оптимальный запрос, \n",
    "который даст информацию о количестве очень усердных студентов за март 2020 года.\n",
    "NB! Под усердным студентом мы понимаем студента, \n",
    "который правильно решил 20 задач за текущий месяц."
   ]
  },
  {
   "cell_type": "markdown",
   "id": "5842b1eb",
   "metadata": {
    "id": "hZ7rmVur9PxY"
   },
   "source": [
    "SQL-выражение\n",
    "Синтаксической разбор\n",
    "Компоновка\n",
    "Оптимизация запроса\n",
    "Выполнение запроса\n",
    "Результаты запроса\n",
    "\n",
    "1. FROM\n",
    "2. ON\n",
    "3. JOIN\n",
    "4. WHERE\n",
    "5. GROUP BY\n",
    "6. WITH CUBE или WITH ROLLUP\n",
    "7. HAVING\n",
    "8. SELECT\n",
    "10. ORDER BY\n",
    "11. TOP\n",
    "12. SELECT (возврат результирующего датасета).\n",
    "\n",
    "\n",
    "2. Понимание как храняться данные и выбираются(индексы, порциции)\n",
    "3. Знания как физически выполняется JOIN(nested loops, hash and merge join)\n",
    "4. Базовые принцыпы оптимизации."
   ]
  },
  {
   "cell_type": "code",
   "execution_count": null,
   "id": "9c2a750a",
   "metadata": {
    "id": "xKZ-2Y5JFK8r"
   },
   "outputs": [],
   "source": [
    "#con = sqlite3.connect('/content/drive/MyDrive/my_data/progect_1')"
   ]
  },
  {
   "cell_type": "code",
   "execution_count": null,
   "id": "f8899390",
   "metadata": {
    "id": "QYXacbTQFOBr"
   },
   "outputs": [],
   "source": [
    "#df.to_sql('progect_1',con,index=False,if_exists='replace')"
   ]
  },
  {
   "cell_type": "code",
   "execution_count": 2,
   "id": "c635de50",
   "metadata": {
    "colab": {
     "base_uri": "https://localhost:8080/",
     "height": 206
    },
    "id": "mT710YMJ5_9x",
    "outputId": "ff5cb0bb-e037-42b7-8c32-6bc4c8b922f9"
   },
   "outputs": [
    {
     "data": {
      "text/html": [
       "<div>\n",
       "<style scoped>\n",
       "    .dataframe tbody tr th:only-of-type {\n",
       "        vertical-align: middle;\n",
       "    }\n",
       "\n",
       "    .dataframe tbody tr th {\n",
       "        vertical-align: top;\n",
       "    }\n",
       "\n",
       "    .dataframe thead th {\n",
       "        text-align: right;\n",
       "    }\n",
       "</style>\n",
       "<table border=\"1\" class=\"dataframe\">\n",
       "  <thead>\n",
       "    <tr style=\"text-align: right;\">\n",
       "      <th></th>\n",
       "      <th>st_id</th>\n",
       "      <th>times_start</th>\n",
       "      <th>timest</th>\n",
       "      <th>correct</th>\n",
       "      <th>subject</th>\n",
       "    </tr>\n",
       "  </thead>\n",
       "  <tbody>\n",
       "    <tr>\n",
       "      <th>0</th>\n",
       "      <td>380</td>\n",
       "      <td>2020-03-01 00:00:00</td>\n",
       "      <td>1</td>\n",
       "      <td>True</td>\n",
       "      <td>philosophy</td>\n",
       "    </tr>\n",
       "    <tr>\n",
       "      <th>1</th>\n",
       "      <td>402</td>\n",
       "      <td>2020-03-01 00:30:00</td>\n",
       "      <td>0</td>\n",
       "      <td>True</td>\n",
       "      <td>physics</td>\n",
       "    </tr>\n",
       "    <tr>\n",
       "      <th>2</th>\n",
       "      <td>376</td>\n",
       "      <td>2020-03-01 01:00:00</td>\n",
       "      <td>2</td>\n",
       "      <td>False</td>\n",
       "      <td>sociology</td>\n",
       "    </tr>\n",
       "    <tr>\n",
       "      <th>3</th>\n",
       "      <td>419</td>\n",
       "      <td>2020-03-01 01:30:00</td>\n",
       "      <td>1</td>\n",
       "      <td>True</td>\n",
       "      <td>physics</td>\n",
       "    </tr>\n",
       "    <tr>\n",
       "      <th>4</th>\n",
       "      <td>381</td>\n",
       "      <td>2020-03-01 02:00:00</td>\n",
       "      <td>1</td>\n",
       "      <td>True</td>\n",
       "      <td>physics</td>\n",
       "    </tr>\n",
       "  </tbody>\n",
       "</table>\n",
       "</div>"
      ],
      "text/plain": [
       "   st_id         times_start  timest  correct     subject\n",
       "0    380 2020-03-01 00:00:00       1     True  philosophy\n",
       "1    402 2020-03-01 00:30:00       0     True     physics\n",
       "2    376 2020-03-01 01:00:00       2    False   sociology\n",
       "3    419 2020-03-01 01:30:00       1     True     physics\n",
       "4    381 2020-03-01 02:00:00       1     True     physics"
      ]
     },
     "execution_count": 2,
     "metadata": {},
     "output_type": "execute_result"
    }
   ],
   "source": [
    "# Генерируем таблицу peas.\n",
    "n = 1333\n",
    "peas = pd.DataFrame({'st_id': np.random.poisson(400,size=n)})\n",
    "\n",
    "start_date = pd.to_datetime('2020-03-01')\n",
    "times_start = pd.date_range(start_date, periods=n, freq='30min')\n",
    "\n",
    "peas['times_start'] = times_start\n",
    "\n",
    "peas['timest'] = np.random.poisson(2,size=n)\n",
    "\n",
    "peas['correct'] = pd.Series([True, True, True, True, True, True, True, True, True, False, False]) \\\n",
    "    .sample(len(peas),replace=True,random_state=42) \\\n",
    "    .values\n",
    "\n",
    "peas['subject'] = pd.Series(['math', 'economics', 'sociology', 'philosophy', 'physics']) \\\n",
    "    .sample(len(peas),replace=True,random_state=42) \\\n",
    "    .values\n",
    "peas.head()"
   ]
  },
  {
   "cell_type": "code",
   "execution_count": 3,
   "id": "85e77a49",
   "metadata": {
    "id": "2IufHaWD5_9x"
   },
   "outputs": [],
   "source": [
    "# 1. Когорты по месяцам.\n",
    "# 2. Ученик правильно решил.\n",
    "# 3. Решил 20 горошин.\n",
    "# 4. Какое количество таких учеников в когорте за март 2020.\n",
    "# решение №1\n",
    "q = \"\"\"--EXPLAIN QUERY PLAN \n",
    "          WITH  peas_activ_march as (SELECT strftime('%Y-%m', times_start) as month,\n",
    "                  count(st_id)         \n",
    "          FROM peas\n",
    "          WHERE correct = 1 and month ='2020-03'\n",
    "          GROUP BY month, st_id\n",
    "          HAVING count(st_id) >= 20)\n",
    "      SELECT COUNT(*) AS active_students_March\n",
    "      FROM peas_activ_march\n",
    "     \n",
    "        \"\"\""
   ]
  },
  {
   "cell_type": "code",
   "execution_count": 4,
   "id": "37e77d94",
   "metadata": {
    "colab": {
     "base_uri": "https://localhost:8080/",
     "height": 81
    },
    "id": "5xvGAPzH5_9y",
    "outputId": "a7985f7e-fe6f-48ee-b66c-9cd45d1ff651"
   },
   "outputs": [
    {
     "data": {
      "text/html": [
       "<div>\n",
       "<style scoped>\n",
       "    .dataframe tbody tr th:only-of-type {\n",
       "        vertical-align: middle;\n",
       "    }\n",
       "\n",
       "    .dataframe tbody tr th {\n",
       "        vertical-align: top;\n",
       "    }\n",
       "\n",
       "    .dataframe thead th {\n",
       "        text-align: right;\n",
       "    }\n",
       "</style>\n",
       "<table border=\"1\" class=\"dataframe\">\n",
       "  <thead>\n",
       "    <tr style=\"text-align: right;\">\n",
       "      <th></th>\n",
       "      <th>active_students_March</th>\n",
       "    </tr>\n",
       "  </thead>\n",
       "  <tbody>\n",
       "    <tr>\n",
       "      <th>0</th>\n",
       "      <td>18</td>\n",
       "    </tr>\n",
       "  </tbody>\n",
       "</table>\n",
       "</div>"
      ],
      "text/plain": [
       "   active_students_March\n",
       "0                     18"
      ]
     },
     "execution_count": 4,
     "metadata": {},
     "output_type": "execute_result"
    }
   ],
   "source": [
    "sqldf(q)"
   ]
  },
  {
   "cell_type": "code",
   "execution_count": 5,
   "id": "5b9adb93",
   "metadata": {
    "id": "JERHvx_MBy_n"
   },
   "outputs": [],
   "source": [
    "# решение №2\n",
    "q = \"\"\"--EXPLAIN QUERY PLAN\n",
    "       SELECT  COUNT(t.st_id) as active_students_March -- выводит результат количества учеников больше 20\n",
    "       FROM (SELECT strftime('%Y-%m', times_start) as month, -- приводит время начала выполнения к году и мецяцу\n",
    "                    SUM(correct) as correct, -- считает сумму правильных ответов\n",
    "                    st_id -- выводит ид учеников\n",
    "            FROM peas\n",
    "            GROUP BY st_id, month, correct\n",
    "            HAVING month = '2020-03'\n",
    "            ) t\n",
    "        WHERE t.correct >= 20 -- условие что правильных решений больше 20\n",
    "        \"\"\""
   ]
  },
  {
   "cell_type": "code",
   "execution_count": 6,
   "id": "cd92820a",
   "metadata": {
    "colab": {
     "base_uri": "https://localhost:8080/",
     "height": 81
    },
    "id": "GokVWRovBzCw",
    "outputId": "d2160eb9-f349-4eba-c92c-2953e6061ada"
   },
   "outputs": [
    {
     "data": {
      "text/html": [
       "<div>\n",
       "<style scoped>\n",
       "    .dataframe tbody tr th:only-of-type {\n",
       "        vertical-align: middle;\n",
       "    }\n",
       "\n",
       "    .dataframe tbody tr th {\n",
       "        vertical-align: top;\n",
       "    }\n",
       "\n",
       "    .dataframe thead th {\n",
       "        text-align: right;\n",
       "    }\n",
       "</style>\n",
       "<table border=\"1\" class=\"dataframe\">\n",
       "  <thead>\n",
       "    <tr style=\"text-align: right;\">\n",
       "      <th></th>\n",
       "      <th>active_students_March</th>\n",
       "    </tr>\n",
       "  </thead>\n",
       "  <tbody>\n",
       "    <tr>\n",
       "      <th>0</th>\n",
       "      <td>18</td>\n",
       "    </tr>\n",
       "  </tbody>\n",
       "</table>\n",
       "</div>"
      ],
      "text/plain": [
       "   active_students_March\n",
       "0                     18"
      ]
     },
     "execution_count": 6,
     "metadata": {},
     "output_type": "execute_result"
    }
   ],
   "source": [
    "sqldf(q)"
   ]
  },
  {
   "cell_type": "markdown",
   "id": "6c0a2975",
   "metadata": {
    "id": "J8-2VQaj5_9y"
   },
   "source": [
    "2.2 Оптимизация воронки\n",
    "2.2.1 Условие\n",
    "Образовательная платформа предлагает пройти студентам курсы по модели trial:\n",
    "студент может решить бесплатно лишь 30 горошин в день.\n",
    "Для неограниченого количества заданий в определенной дисциплине\n",
    "студенту необходимо приобрести полный доступ. Команда провела эксперимент,\n",
    "где был протестирован новый экран оплаты."
   ]
  },
  {
   "cell_type": "code",
   "execution_count": 7,
   "id": "73986495",
   "metadata": {
    "colab": {
     "base_uri": "https://localhost:8080/",
     "height": 206
    },
    "id": "tHPCamVC5_9y",
    "outputId": "c13a9e50-2595-4335-8209-662f2adbd58c"
   },
   "outputs": [
    {
     "data": {
      "text/html": [
       "<div>\n",
       "<style scoped>\n",
       "    .dataframe tbody tr th:only-of-type {\n",
       "        vertical-align: middle;\n",
       "    }\n",
       "\n",
       "    .dataframe tbody tr th {\n",
       "        vertical-align: top;\n",
       "    }\n",
       "\n",
       "    .dataframe thead th {\n",
       "        text-align: right;\n",
       "    }\n",
       "</style>\n",
       "<table border=\"1\" class=\"dataframe\">\n",
       "  <thead>\n",
       "    <tr style=\"text-align: right;\">\n",
       "      <th></th>\n",
       "      <th>st_id</th>\n",
       "      <th>test_grp</th>\n",
       "    </tr>\n",
       "  </thead>\n",
       "  <tbody>\n",
       "    <tr>\n",
       "      <th>0</th>\n",
       "      <td>0</td>\n",
       "      <td>B</td>\n",
       "    </tr>\n",
       "    <tr>\n",
       "      <th>1</th>\n",
       "      <td>1</td>\n",
       "      <td>B</td>\n",
       "    </tr>\n",
       "    <tr>\n",
       "      <th>2</th>\n",
       "      <td>2</td>\n",
       "      <td>A</td>\n",
       "    </tr>\n",
       "    <tr>\n",
       "      <th>3</th>\n",
       "      <td>3</td>\n",
       "      <td>B</td>\n",
       "    </tr>\n",
       "    <tr>\n",
       "      <th>4</th>\n",
       "      <td>4</td>\n",
       "      <td>B</td>\n",
       "    </tr>\n",
       "  </tbody>\n",
       "</table>\n",
       "</div>"
      ],
      "text/plain": [
       "   st_id test_grp\n",
       "0      0        B\n",
       "1      1        B\n",
       "2      2        A\n",
       "3      3        B\n",
       "4      4        B"
      ]
     },
     "execution_count": 7,
     "metadata": {},
     "output_type": "execute_result"
    }
   ],
   "source": [
    "# Генерируем таблицу studs.\n",
    "n = 700\n",
    "studs = pd.DataFrame({'st_id': np.arange(n)})\n",
    "\n",
    "studs['test_grp'] = pd.Series(['A', 'A', 'A', 'B', 'B']) \\\n",
    "    .sample(len(studs),replace=True,random_state=42) \\\n",
    "    .values\n",
    "studs.head()"
   ]
  },
  {
   "cell_type": "code",
   "execution_count": 8,
   "id": "59cc3560",
   "metadata": {
    "colab": {
     "base_uri": "https://localhost:8080/",
     "height": 206
    },
    "id": "_WdRhXuZ5_9y",
    "outputId": "14dfdd70-c9e1-41ea-ed7e-53d69e785c65",
    "scrolled": true
   },
   "outputs": [
    {
     "data": {
      "text/html": [
       "<div>\n",
       "<style scoped>\n",
       "    .dataframe tbody tr th:only-of-type {\n",
       "        vertical-align: middle;\n",
       "    }\n",
       "\n",
       "    .dataframe tbody tr th {\n",
       "        vertical-align: top;\n",
       "    }\n",
       "\n",
       "    .dataframe thead th {\n",
       "        text-align: right;\n",
       "    }\n",
       "</style>\n",
       "<table border=\"1\" class=\"dataframe\">\n",
       "  <thead>\n",
       "    <tr style=\"text-align: right;\">\n",
       "      <th></th>\n",
       "      <th>st_id</th>\n",
       "      <th>sale_time</th>\n",
       "      <th>subject</th>\n",
       "      <th>subject_price</th>\n",
       "    </tr>\n",
       "  </thead>\n",
       "  <tbody>\n",
       "    <tr>\n",
       "      <th>0</th>\n",
       "      <td>405</td>\n",
       "      <td>2020-03-01 00:00:00</td>\n",
       "      <td>philosophy</td>\n",
       "      <td>450</td>\n",
       "    </tr>\n",
       "    <tr>\n",
       "      <th>1</th>\n",
       "      <td>363</td>\n",
       "      <td>2020-03-01 12:00:00</td>\n",
       "      <td>physics</td>\n",
       "      <td>600</td>\n",
       "    </tr>\n",
       "    <tr>\n",
       "      <th>2</th>\n",
       "      <td>376</td>\n",
       "      <td>2020-03-02 00:00:00</td>\n",
       "      <td>sociology</td>\n",
       "      <td>500</td>\n",
       "    </tr>\n",
       "    <tr>\n",
       "      <th>3</th>\n",
       "      <td>389</td>\n",
       "      <td>2020-03-02 12:00:00</td>\n",
       "      <td>physics</td>\n",
       "      <td>600</td>\n",
       "    </tr>\n",
       "    <tr>\n",
       "      <th>4</th>\n",
       "      <td>396</td>\n",
       "      <td>2020-03-03 00:00:00</td>\n",
       "      <td>physics</td>\n",
       "      <td>600</td>\n",
       "    </tr>\n",
       "  </tbody>\n",
       "</table>\n",
       "</div>"
      ],
      "text/plain": [
       "   st_id           sale_time     subject  subject_price\n",
       "0    405 2020-03-01 00:00:00  philosophy            450\n",
       "1    363 2020-03-01 12:00:00     physics            600\n",
       "2    376 2020-03-02 00:00:00   sociology            500\n",
       "3    389 2020-03-02 12:00:00     physics            600\n",
       "4    396 2020-03-03 00:00:00     physics            600"
      ]
     },
     "execution_count": 8,
     "metadata": {},
     "output_type": "execute_result"
    }
   ],
   "source": [
    "# Генерируем таблицу checks.\n",
    "checks = pd.DataFrame({'st_id': peas['st_id'].sample(145).unique()})\n",
    "\n",
    "start_date = pd.to_datetime('2020-03-01')\n",
    "checks['sale_time'] = pd.date_range(start_date, periods=len(checks), freq='12H')\n",
    "\n",
    "checks['subject'] = pd.Series(['math', 'economics', 'sociology', 'philosophy', 'physics']) \\\n",
    "    .sample(len(checks),replace=True,random_state=42) \\\n",
    "    .values\n",
    "\n",
    "checks_price = pd.DataFrame({'math':[1000], 'economics':[750], 'sociology':[500], 'philosophy':[450], 'physics':[600]}) \\\n",
    "    .T \\\n",
    "    .reset_index() \\\n",
    "\n",
    "checks_price.columns = ['subject','subject_price']\n",
    "\n",
    "checks = checks.merge(checks_price,how='left',on='subject')\n",
    "checks.head()"
   ]
  },
  {
   "cell_type": "markdown",
   "id": "5b849780",
   "metadata": {
    "id": "T9ceHt4Q5_9z"
   },
   "source": [
    "Необходимо в одном запросе выгрузить следующую информацию о группах пользователей:\n",
    "ARPU=Конверсия*ARPPU\n",
    "    Конверсия = Число пользователей / Число клиентов\n",
    "    ARPPU = Доход / Число клиентов \n",
    "ARPAU - Сумма общего дохода за месяц / Общая ежемесячная база активных пользователей.\n",
    "CR количество пользователей, которые выполнили какое-либо целевое действие / Общее число пользователей.\n",
    "СR активного пользователя в покупку \n",
    "CR пользователя из активности по математике (subject = ’math’) в покупку курса по математике"
   ]
  },
  {
   "cell_type": "code",
   "execution_count": 9,
   "id": "04af6d26",
   "metadata": {
    "colab": {
     "base_uri": "https://localhost:8080/",
     "height": 206
    },
    "id": "oKZaf8Al5_9z",
    "outputId": "a654ddc2-b13f-475e-feea-36c7c29f4569"
   },
   "outputs": [
    {
     "data": {
      "text/html": [
       "<div>\n",
       "<style scoped>\n",
       "    .dataframe tbody tr th:only-of-type {\n",
       "        vertical-align: middle;\n",
       "    }\n",
       "\n",
       "    .dataframe tbody tr th {\n",
       "        vertical-align: top;\n",
       "    }\n",
       "\n",
       "    .dataframe thead th {\n",
       "        text-align: right;\n",
       "    }\n",
       "</style>\n",
       "<table border=\"1\" class=\"dataframe\">\n",
       "  <thead>\n",
       "    <tr style=\"text-align: right;\">\n",
       "      <th></th>\n",
       "      <th>st_id</th>\n",
       "      <th>times_start</th>\n",
       "      <th>timest</th>\n",
       "      <th>correct</th>\n",
       "      <th>subject</th>\n",
       "    </tr>\n",
       "  </thead>\n",
       "  <tbody>\n",
       "    <tr>\n",
       "      <th>0</th>\n",
       "      <td>380</td>\n",
       "      <td>2020-03-01 00:00:00</td>\n",
       "      <td>1</td>\n",
       "      <td>True</td>\n",
       "      <td>philosophy</td>\n",
       "    </tr>\n",
       "    <tr>\n",
       "      <th>1</th>\n",
       "      <td>402</td>\n",
       "      <td>2020-03-01 00:30:00</td>\n",
       "      <td>0</td>\n",
       "      <td>True</td>\n",
       "      <td>physics</td>\n",
       "    </tr>\n",
       "    <tr>\n",
       "      <th>2</th>\n",
       "      <td>376</td>\n",
       "      <td>2020-03-01 01:00:00</td>\n",
       "      <td>2</td>\n",
       "      <td>False</td>\n",
       "      <td>sociology</td>\n",
       "    </tr>\n",
       "    <tr>\n",
       "      <th>3</th>\n",
       "      <td>419</td>\n",
       "      <td>2020-03-01 01:30:00</td>\n",
       "      <td>1</td>\n",
       "      <td>True</td>\n",
       "      <td>physics</td>\n",
       "    </tr>\n",
       "    <tr>\n",
       "      <th>4</th>\n",
       "      <td>381</td>\n",
       "      <td>2020-03-01 02:00:00</td>\n",
       "      <td>1</td>\n",
       "      <td>True</td>\n",
       "      <td>physics</td>\n",
       "    </tr>\n",
       "  </tbody>\n",
       "</table>\n",
       "</div>"
      ],
      "text/plain": [
       "   st_id         times_start  timest  correct     subject\n",
       "0    380 2020-03-01 00:00:00       1     True  philosophy\n",
       "1    402 2020-03-01 00:30:00       0     True     physics\n",
       "2    376 2020-03-01 01:00:00       2    False   sociology\n",
       "3    419 2020-03-01 01:30:00       1     True     physics\n",
       "4    381 2020-03-01 02:00:00       1     True     physics"
      ]
     },
     "execution_count": 9,
     "metadata": {},
     "output_type": "execute_result"
    }
   ],
   "source": [
    "peas.head()"
   ]
  },
  {
   "cell_type": "code",
   "execution_count": 10,
   "id": "f01ebe90",
   "metadata": {
    "colab": {
     "base_uri": "https://localhost:8080/",
     "height": 206
    },
    "id": "PdsjoY4B5_9z",
    "outputId": "0c903ae4-1d0e-4800-8ca2-c800e2927103"
   },
   "outputs": [
    {
     "data": {
      "text/html": [
       "<div>\n",
       "<style scoped>\n",
       "    .dataframe tbody tr th:only-of-type {\n",
       "        vertical-align: middle;\n",
       "    }\n",
       "\n",
       "    .dataframe tbody tr th {\n",
       "        vertical-align: top;\n",
       "    }\n",
       "\n",
       "    .dataframe thead th {\n",
       "        text-align: right;\n",
       "    }\n",
       "</style>\n",
       "<table border=\"1\" class=\"dataframe\">\n",
       "  <thead>\n",
       "    <tr style=\"text-align: right;\">\n",
       "      <th></th>\n",
       "      <th>st_id</th>\n",
       "      <th>sale_time</th>\n",
       "      <th>subject</th>\n",
       "      <th>subject_price</th>\n",
       "    </tr>\n",
       "  </thead>\n",
       "  <tbody>\n",
       "    <tr>\n",
       "      <th>0</th>\n",
       "      <td>405</td>\n",
       "      <td>2020-03-01 00:00:00</td>\n",
       "      <td>philosophy</td>\n",
       "      <td>450</td>\n",
       "    </tr>\n",
       "    <tr>\n",
       "      <th>1</th>\n",
       "      <td>363</td>\n",
       "      <td>2020-03-01 12:00:00</td>\n",
       "      <td>physics</td>\n",
       "      <td>600</td>\n",
       "    </tr>\n",
       "    <tr>\n",
       "      <th>2</th>\n",
       "      <td>376</td>\n",
       "      <td>2020-03-02 00:00:00</td>\n",
       "      <td>sociology</td>\n",
       "      <td>500</td>\n",
       "    </tr>\n",
       "    <tr>\n",
       "      <th>3</th>\n",
       "      <td>389</td>\n",
       "      <td>2020-03-02 12:00:00</td>\n",
       "      <td>physics</td>\n",
       "      <td>600</td>\n",
       "    </tr>\n",
       "    <tr>\n",
       "      <th>4</th>\n",
       "      <td>396</td>\n",
       "      <td>2020-03-03 00:00:00</td>\n",
       "      <td>physics</td>\n",
       "      <td>600</td>\n",
       "    </tr>\n",
       "  </tbody>\n",
       "</table>\n",
       "</div>"
      ],
      "text/plain": [
       "   st_id           sale_time     subject  subject_price\n",
       "0    405 2020-03-01 00:00:00  philosophy            450\n",
       "1    363 2020-03-01 12:00:00     physics            600\n",
       "2    376 2020-03-02 00:00:00   sociology            500\n",
       "3    389 2020-03-02 12:00:00     physics            600\n",
       "4    396 2020-03-03 00:00:00     physics            600"
      ]
     },
     "execution_count": 10,
     "metadata": {},
     "output_type": "execute_result"
    }
   ],
   "source": [
    "checks.head()"
   ]
  },
  {
   "cell_type": "code",
   "execution_count": 11,
   "id": "d87da6f4",
   "metadata": {
    "colab": {
     "base_uri": "https://localhost:8080/",
     "height": 206
    },
    "id": "Srio1GRi5_9z",
    "outputId": "114db3c2-bcfa-4961-9b9f-20d5667027cf"
   },
   "outputs": [
    {
     "data": {
      "text/html": [
       "<div>\n",
       "<style scoped>\n",
       "    .dataframe tbody tr th:only-of-type {\n",
       "        vertical-align: middle;\n",
       "    }\n",
       "\n",
       "    .dataframe tbody tr th {\n",
       "        vertical-align: top;\n",
       "    }\n",
       "\n",
       "    .dataframe thead th {\n",
       "        text-align: right;\n",
       "    }\n",
       "</style>\n",
       "<table border=\"1\" class=\"dataframe\">\n",
       "  <thead>\n",
       "    <tr style=\"text-align: right;\">\n",
       "      <th></th>\n",
       "      <th>st_id</th>\n",
       "      <th>test_grp</th>\n",
       "    </tr>\n",
       "  </thead>\n",
       "  <tbody>\n",
       "    <tr>\n",
       "      <th>0</th>\n",
       "      <td>0</td>\n",
       "      <td>B</td>\n",
       "    </tr>\n",
       "    <tr>\n",
       "      <th>1</th>\n",
       "      <td>1</td>\n",
       "      <td>B</td>\n",
       "    </tr>\n",
       "    <tr>\n",
       "      <th>2</th>\n",
       "      <td>2</td>\n",
       "      <td>A</td>\n",
       "    </tr>\n",
       "    <tr>\n",
       "      <th>3</th>\n",
       "      <td>3</td>\n",
       "      <td>B</td>\n",
       "    </tr>\n",
       "    <tr>\n",
       "      <th>4</th>\n",
       "      <td>4</td>\n",
       "      <td>B</td>\n",
       "    </tr>\n",
       "  </tbody>\n",
       "</table>\n",
       "</div>"
      ],
      "text/plain": [
       "   st_id test_grp\n",
       "0      0        B\n",
       "1      1        B\n",
       "2      2        A\n",
       "3      3        B\n",
       "4      4        B"
      ]
     },
     "execution_count": 11,
     "metadata": {},
     "output_type": "execute_result"
    }
   ],
   "source": [
    "studs.head()"
   ]
  },
  {
   "cell_type": "code",
   "execution_count": 12,
   "id": "e098a793",
   "metadata": {
    "id": "K2TKrwcR5_90"
   },
   "outputs": [],
   "source": [
    "q = \"\"\" WITH \n",
    "            -- Создаем временную таблицу с началом и окончанием времени эксперимента.\n",
    "            checks_exp as (SELECT min(sale_time) as checks_start,\n",
    "                                  max(sale_time) as checks_finish\n",
    "                           FROM checks)\n",
    "            ,\n",
    "            -- Создаем временную таблицу peas в рамках проведения нашего эксперимента.            \n",
    "            peas_unique as (SELECT st_id,\n",
    "                                   1 as active, -- Добавляем столбец с активностью.\n",
    "                                   subject as subject_active\n",
    "                            FROM peas\n",
    "                            WHERE times_start > (SELECT checks_start\n",
    "                                                 FROM checks_exp)\n",
    "                                  AND \n",
    "                                  times_start < (SELECT checks_finish\n",
    "                                                 FROM checks_exp)\n",
    "                            GROUP BY st_id)\n",
    "            ,\n",
    "            -- Джойним таблицы studs и peas_unique.\n",
    "            studs_group_activ as (SELECT *\n",
    "                                  FROM studs s\n",
    "                                  LEFT JOIN peas_unique p ON s.st_id = p.st_id)\n",
    "            ,\n",
    "            -- Джойним таблицы studs_group_activ и checks.\n",
    "            data_for_exp as (SELECT *\n",
    "                             FROM studs_group_activ s\n",
    "                             LEFT JOIN checks c ON s.st_id = c.st_id)\n",
    "            ,\n",
    "            -- Создаем таблицу с пользователями, которые были активны по математике.\n",
    "            math_activ as (SELECT st_id,\n",
    "                                  1 as math_activ\n",
    "                           FROM data_for_exp\n",
    "                           WHERE subject_active = \"math\")\n",
    "            ,\n",
    "            -- Создаем таблицу с пользователями, которые были активны по математике, и купили полный доступ.\n",
    "            math_activ_pay as (SELECT st_id,\n",
    "                                  1 as math_activ_pay\n",
    "                           FROM data_for_exp\n",
    "                           WHERE subject = \"math\"\n",
    "                                 AND\n",
    "                                 subject_active = \"math\")\n",
    "            ,\n",
    "            -- Джойним данные с активностью по математике к основной таблице.\n",
    "            data_for_exp1 as (SELECT *\n",
    "                             FROM data_for_exp s\n",
    "                             LEFT JOIN math_activ c ON s.st_id = c.st_id)\n",
    "            ,\n",
    "            -- Джойним данные с активностью по математике и покупке полного доступа по математике.\n",
    "            data_for_exp2 as (SELECT *\n",
    "                             FROM data_for_exp1 s\n",
    "                             LEFT JOIN math_activ_pay c ON s.st_id = c.st_id)\n",
    "            ,\n",
    "            -- Собираем только нужные столбцы для подсчета метрик в одну таблицу.\n",
    "            result as (SELECT st_id,\n",
    "                              test_grp,\n",
    "                              active,\n",
    "                              sale_time,\n",
    "                              subject,\n",
    "                              subject_price,\n",
    "                              subject_active,\n",
    "                              1 as user,\n",
    "                              math_activ_pay,\n",
    "                              math_activ\n",
    "                       FROM data_for_exp2)\n",
    "                       \n",
    "      -- Подсчитываем нужные нам метрики.                     \n",
    "      SELECT test_grp,\n",
    "             SUM(subject_price) / SUM(active) as ARPAU,\n",
    "             CAST(COUNT(st_id) / COUNT(subject_price) AS INT) *\n",
    "             SUM(subject_price) / COUNT(subject_price) AS ARPU,\n",
    "             CAST((CAST(COUNT(subject_price) AS Float64) / COUNT(st_id)) AS DECIMAL(5,2)) AS CR,\n",
    "             CAST((CAST(COUNT(subject_price) AS Float64) / SUM(active)) AS DECIMAL(5,2)) AS CR_activ,\n",
    "             CAST((CAST(SUM(math_activ_pay) AS Float64) /\n",
    "             SUM(math_activ)) AS DECIMAL(5,2)) AS CR_activ_math_in_math_pay\n",
    "             -- Данные для проверки вычислений.\n",
    "             --SUM(user) as user_sum,\n",
    "             --SUM(math_activ_pay) as math_activ_pay,\n",
    "             --SUM(math_activ) as math_activ\n",
    "             --COUNT(st_id) AS st_id_count ,\n",
    "             --SUM(active) AS active_user_sum ,\n",
    "             --COUNT(subject_price) AS subject_price_count\n",
    "      FROM result\n",
    "      GROUP BY test_grp\n",
    "     \"\"\""
   ]
  },
  {
   "cell_type": "code",
   "execution_count": 13,
   "id": "b9861dc4",
   "metadata": {
    "colab": {
     "base_uri": "https://localhost:8080/",
     "height": 112
    },
    "id": "mzmKos275_90",
    "outputId": "b3d2ceb4-b860-49f7-9ad1-d5108ea77803",
    "scrolled": true
   },
   "outputs": [
    {
     "data": {
      "text/html": [
       "<div>\n",
       "<style scoped>\n",
       "    .dataframe tbody tr th:only-of-type {\n",
       "        vertical-align: middle;\n",
       "    }\n",
       "\n",
       "    .dataframe tbody tr th {\n",
       "        vertical-align: top;\n",
       "    }\n",
       "\n",
       "    .dataframe thead th {\n",
       "        text-align: right;\n",
       "    }\n",
       "</style>\n",
       "<table border=\"1\" class=\"dataframe\">\n",
       "  <thead>\n",
       "    <tr style=\"text-align: right;\">\n",
       "      <th></th>\n",
       "      <th>test_grp</th>\n",
       "      <th>ARPAU</th>\n",
       "      <th>ARPU</th>\n",
       "      <th>CR</th>\n",
       "      <th>CR_activ</th>\n",
       "      <th>CR_activ_math_in_math_pay</th>\n",
       "    </tr>\n",
       "  </thead>\n",
       "  <tbody>\n",
       "    <tr>\n",
       "      <th>0</th>\n",
       "      <td>A</td>\n",
       "      <td>440</td>\n",
       "      <td>7134</td>\n",
       "      <td>0.089109</td>\n",
       "      <td>0.679245</td>\n",
       "      <td>NaN</td>\n",
       "    </tr>\n",
       "    <tr>\n",
       "      <th>1</th>\n",
       "      <td>B</td>\n",
       "      <td>458</td>\n",
       "      <td>4252</td>\n",
       "      <td>0.135135</td>\n",
       "      <td>0.754717</td>\n",
       "      <td>0.090909</td>\n",
       "    </tr>\n",
       "  </tbody>\n",
       "</table>\n",
       "</div>"
      ],
      "text/plain": [
       "  test_grp  ARPAU  ARPU        CR  CR_activ  CR_activ_math_in_math_pay\n",
       "0        A    440  7134  0.089109  0.679245                        NaN\n",
       "1        B    458  4252  0.135135  0.754717                   0.090909"
      ]
     },
     "execution_count": 13,
     "metadata": {},
     "output_type": "execute_result"
    }
   ],
   "source": [
    "sqldf(q)"
   ]
  }
 ],
 "metadata": {
  "kernelspec": {
   "display_name": "Python 3",
   "language": "python",
   "name": "python3"
  },
  "language_info": {
   "codemirror_mode": {
    "name": "ipython",
    "version": 3
   },
   "file_extension": ".py",
   "mimetype": "text/x-python",
   "name": "python",
   "nbconvert_exporter": "python",
   "pygments_lexer": "ipython3",
   "version": "3.8.8"
  }
 },
 "nbformat": 4,
 "nbformat_minor": 5
}
