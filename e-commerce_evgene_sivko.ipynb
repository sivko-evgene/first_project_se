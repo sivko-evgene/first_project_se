{
  "cells": [
    {
      "cell_type": "code",
      "execution_count": null,
      "metadata": {
        "id": "zFT5HuOfZW-M"
      },
      "outputs": [],
      "source": [
        "import pandas as pd\n",
        "import numpy as np\n",
        "%matplotlib inline\n",
        "import matplotlib.pyplot as plt\n",
        "import seaborn as sns\n",
        "import csv\n",
        "import plotly.express as px\n",
        "from datetime import datetime as dt, timedelta\n",
        "import requests\n",
        "from urllib.parse import urlencode"
      ]
    },
    {
      "cell_type": "markdown",
      "metadata": {
        "id": "ZpenWzdrZW-P"
      },
      "source": [
        "Проект e-commerce: вариант 1 \n",
        "Продакт-менеджер Василий попросил вас проанализировать совершенные покупки и ответить на следующие вопросы:\n",
        "1. Сколько у нас пользователей, которые совершили покупку только один раз? (7 баллов) \n",
        "2. Сколько заказов в месяц в среднем не доставляется по разным причинам (вывести детализацию по причинам)? (5 баллов)\n",
        "3. По каждому товару определить, в какой день недели товар чаще всего покупается. (5 баллов)\n",
        "4. Сколько у каждого из пользователей в среднем покупок в неделю (по месяцам)? Не стоит забывать,\n",
        "что внутри месяца может быть не целое количество недель.\n",
        "Например, в ноябре 2021 года 4,28 недели. И внутри метрики это нужно учесть. (8 баллов) \n",
        "5. Напиши функцию на python, позволяющую строить когортный анализ.\n",
        "В период с января по декабрь выяви когорту с самым высоким retention на 3-й месяц. Описание подхода можно найти тут.\n",
        "(10 баллов)\n",
        "6. Построй RFM-кластеры для пользователей. Выведи для каждого кластера средние значения метрик R, F, M \n",
        "(и опиши подробно, как были построены метрики R, F, M). Описание подхода можно найти тут. (35 баллов)"
      ]
    },
    {
      "cell_type": "code",
      "source": [
        "#users_public_key = 'https://disk.yandex.ru/d/FUi5uSd6BfG_ig'\n",
        "#orders_public_key = 'https://disk.yandex.ru/d/t9Li4JOfgxuUrg'\n",
        "#items_public_key = 'https://disk.yandex.ru/d/Gbt-yAcQrOe3Pw'"
      ],
      "metadata": {
        "id": "IjeKe3SZZlqT"
      },
      "execution_count": null,
      "outputs": []
    },
    {
      "cell_type": "code",
      "source": [
        "#def get_yandex_download_url(public_key):\n",
        "    #base_url = 'https://cloud-api.yandex.net/v1/disk/public/resources/download?'\n",
        "    #final_url = base_url + urlencode(dict(public_key=public_key))\n",
        "    #response = requests.get(final_url)\n",
        "    #download_url = response.json()['href']\n",
        "    #return download_url"
      ],
      "metadata": {
        "id": "h1qwNlcnbV_h"
      },
      "execution_count": null,
      "outputs": []
    },
    {
      "cell_type": "code",
      "execution_count": null,
      "metadata": {
        "id": "U4CUjAyQZW-R"
      },
      "outputs": [],
      "source": [
        "df_olist_customers   = pd.read_csv('olist_customers_dataset.csv')\n",
        "df_olist_orders      = pd.read_csv('olist_orders_dataset.csv')\n",
        "df_olist_order_items = pd.read_csv('olist_order_items_dataset.csv')"
      ]
    },
    {
      "cell_type": "code",
      "execution_count": null,
      "metadata": {
        "id": "H1DKRLJ2ZW-S",
        "outputId": "783bdc5e-5823-4070-8ca7-8cf856dcf9ef"
      },
      "outputs": [
        {
          "data": {
            "text/html": [
              "<div>\n",
              "<style scoped>\n",
              "    .dataframe tbody tr th:only-of-type {\n",
              "        vertical-align: middle;\n",
              "    }\n",
              "\n",
              "    .dataframe tbody tr th {\n",
              "        vertical-align: top;\n",
              "    }\n",
              "\n",
              "    .dataframe thead th {\n",
              "        text-align: right;\n",
              "    }\n",
              "</style>\n",
              "<table border=\"1\" class=\"dataframe\">\n",
              "  <thead>\n",
              "    <tr style=\"text-align: right;\">\n",
              "      <th></th>\n",
              "      <th>customer_id</th>\n",
              "      <th>customer_unique_id</th>\n",
              "      <th>customer_zip_code_prefix</th>\n",
              "      <th>customer_city</th>\n",
              "      <th>customer_state</th>\n",
              "    </tr>\n",
              "  </thead>\n",
              "  <tbody>\n",
              "    <tr>\n",
              "      <th>0</th>\n",
              "      <td>06b8999e2fba1a1fbc88172c00ba8bc7</td>\n",
              "      <td>861eff4711a542e4b93843c6dd7febb0</td>\n",
              "      <td>14409</td>\n",
              "      <td>franca</td>\n",
              "      <td>SP</td>\n",
              "    </tr>\n",
              "    <tr>\n",
              "      <th>1</th>\n",
              "      <td>18955e83d337fd6b2def6b18a428ac77</td>\n",
              "      <td>290c77bc529b7ac935b93aa66c333dc3</td>\n",
              "      <td>9790</td>\n",
              "      <td>sao bernardo do campo</td>\n",
              "      <td>SP</td>\n",
              "    </tr>\n",
              "    <tr>\n",
              "      <th>2</th>\n",
              "      <td>4e7b3e00288586ebd08712fdd0374a03</td>\n",
              "      <td>060e732b5b29e8181a18229c7b0b2b5e</td>\n",
              "      <td>1151</td>\n",
              "      <td>sao paulo</td>\n",
              "      <td>SP</td>\n",
              "    </tr>\n",
              "    <tr>\n",
              "      <th>3</th>\n",
              "      <td>b2b6027bc5c5109e529d4dc6358b12c3</td>\n",
              "      <td>259dac757896d24d7702b9acbbff3f3c</td>\n",
              "      <td>8775</td>\n",
              "      <td>mogi das cruzes</td>\n",
              "      <td>SP</td>\n",
              "    </tr>\n",
              "    <tr>\n",
              "      <th>4</th>\n",
              "      <td>4f2d8ab171c80ec8364f7c12e35b23ad</td>\n",
              "      <td>345ecd01c38d18a9036ed96c73b8d066</td>\n",
              "      <td>13056</td>\n",
              "      <td>campinas</td>\n",
              "      <td>SP</td>\n",
              "    </tr>\n",
              "    <tr>\n",
              "      <th>...</th>\n",
              "      <td>...</td>\n",
              "      <td>...</td>\n",
              "      <td>...</td>\n",
              "      <td>...</td>\n",
              "      <td>...</td>\n",
              "    </tr>\n",
              "    <tr>\n",
              "      <th>99436</th>\n",
              "      <td>17ddf5dd5d51696bb3d7c6291687be6f</td>\n",
              "      <td>1a29b476fee25c95fbafc67c5ac95cf8</td>\n",
              "      <td>3937</td>\n",
              "      <td>sao paulo</td>\n",
              "      <td>SP</td>\n",
              "    </tr>\n",
              "    <tr>\n",
              "      <th>99437</th>\n",
              "      <td>e7b71a9017aa05c9a7fd292d714858e8</td>\n",
              "      <td>d52a67c98be1cf6a5c84435bd38d095d</td>\n",
              "      <td>6764</td>\n",
              "      <td>taboao da serra</td>\n",
              "      <td>SP</td>\n",
              "    </tr>\n",
              "    <tr>\n",
              "      <th>99438</th>\n",
              "      <td>5e28dfe12db7fb50a4b2f691faecea5e</td>\n",
              "      <td>e9f50caf99f032f0bf3c55141f019d99</td>\n",
              "      <td>60115</td>\n",
              "      <td>fortaleza</td>\n",
              "      <td>CE</td>\n",
              "    </tr>\n",
              "    <tr>\n",
              "      <th>99439</th>\n",
              "      <td>56b18e2166679b8a959d72dd06da27f9</td>\n",
              "      <td>73c2643a0a458b49f58cea58833b192e</td>\n",
              "      <td>92120</td>\n",
              "      <td>canoas</td>\n",
              "      <td>RS</td>\n",
              "    </tr>\n",
              "    <tr>\n",
              "      <th>99440</th>\n",
              "      <td>274fa6071e5e17fe303b9748641082c8</td>\n",
              "      <td>84732c5050c01db9b23e19ba39899398</td>\n",
              "      <td>6703</td>\n",
              "      <td>cotia</td>\n",
              "      <td>SP</td>\n",
              "    </tr>\n",
              "  </tbody>\n",
              "</table>\n",
              "<p>99441 rows × 5 columns</p>\n",
              "</div>"
            ],
            "text/plain": [
              "                            customer_id                customer_unique_id  \\\n",
              "0      06b8999e2fba1a1fbc88172c00ba8bc7  861eff4711a542e4b93843c6dd7febb0   \n",
              "1      18955e83d337fd6b2def6b18a428ac77  290c77bc529b7ac935b93aa66c333dc3   \n",
              "2      4e7b3e00288586ebd08712fdd0374a03  060e732b5b29e8181a18229c7b0b2b5e   \n",
              "3      b2b6027bc5c5109e529d4dc6358b12c3  259dac757896d24d7702b9acbbff3f3c   \n",
              "4      4f2d8ab171c80ec8364f7c12e35b23ad  345ecd01c38d18a9036ed96c73b8d066   \n",
              "...                                 ...                               ...   \n",
              "99436  17ddf5dd5d51696bb3d7c6291687be6f  1a29b476fee25c95fbafc67c5ac95cf8   \n",
              "99437  e7b71a9017aa05c9a7fd292d714858e8  d52a67c98be1cf6a5c84435bd38d095d   \n",
              "99438  5e28dfe12db7fb50a4b2f691faecea5e  e9f50caf99f032f0bf3c55141f019d99   \n",
              "99439  56b18e2166679b8a959d72dd06da27f9  73c2643a0a458b49f58cea58833b192e   \n",
              "99440  274fa6071e5e17fe303b9748641082c8  84732c5050c01db9b23e19ba39899398   \n",
              "\n",
              "       customer_zip_code_prefix          customer_city customer_state  \n",
              "0                         14409                 franca             SP  \n",
              "1                          9790  sao bernardo do campo             SP  \n",
              "2                          1151              sao paulo             SP  \n",
              "3                          8775        mogi das cruzes             SP  \n",
              "4                         13056               campinas             SP  \n",
              "...                         ...                    ...            ...  \n",
              "99436                      3937              sao paulo             SP  \n",
              "99437                      6764        taboao da serra             SP  \n",
              "99438                     60115              fortaleza             CE  \n",
              "99439                     92120                 canoas             RS  \n",
              "99440                      6703                  cotia             SP  \n",
              "\n",
              "[99441 rows x 5 columns]"
            ]
          },
          "execution_count": 3,
          "metadata": {},
          "output_type": "execute_result"
        }
      ],
      "source": [
        "df_olist_customers"
      ]
    },
    {
      "cell_type": "code",
      "execution_count": null,
      "metadata": {
        "id": "IaJmSNrHZW-T",
        "outputId": "2c09578d-3297-464f-bfe0-da93c409f39a"
      },
      "outputs": [
        {
          "data": {
            "text/html": [
              "<div>\n",
              "<style scoped>\n",
              "    .dataframe tbody tr th:only-of-type {\n",
              "        vertical-align: middle;\n",
              "    }\n",
              "\n",
              "    .dataframe tbody tr th {\n",
              "        vertical-align: top;\n",
              "    }\n",
              "\n",
              "    .dataframe thead th {\n",
              "        text-align: right;\n",
              "    }\n",
              "</style>\n",
              "<table border=\"1\" class=\"dataframe\">\n",
              "  <thead>\n",
              "    <tr style=\"text-align: right;\">\n",
              "      <th></th>\n",
              "      <th>order_id</th>\n",
              "      <th>customer_id</th>\n",
              "      <th>order_status</th>\n",
              "      <th>order_purchase_timestamp</th>\n",
              "      <th>order_approved_at</th>\n",
              "      <th>order_delivered_carrier_date</th>\n",
              "      <th>order_delivered_customer_date</th>\n",
              "      <th>order_estimated_delivery_date</th>\n",
              "    </tr>\n",
              "  </thead>\n",
              "  <tbody>\n",
              "    <tr>\n",
              "      <th>0</th>\n",
              "      <td>e481f51cbdc54678b7cc49136f2d6af7</td>\n",
              "      <td>9ef432eb6251297304e76186b10a928d</td>\n",
              "      <td>delivered</td>\n",
              "      <td>2017-10-02 10:56:33</td>\n",
              "      <td>2017-10-02 11:07:15</td>\n",
              "      <td>2017-10-04 19:55:00</td>\n",
              "      <td>2017-10-10 21:25:13</td>\n",
              "      <td>2017-10-18 00:00:00</td>\n",
              "    </tr>\n",
              "    <tr>\n",
              "      <th>1</th>\n",
              "      <td>53cdb2fc8bc7dce0b6741e2150273451</td>\n",
              "      <td>b0830fb4747a6c6d20dea0b8c802d7ef</td>\n",
              "      <td>delivered</td>\n",
              "      <td>2018-07-24 20:41:37</td>\n",
              "      <td>2018-07-26 03:24:27</td>\n",
              "      <td>2018-07-26 14:31:00</td>\n",
              "      <td>2018-08-07 15:27:45</td>\n",
              "      <td>2018-08-13 00:00:00</td>\n",
              "    </tr>\n",
              "    <tr>\n",
              "      <th>2</th>\n",
              "      <td>47770eb9100c2d0c44946d9cf07ec65d</td>\n",
              "      <td>41ce2a54c0b03bf3443c3d931a367089</td>\n",
              "      <td>delivered</td>\n",
              "      <td>2018-08-08 08:38:49</td>\n",
              "      <td>2018-08-08 08:55:23</td>\n",
              "      <td>2018-08-08 13:50:00</td>\n",
              "      <td>2018-08-17 18:06:29</td>\n",
              "      <td>2018-09-04 00:00:00</td>\n",
              "    </tr>\n",
              "    <tr>\n",
              "      <th>3</th>\n",
              "      <td>949d5b44dbf5de918fe9c16f97b45f8a</td>\n",
              "      <td>f88197465ea7920adcdbec7375364d82</td>\n",
              "      <td>delivered</td>\n",
              "      <td>2017-11-18 19:28:06</td>\n",
              "      <td>2017-11-18 19:45:59</td>\n",
              "      <td>2017-11-22 13:39:59</td>\n",
              "      <td>2017-12-02 00:28:42</td>\n",
              "      <td>2017-12-15 00:00:00</td>\n",
              "    </tr>\n",
              "    <tr>\n",
              "      <th>4</th>\n",
              "      <td>ad21c59c0840e6cb83a9ceb5573f8159</td>\n",
              "      <td>8ab97904e6daea8866dbdbc4fb7aad2c</td>\n",
              "      <td>delivered</td>\n",
              "      <td>2018-02-13 21:18:39</td>\n",
              "      <td>2018-02-13 22:20:29</td>\n",
              "      <td>2018-02-14 19:46:34</td>\n",
              "      <td>2018-02-16 18:17:02</td>\n",
              "      <td>2018-02-26 00:00:00</td>\n",
              "    </tr>\n",
              "    <tr>\n",
              "      <th>...</th>\n",
              "      <td>...</td>\n",
              "      <td>...</td>\n",
              "      <td>...</td>\n",
              "      <td>...</td>\n",
              "      <td>...</td>\n",
              "      <td>...</td>\n",
              "      <td>...</td>\n",
              "      <td>...</td>\n",
              "    </tr>\n",
              "    <tr>\n",
              "      <th>99436</th>\n",
              "      <td>9c5dedf39a927c1b2549525ed64a053c</td>\n",
              "      <td>39bd1228ee8140590ac3aca26f2dfe00</td>\n",
              "      <td>delivered</td>\n",
              "      <td>2017-03-09 09:54:05</td>\n",
              "      <td>2017-03-09 09:54:05</td>\n",
              "      <td>2017-03-10 11:18:03</td>\n",
              "      <td>2017-03-17 15:08:01</td>\n",
              "      <td>2017-03-28 00:00:00</td>\n",
              "    </tr>\n",
              "    <tr>\n",
              "      <th>99437</th>\n",
              "      <td>63943bddc261676b46f01ca7ac2f7bd8</td>\n",
              "      <td>1fca14ff2861355f6e5f14306ff977a7</td>\n",
              "      <td>delivered</td>\n",
              "      <td>2018-02-06 12:58:58</td>\n",
              "      <td>2018-02-06 13:10:37</td>\n",
              "      <td>2018-02-07 23:22:42</td>\n",
              "      <td>2018-02-28 17:37:56</td>\n",
              "      <td>2018-03-02 00:00:00</td>\n",
              "    </tr>\n",
              "    <tr>\n",
              "      <th>99438</th>\n",
              "      <td>83c1379a015df1e13d02aae0204711ab</td>\n",
              "      <td>1aa71eb042121263aafbe80c1b562c9c</td>\n",
              "      <td>delivered</td>\n",
              "      <td>2017-08-27 14:46:43</td>\n",
              "      <td>2017-08-27 15:04:16</td>\n",
              "      <td>2017-08-28 20:52:26</td>\n",
              "      <td>2017-09-21 11:24:17</td>\n",
              "      <td>2017-09-27 00:00:00</td>\n",
              "    </tr>\n",
              "    <tr>\n",
              "      <th>99439</th>\n",
              "      <td>11c177c8e97725db2631073c19f07b62</td>\n",
              "      <td>b331b74b18dc79bcdf6532d51e1637c1</td>\n",
              "      <td>delivered</td>\n",
              "      <td>2018-01-08 21:28:27</td>\n",
              "      <td>2018-01-08 21:36:21</td>\n",
              "      <td>2018-01-12 15:35:03</td>\n",
              "      <td>2018-01-25 23:32:54</td>\n",
              "      <td>2018-02-15 00:00:00</td>\n",
              "    </tr>\n",
              "    <tr>\n",
              "      <th>99440</th>\n",
              "      <td>66dea50a8b16d9b4dee7af250b4be1a5</td>\n",
              "      <td>edb027a75a1449115f6b43211ae02a24</td>\n",
              "      <td>delivered</td>\n",
              "      <td>2018-03-08 20:57:30</td>\n",
              "      <td>2018-03-09 11:20:28</td>\n",
              "      <td>2018-03-09 22:11:59</td>\n",
              "      <td>2018-03-16 13:08:30</td>\n",
              "      <td>2018-04-03 00:00:00</td>\n",
              "    </tr>\n",
              "  </tbody>\n",
              "</table>\n",
              "<p>99441 rows × 8 columns</p>\n",
              "</div>"
            ],
            "text/plain": [
              "                               order_id                       customer_id  \\\n",
              "0      e481f51cbdc54678b7cc49136f2d6af7  9ef432eb6251297304e76186b10a928d   \n",
              "1      53cdb2fc8bc7dce0b6741e2150273451  b0830fb4747a6c6d20dea0b8c802d7ef   \n",
              "2      47770eb9100c2d0c44946d9cf07ec65d  41ce2a54c0b03bf3443c3d931a367089   \n",
              "3      949d5b44dbf5de918fe9c16f97b45f8a  f88197465ea7920adcdbec7375364d82   \n",
              "4      ad21c59c0840e6cb83a9ceb5573f8159  8ab97904e6daea8866dbdbc4fb7aad2c   \n",
              "...                                 ...                               ...   \n",
              "99436  9c5dedf39a927c1b2549525ed64a053c  39bd1228ee8140590ac3aca26f2dfe00   \n",
              "99437  63943bddc261676b46f01ca7ac2f7bd8  1fca14ff2861355f6e5f14306ff977a7   \n",
              "99438  83c1379a015df1e13d02aae0204711ab  1aa71eb042121263aafbe80c1b562c9c   \n",
              "99439  11c177c8e97725db2631073c19f07b62  b331b74b18dc79bcdf6532d51e1637c1   \n",
              "99440  66dea50a8b16d9b4dee7af250b4be1a5  edb027a75a1449115f6b43211ae02a24   \n",
              "\n",
              "      order_status order_purchase_timestamp    order_approved_at  \\\n",
              "0        delivered      2017-10-02 10:56:33  2017-10-02 11:07:15   \n",
              "1        delivered      2018-07-24 20:41:37  2018-07-26 03:24:27   \n",
              "2        delivered      2018-08-08 08:38:49  2018-08-08 08:55:23   \n",
              "3        delivered      2017-11-18 19:28:06  2017-11-18 19:45:59   \n",
              "4        delivered      2018-02-13 21:18:39  2018-02-13 22:20:29   \n",
              "...            ...                      ...                  ...   \n",
              "99436    delivered      2017-03-09 09:54:05  2017-03-09 09:54:05   \n",
              "99437    delivered      2018-02-06 12:58:58  2018-02-06 13:10:37   \n",
              "99438    delivered      2017-08-27 14:46:43  2017-08-27 15:04:16   \n",
              "99439    delivered      2018-01-08 21:28:27  2018-01-08 21:36:21   \n",
              "99440    delivered      2018-03-08 20:57:30  2018-03-09 11:20:28   \n",
              "\n",
              "      order_delivered_carrier_date order_delivered_customer_date  \\\n",
              "0              2017-10-04 19:55:00           2017-10-10 21:25:13   \n",
              "1              2018-07-26 14:31:00           2018-08-07 15:27:45   \n",
              "2              2018-08-08 13:50:00           2018-08-17 18:06:29   \n",
              "3              2017-11-22 13:39:59           2017-12-02 00:28:42   \n",
              "4              2018-02-14 19:46:34           2018-02-16 18:17:02   \n",
              "...                            ...                           ...   \n",
              "99436          2017-03-10 11:18:03           2017-03-17 15:08:01   \n",
              "99437          2018-02-07 23:22:42           2018-02-28 17:37:56   \n",
              "99438          2017-08-28 20:52:26           2017-09-21 11:24:17   \n",
              "99439          2018-01-12 15:35:03           2018-01-25 23:32:54   \n",
              "99440          2018-03-09 22:11:59           2018-03-16 13:08:30   \n",
              "\n",
              "      order_estimated_delivery_date  \n",
              "0               2017-10-18 00:00:00  \n",
              "1               2018-08-13 00:00:00  \n",
              "2               2018-09-04 00:00:00  \n",
              "3               2017-12-15 00:00:00  \n",
              "4               2018-02-26 00:00:00  \n",
              "...                             ...  \n",
              "99436           2017-03-28 00:00:00  \n",
              "99437           2018-03-02 00:00:00  \n",
              "99438           2017-09-27 00:00:00  \n",
              "99439           2018-02-15 00:00:00  \n",
              "99440           2018-04-03 00:00:00  \n",
              "\n",
              "[99441 rows x 8 columns]"
            ]
          },
          "execution_count": 4,
          "metadata": {},
          "output_type": "execute_result"
        }
      ],
      "source": [
        "df_olist_orders"
      ]
    },
    {
      "cell_type": "code",
      "execution_count": null,
      "metadata": {
        "id": "KhnlmatkZW-U",
        "outputId": "7ec6c825-5b66-4e32-8eeb-f7c4bcf2d698"
      },
      "outputs": [
        {
          "data": {
            "text/html": [
              "<div>\n",
              "<style scoped>\n",
              "    .dataframe tbody tr th:only-of-type {\n",
              "        vertical-align: middle;\n",
              "    }\n",
              "\n",
              "    .dataframe tbody tr th {\n",
              "        vertical-align: top;\n",
              "    }\n",
              "\n",
              "    .dataframe thead th {\n",
              "        text-align: right;\n",
              "    }\n",
              "</style>\n",
              "<table border=\"1\" class=\"dataframe\">\n",
              "  <thead>\n",
              "    <tr style=\"text-align: right;\">\n",
              "      <th></th>\n",
              "      <th>order_id</th>\n",
              "      <th>order_item_id</th>\n",
              "      <th>product_id</th>\n",
              "      <th>seller_id</th>\n",
              "      <th>shipping_limit_date</th>\n",
              "      <th>price</th>\n",
              "      <th>freight_value</th>\n",
              "    </tr>\n",
              "  </thead>\n",
              "  <tbody>\n",
              "    <tr>\n",
              "      <th>0</th>\n",
              "      <td>00010242fe8c5a6d1ba2dd792cb16214</td>\n",
              "      <td>1</td>\n",
              "      <td>4244733e06e7ecb4970a6e2683c13e61</td>\n",
              "      <td>48436dade18ac8b2bce089ec2a041202</td>\n",
              "      <td>2017-09-19 09:45:35</td>\n",
              "      <td>58.90</td>\n",
              "      <td>13.29</td>\n",
              "    </tr>\n",
              "    <tr>\n",
              "      <th>1</th>\n",
              "      <td>00018f77f2f0320c557190d7a144bdd3</td>\n",
              "      <td>1</td>\n",
              "      <td>e5f2d52b802189ee658865ca93d83a8f</td>\n",
              "      <td>dd7ddc04e1b6c2c614352b383efe2d36</td>\n",
              "      <td>2017-05-03 11:05:13</td>\n",
              "      <td>239.90</td>\n",
              "      <td>19.93</td>\n",
              "    </tr>\n",
              "    <tr>\n",
              "      <th>2</th>\n",
              "      <td>000229ec398224ef6ca0657da4fc703e</td>\n",
              "      <td>1</td>\n",
              "      <td>c777355d18b72b67abbeef9df44fd0fd</td>\n",
              "      <td>5b51032eddd242adc84c38acab88f23d</td>\n",
              "      <td>2018-01-18 14:48:30</td>\n",
              "      <td>199.00</td>\n",
              "      <td>17.87</td>\n",
              "    </tr>\n",
              "    <tr>\n",
              "      <th>3</th>\n",
              "      <td>00024acbcdf0a6daa1e931b038114c75</td>\n",
              "      <td>1</td>\n",
              "      <td>7634da152a4610f1595efa32f14722fc</td>\n",
              "      <td>9d7a1d34a5052409006425275ba1c2b4</td>\n",
              "      <td>2018-08-15 10:10:18</td>\n",
              "      <td>12.99</td>\n",
              "      <td>12.79</td>\n",
              "    </tr>\n",
              "    <tr>\n",
              "      <th>4</th>\n",
              "      <td>00042b26cf59d7ce69dfabb4e55b4fd9</td>\n",
              "      <td>1</td>\n",
              "      <td>ac6c3623068f30de03045865e4e10089</td>\n",
              "      <td>df560393f3a51e74553ab94004ba5c87</td>\n",
              "      <td>2017-02-13 13:57:51</td>\n",
              "      <td>199.90</td>\n",
              "      <td>18.14</td>\n",
              "    </tr>\n",
              "    <tr>\n",
              "      <th>...</th>\n",
              "      <td>...</td>\n",
              "      <td>...</td>\n",
              "      <td>...</td>\n",
              "      <td>...</td>\n",
              "      <td>...</td>\n",
              "      <td>...</td>\n",
              "      <td>...</td>\n",
              "    </tr>\n",
              "    <tr>\n",
              "      <th>112645</th>\n",
              "      <td>fffc94f6ce00a00581880bf54a75a037</td>\n",
              "      <td>1</td>\n",
              "      <td>4aa6014eceb682077f9dc4bffebc05b0</td>\n",
              "      <td>b8bc237ba3788b23da09c0f1f3a3288c</td>\n",
              "      <td>2018-05-02 04:11:01</td>\n",
              "      <td>299.99</td>\n",
              "      <td>43.41</td>\n",
              "    </tr>\n",
              "    <tr>\n",
              "      <th>112646</th>\n",
              "      <td>fffcd46ef2263f404302a634eb57f7eb</td>\n",
              "      <td>1</td>\n",
              "      <td>32e07fd915822b0765e448c4dd74c828</td>\n",
              "      <td>f3c38ab652836d21de61fb8314b69182</td>\n",
              "      <td>2018-07-20 04:31:48</td>\n",
              "      <td>350.00</td>\n",
              "      <td>36.53</td>\n",
              "    </tr>\n",
              "    <tr>\n",
              "      <th>112647</th>\n",
              "      <td>fffce4705a9662cd70adb13d4a31832d</td>\n",
              "      <td>1</td>\n",
              "      <td>72a30483855e2eafc67aee5dc2560482</td>\n",
              "      <td>c3cfdc648177fdbbbb35635a37472c53</td>\n",
              "      <td>2017-10-30 17:14:25</td>\n",
              "      <td>99.90</td>\n",
              "      <td>16.95</td>\n",
              "    </tr>\n",
              "    <tr>\n",
              "      <th>112648</th>\n",
              "      <td>fffe18544ffabc95dfada21779c9644f</td>\n",
              "      <td>1</td>\n",
              "      <td>9c422a519119dcad7575db5af1ba540e</td>\n",
              "      <td>2b3e4a2a3ea8e01938cabda2a3e5cc79</td>\n",
              "      <td>2017-08-21 00:04:32</td>\n",
              "      <td>55.99</td>\n",
              "      <td>8.72</td>\n",
              "    </tr>\n",
              "    <tr>\n",
              "      <th>112649</th>\n",
              "      <td>fffe41c64501cc87c801fd61db3f6244</td>\n",
              "      <td>1</td>\n",
              "      <td>350688d9dc1e75ff97be326363655e01</td>\n",
              "      <td>f7ccf836d21b2fb1de37564105216cc1</td>\n",
              "      <td>2018-06-12 17:10:13</td>\n",
              "      <td>43.00</td>\n",
              "      <td>12.79</td>\n",
              "    </tr>\n",
              "  </tbody>\n",
              "</table>\n",
              "<p>112650 rows × 7 columns</p>\n",
              "</div>"
            ],
            "text/plain": [
              "                                order_id  order_item_id  \\\n",
              "0       00010242fe8c5a6d1ba2dd792cb16214              1   \n",
              "1       00018f77f2f0320c557190d7a144bdd3              1   \n",
              "2       000229ec398224ef6ca0657da4fc703e              1   \n",
              "3       00024acbcdf0a6daa1e931b038114c75              1   \n",
              "4       00042b26cf59d7ce69dfabb4e55b4fd9              1   \n",
              "...                                  ...            ...   \n",
              "112645  fffc94f6ce00a00581880bf54a75a037              1   \n",
              "112646  fffcd46ef2263f404302a634eb57f7eb              1   \n",
              "112647  fffce4705a9662cd70adb13d4a31832d              1   \n",
              "112648  fffe18544ffabc95dfada21779c9644f              1   \n",
              "112649  fffe41c64501cc87c801fd61db3f6244              1   \n",
              "\n",
              "                              product_id                         seller_id  \\\n",
              "0       4244733e06e7ecb4970a6e2683c13e61  48436dade18ac8b2bce089ec2a041202   \n",
              "1       e5f2d52b802189ee658865ca93d83a8f  dd7ddc04e1b6c2c614352b383efe2d36   \n",
              "2       c777355d18b72b67abbeef9df44fd0fd  5b51032eddd242adc84c38acab88f23d   \n",
              "3       7634da152a4610f1595efa32f14722fc  9d7a1d34a5052409006425275ba1c2b4   \n",
              "4       ac6c3623068f30de03045865e4e10089  df560393f3a51e74553ab94004ba5c87   \n",
              "...                                  ...                               ...   \n",
              "112645  4aa6014eceb682077f9dc4bffebc05b0  b8bc237ba3788b23da09c0f1f3a3288c   \n",
              "112646  32e07fd915822b0765e448c4dd74c828  f3c38ab652836d21de61fb8314b69182   \n",
              "112647  72a30483855e2eafc67aee5dc2560482  c3cfdc648177fdbbbb35635a37472c53   \n",
              "112648  9c422a519119dcad7575db5af1ba540e  2b3e4a2a3ea8e01938cabda2a3e5cc79   \n",
              "112649  350688d9dc1e75ff97be326363655e01  f7ccf836d21b2fb1de37564105216cc1   \n",
              "\n",
              "        shipping_limit_date   price  freight_value  \n",
              "0       2017-09-19 09:45:35   58.90          13.29  \n",
              "1       2017-05-03 11:05:13  239.90          19.93  \n",
              "2       2018-01-18 14:48:30  199.00          17.87  \n",
              "3       2018-08-15 10:10:18   12.99          12.79  \n",
              "4       2017-02-13 13:57:51  199.90          18.14  \n",
              "...                     ...     ...            ...  \n",
              "112645  2018-05-02 04:11:01  299.99          43.41  \n",
              "112646  2018-07-20 04:31:48  350.00          36.53  \n",
              "112647  2017-10-30 17:14:25   99.90          16.95  \n",
              "112648  2017-08-21 00:04:32   55.99           8.72  \n",
              "112649  2018-06-12 17:10:13   43.00          12.79  \n",
              "\n",
              "[112650 rows x 7 columns]"
            ]
          },
          "execution_count": 5,
          "metadata": {},
          "output_type": "execute_result"
        }
      ],
      "source": [
        "df_olist_order_items"
      ]
    },
    {
      "cell_type": "markdown",
      "metadata": {
        "id": "9kTkMpHOZW-U"
      },
      "source": [
        "Вопрос № 1\n",
        "Сколько у нас пользователей, которые совершили покупку только один раз? (7 баллов) "
      ]
    },
    {
      "cell_type": "code",
      "execution_count": null,
      "metadata": {
        "id": "0m68yraXZW-U"
      },
      "outputs": [],
      "source": [
        "df_olist_orders_one_purchase = df_olist_orders \\\n",
        "    .query('order_status != \"canceled\" and order_status != \"unavailable\"')"
      ]
    },
    {
      "cell_type": "code",
      "execution_count": null,
      "metadata": {
        "id": "5d6YqfC_ZW-V"
      },
      "outputs": [],
      "source": [
        "df_customer_unique_id = df_olist_customers.merge(df_olist_orders_one_purchase, how='left', on='customer_id')"
      ]
    },
    {
      "cell_type": "code",
      "execution_count": null,
      "metadata": {
        "id": "cPfddBHwZW-V"
      },
      "outputs": [],
      "source": [
        "df_all_one_pay = df_customer_unique_id \\\n",
        "    .groupby('customer_unique_id', as_index=False) \\\n",
        "    .agg({'order_approved_at': 'count'}) \\\n",
        "    .sort_values('order_approved_at', ascending=False)"
      ]
    },
    {
      "cell_type": "code",
      "execution_count": null,
      "metadata": {
        "id": "OzsC5EdiZW-V",
        "outputId": "02c6cddf-cdeb-4e9b-dcf3-2b9aaa7bf412"
      },
      "outputs": [
        {
          "data": {
            "text/plain": [
              "1     92087\n",
              "2      2650\n",
              "0      1123\n",
              "3       188\n",
              "4        29\n",
              "5         9\n",
              "6         5\n",
              "7         3\n",
              "16        1\n",
              "9         1\n",
              "Name: order_approved_at, dtype: int64"
            ]
          },
          "execution_count": 9,
          "metadata": {},
          "output_type": "execute_result"
        }
      ],
      "source": [
        "df_all_one_pay['order_approved_at'].value_counts()"
      ]
    },
    {
      "cell_type": "markdown",
      "metadata": {
        "id": "kH2f9WYtZW-W"
      },
      "source": [
        "Ответ: 92087 пользователей совершили одну покупку."
      ]
    },
    {
      "cell_type": "markdown",
      "metadata": {
        "id": "AP58bUelZW-W"
      },
      "source": [
        "Задание № 2\n",
        "Сколько заказов в месяц в среднем не доставляется по разным причинам (вывести детализацию по причинам)? (5 баллов)"
      ]
    },
    {
      "cell_type": "code",
      "execution_count": null,
      "metadata": {
        "id": "o2D0F6WJZW-W"
      },
      "outputs": [],
      "source": [
        "df_olist_orders['order_purchase_timestamp'] = pd.to_datetime(df_olist_orders.order_purchase_timestamp)"
      ]
    },
    {
      "cell_type": "code",
      "execution_count": null,
      "metadata": {
        "id": "yYpuBYTdZW-W",
        "outputId": "0ae8826c-0412-4590-9df6-bb80493ae2c8"
      },
      "outputs": [
        {
          "data": {
            "text/html": [
              "<div>\n",
              "<style scoped>\n",
              "    .dataframe tbody tr th:only-of-type {\n",
              "        vertical-align: middle;\n",
              "    }\n",
              "\n",
              "    .dataframe tbody tr th {\n",
              "        vertical-align: top;\n",
              "    }\n",
              "\n",
              "    .dataframe thead th {\n",
              "        text-align: right;\n",
              "    }\n",
              "</style>\n",
              "<table border=\"1\" class=\"dataframe\">\n",
              "  <thead>\n",
              "    <tr style=\"text-align: right;\">\n",
              "      <th></th>\n",
              "      <th>order_id</th>\n",
              "      <th>customer_id</th>\n",
              "      <th>order_status</th>\n",
              "      <th>order_purchase_timestamp</th>\n",
              "      <th>order_approved_at</th>\n",
              "      <th>order_delivered_carrier_date</th>\n",
              "      <th>order_delivered_customer_date</th>\n",
              "      <th>order_estimated_delivery_date</th>\n",
              "    </tr>\n",
              "  </thead>\n",
              "  <tbody>\n",
              "    <tr>\n",
              "      <th>266</th>\n",
              "      <td>8e24261a7e58791d10cb1bf9da94df5c</td>\n",
              "      <td>64a254d30eed42cd0e6c36dddb88adf0</td>\n",
              "      <td>unavailable</td>\n",
              "      <td>2017-11-16 15:09:28</td>\n",
              "      <td>2017-11-16 15:26:57</td>\n",
              "      <td>NaN</td>\n",
              "      <td>NaN</td>\n",
              "      <td>2017-12-05 00:00:00</td>\n",
              "    </tr>\n",
              "    <tr>\n",
              "      <th>397</th>\n",
              "      <td>1b9ecfe83cdc259250e1a8aca174f0ad</td>\n",
              "      <td>6d6b50b66d79f80827b6d96751528d30</td>\n",
              "      <td>canceled</td>\n",
              "      <td>2018-08-04 14:29:27</td>\n",
              "      <td>2018-08-07 04:10:26</td>\n",
              "      <td>NaN</td>\n",
              "      <td>NaN</td>\n",
              "      <td>2018-08-14 00:00:00</td>\n",
              "    </tr>\n",
              "    <tr>\n",
              "      <th>586</th>\n",
              "      <td>c272bcd21c287498b4883c7512019702</td>\n",
              "      <td>9582c5bbecc65eb568e2c1d839b5cba1</td>\n",
              "      <td>unavailable</td>\n",
              "      <td>2018-01-31 11:31:37</td>\n",
              "      <td>2018-01-31 14:23:50</td>\n",
              "      <td>NaN</td>\n",
              "      <td>NaN</td>\n",
              "      <td>2018-02-16 00:00:00</td>\n",
              "    </tr>\n",
              "    <tr>\n",
              "      <th>613</th>\n",
              "      <td>714fb133a6730ab81fa1d3c1b2007291</td>\n",
              "      <td>e3fe72696c4713d64d3c10afe71e75ed</td>\n",
              "      <td>canceled</td>\n",
              "      <td>2018-01-26 21:34:08</td>\n",
              "      <td>2018-01-26 21:58:39</td>\n",
              "      <td>2018-01-29 22:33:25</td>\n",
              "      <td>NaN</td>\n",
              "      <td>2018-02-22 00:00:00</td>\n",
              "    </tr>\n",
              "    <tr>\n",
              "      <th>687</th>\n",
              "      <td>37553832a3a89c9b2db59701c357ca67</td>\n",
              "      <td>7607cd563696c27ede287e515812d528</td>\n",
              "      <td>unavailable</td>\n",
              "      <td>2017-08-14 17:38:02</td>\n",
              "      <td>2017-08-17 00:15:18</td>\n",
              "      <td>NaN</td>\n",
              "      <td>NaN</td>\n",
              "      <td>2017-09-05 00:00:00</td>\n",
              "    </tr>\n",
              "    <tr>\n",
              "      <th>...</th>\n",
              "      <td>...</td>\n",
              "      <td>...</td>\n",
              "      <td>...</td>\n",
              "      <td>...</td>\n",
              "      <td>...</td>\n",
              "      <td>...</td>\n",
              "      <td>...</td>\n",
              "      <td>...</td>\n",
              "    </tr>\n",
              "    <tr>\n",
              "      <th>99252</th>\n",
              "      <td>aaab15da689073f8f9aa978a390a69d1</td>\n",
              "      <td>df20748206e4b865b2f14a5eabbfcf34</td>\n",
              "      <td>unavailable</td>\n",
              "      <td>2018-01-16 14:27:59</td>\n",
              "      <td>2018-01-17 03:37:34</td>\n",
              "      <td>NaN</td>\n",
              "      <td>NaN</td>\n",
              "      <td>2018-02-06 00:00:00</td>\n",
              "    </tr>\n",
              "    <tr>\n",
              "      <th>99283</th>\n",
              "      <td>3a3cddda5a7c27851bd96c3313412840</td>\n",
              "      <td>0b0d6095c5555fe083844281f6b093bb</td>\n",
              "      <td>canceled</td>\n",
              "      <td>2018-08-31 16:13:44</td>\n",
              "      <td>NaN</td>\n",
              "      <td>NaN</td>\n",
              "      <td>NaN</td>\n",
              "      <td>2018-10-01 00:00:00</td>\n",
              "    </tr>\n",
              "    <tr>\n",
              "      <th>99347</th>\n",
              "      <td>a89abace0dcc01eeb267a9660b5ac126</td>\n",
              "      <td>2f0524a7b1b3845a1a57fcf3910c4333</td>\n",
              "      <td>canceled</td>\n",
              "      <td>2018-09-06 18:45:47</td>\n",
              "      <td>NaN</td>\n",
              "      <td>NaN</td>\n",
              "      <td>NaN</td>\n",
              "      <td>2018-09-27 00:00:00</td>\n",
              "    </tr>\n",
              "    <tr>\n",
              "      <th>99348</th>\n",
              "      <td>a69ba794cc7deb415c3e15a0a3877e69</td>\n",
              "      <td>726f0894b5becdf952ea537d5266e543</td>\n",
              "      <td>unavailable</td>\n",
              "      <td>2017-08-23 16:28:04</td>\n",
              "      <td>2017-08-28 15:44:47</td>\n",
              "      <td>NaN</td>\n",
              "      <td>NaN</td>\n",
              "      <td>2017-09-15 00:00:00</td>\n",
              "    </tr>\n",
              "    <tr>\n",
              "      <th>99415</th>\n",
              "      <td>5fabc81b6322c8443648e1b21a6fef21</td>\n",
              "      <td>32c9df889d41b0ee8309a5efb6855dcb</td>\n",
              "      <td>unavailable</td>\n",
              "      <td>2017-10-10 10:50:03</td>\n",
              "      <td>2017-10-14 18:35:57</td>\n",
              "      <td>NaN</td>\n",
              "      <td>NaN</td>\n",
              "      <td>2017-10-23 00:00:00</td>\n",
              "    </tr>\n",
              "  </tbody>\n",
              "</table>\n",
              "<p>1234 rows × 8 columns</p>\n",
              "</div>"
            ],
            "text/plain": [
              "                               order_id                       customer_id  \\\n",
              "266    8e24261a7e58791d10cb1bf9da94df5c  64a254d30eed42cd0e6c36dddb88adf0   \n",
              "397    1b9ecfe83cdc259250e1a8aca174f0ad  6d6b50b66d79f80827b6d96751528d30   \n",
              "586    c272bcd21c287498b4883c7512019702  9582c5bbecc65eb568e2c1d839b5cba1   \n",
              "613    714fb133a6730ab81fa1d3c1b2007291  e3fe72696c4713d64d3c10afe71e75ed   \n",
              "687    37553832a3a89c9b2db59701c357ca67  7607cd563696c27ede287e515812d528   \n",
              "...                                 ...                               ...   \n",
              "99252  aaab15da689073f8f9aa978a390a69d1  df20748206e4b865b2f14a5eabbfcf34   \n",
              "99283  3a3cddda5a7c27851bd96c3313412840  0b0d6095c5555fe083844281f6b093bb   \n",
              "99347  a89abace0dcc01eeb267a9660b5ac126  2f0524a7b1b3845a1a57fcf3910c4333   \n",
              "99348  a69ba794cc7deb415c3e15a0a3877e69  726f0894b5becdf952ea537d5266e543   \n",
              "99415  5fabc81b6322c8443648e1b21a6fef21  32c9df889d41b0ee8309a5efb6855dcb   \n",
              "\n",
              "      order_status order_purchase_timestamp    order_approved_at  \\\n",
              "266    unavailable      2017-11-16 15:09:28  2017-11-16 15:26:57   \n",
              "397       canceled      2018-08-04 14:29:27  2018-08-07 04:10:26   \n",
              "586    unavailable      2018-01-31 11:31:37  2018-01-31 14:23:50   \n",
              "613       canceled      2018-01-26 21:34:08  2018-01-26 21:58:39   \n",
              "687    unavailable      2017-08-14 17:38:02  2017-08-17 00:15:18   \n",
              "...            ...                      ...                  ...   \n",
              "99252  unavailable      2018-01-16 14:27:59  2018-01-17 03:37:34   \n",
              "99283     canceled      2018-08-31 16:13:44                  NaN   \n",
              "99347     canceled      2018-09-06 18:45:47                  NaN   \n",
              "99348  unavailable      2017-08-23 16:28:04  2017-08-28 15:44:47   \n",
              "99415  unavailable      2017-10-10 10:50:03  2017-10-14 18:35:57   \n",
              "\n",
              "      order_delivered_carrier_date order_delivered_customer_date  \\\n",
              "266                            NaN                           NaN   \n",
              "397                            NaN                           NaN   \n",
              "586                            NaN                           NaN   \n",
              "613            2018-01-29 22:33:25                           NaN   \n",
              "687                            NaN                           NaN   \n",
              "...                            ...                           ...   \n",
              "99252                          NaN                           NaN   \n",
              "99283                          NaN                           NaN   \n",
              "99347                          NaN                           NaN   \n",
              "99348                          NaN                           NaN   \n",
              "99415                          NaN                           NaN   \n",
              "\n",
              "      order_estimated_delivery_date  \n",
              "266             2017-12-05 00:00:00  \n",
              "397             2018-08-14 00:00:00  \n",
              "586             2018-02-16 00:00:00  \n",
              "613             2018-02-22 00:00:00  \n",
              "687             2017-09-05 00:00:00  \n",
              "...                             ...  \n",
              "99252           2018-02-06 00:00:00  \n",
              "99283           2018-10-01 00:00:00  \n",
              "99347           2018-09-27 00:00:00  \n",
              "99348           2017-09-15 00:00:00  \n",
              "99415           2017-10-23 00:00:00  \n",
              "\n",
              "[1234 rows x 8 columns]"
            ]
          },
          "execution_count": 20,
          "metadata": {},
          "output_type": "execute_result"
        }
      ],
      "source": [
        "df_olist_orders_canceled = df_olist_orders \\\n",
        "    .query('order_status == \"canceled\" or order_status == \"unavailable\"')\n",
        "df_olist_orders_canceled"
      ]
    },
    {
      "cell_type": "code",
      "execution_count": null,
      "metadata": {
        "id": "NiCQPF8GZW-X"
      },
      "outputs": [],
      "source": [
        "not_delivered_orders_by_month = (df_olist_orders_canceled.groupby(['order_status', pd.Grouper(key='order_purchase_timestamp', freq='1M')])['order_status']\n",
        "        .count()\n",
        "        .rename_axis(['order_status_count', 'order_purchase_timestamp'])\n",
        "        .reset_index())"
      ]
    },
    {
      "cell_type": "code",
      "execution_count": null,
      "metadata": {
        "id": "wjULZUOSZW-X"
      },
      "outputs": [],
      "source": [
        "not_delivered_orders_by_month = pd.DataFrame(not_delivered_orders_by_month)"
      ]
    },
    {
      "cell_type": "code",
      "execution_count": null,
      "metadata": {
        "id": "YpAn8bLRZW-X",
        "outputId": "1bd061d8-ac30-46e6-d228-f8fd5aaf9030"
      },
      "outputs": [
        {
          "data": {
            "image/png": "[encoded data removed]",
            "text/plain": [
              "<Figure size 576x720 with 1 Axes>"
            ]
          },
          "metadata": {},
          "output_type": "display_data"
        }
      ],
      "source": [
        "sns.set_theme(style=\"darkgrid\")\n",
        "sns.lineplot(x=\"order_purchase_timestamp\",\n",
        "             y=\"order_status\",\n",
        "             hue=\"order_status_count\",\n",
        "             data=not_delivered_orders_by_month)\n",
        "plt.rcParams['figure.figsize']=(8,10)"
      ]
    },
    {
      "cell_type": "code",
      "execution_count": null,
      "metadata": {
        "id": "My39NUjwZW-Y",
        "outputId": "9915224d-59ae-458e-f9ab-684b355be4c1"
      },
      "outputs": [
        {
          "data": {
            "text/plain": [
              "24"
            ]
          },
          "execution_count": 24,
          "metadata": {},
          "output_type": "execute_result"
        }
      ],
      "source": [
        "df_canceled = not_delivered_orders_by_month.query('order_status_count == \"canceled\"')\n",
        "df_canceled.order_status.count()"
      ]
    },
    {
      "cell_type": "code",
      "execution_count": null,
      "metadata": {
        "id": "8TsdwCtFZW-Y",
        "outputId": "252010a3-70c4-4bbd-fb9a-dd1d68967c37"
      },
      "outputs": [
        {
          "data": {
            "text/plain": [
              "21"
            ]
          },
          "execution_count": 25,
          "metadata": {},
          "output_type": "execute_result"
        }
      ],
      "source": [
        "df_unavailable = not_delivered_orders_by_month.query('order_status_count == \"unavailable\"')\n",
        "df_unavailable.order_status.count()"
      ]
    },
    {
      "cell_type": "code",
      "execution_count": null,
      "metadata": {
        "id": "JSd_oKEIZW-Z",
        "outputId": "8e46d7d6-f062-4992-f827-df7a8b002637"
      },
      "outputs": [
        {
          "name": "stderr",
          "output_type": "stream",
          "text": [
            "/opt/tljh/user/lib/python3.7/site-packages/ipykernel_launcher.py:2: FutureWarning: DataFrame.mean and DataFrame.median with numeric_only=None will include datetime64 and datetime64tz columns in a future version.\n",
            "  \n"
          ]
        },
        {
          "data": {
            "text/plain": [
              "order_status    27.422222\n",
              "dtype: float64"
            ]
          },
          "execution_count": 26,
          "metadata": {},
          "output_type": "execute_result"
        }
      ],
      "source": [
        "df_not_delivered_orders = not_delivered_orders_by_month.query('order_status_count == \"unavailable\" or order_status_count == \"canceled\" ')\n",
        "df_not_delivered_orders.mean()"
      ]
    },
    {
      "cell_type": "markdown",
      "metadata": {
        "id": "sslMAHnVZW-Z"
      },
      "source": [
        "Ответ: В среднем не доставляется 27.4 заказа в месяц из которых  доля отмененных 0.53, а недоступных 0.46."
      ]
    },
    {
      "cell_type": "markdown",
      "metadata": {
        "id": "xfaKnYZ1ZW-Z"
      },
      "source": [
        "Задание № 3\n",
        "По каждому товару определить, в какой день недели товар чаще всего покупается."
      ]
    },
    {
      "cell_type": "code",
      "execution_count": null,
      "metadata": {
        "id": "UHD-aNmFZW-Z"
      },
      "outputs": [],
      "source": [
        "df_olist_orders_delivered = df_olist_orders \\\n",
        "    .query('order_status != \"canceled\" and order_status != \"unavailable\"')"
      ]
    },
    {
      "cell_type": "code",
      "execution_count": null,
      "metadata": {
        "id": "AKBrCK_MZW-a"
      },
      "outputs": [],
      "source": [
        "df_items_and_purchase_date  = df_olist_orders_delivered.merge(df_olist_order_items, how='left', on='order_id')"
      ]
    },
    {
      "cell_type": "code",
      "execution_count": null,
      "metadata": {
        "id": "RM7tveBxZW-a"
      },
      "outputs": [],
      "source": [
        "df_items_and_purchase_date['order_approved_at'] = pd.to_datetime(df_items_and_purchase_date.order_approved_at)"
      ]
    },
    {
      "cell_type": "code",
      "execution_count": null,
      "metadata": {
        "id": "KqJxEmblZW-a"
      },
      "outputs": [],
      "source": [
        "df_olist_order_items_day = df_items_and_purchase_date \\\n",
        "        .groupby(['product_id', pd.Grouper(key='order_approved_at', freq='D')])['price'] \\\n",
        "        .count() \\\n",
        "        .reset_index()"
      ]
    },
    {
      "cell_type": "code",
      "execution_count": null,
      "metadata": {
        "id": "26RdGtYMZW-a"
      },
      "outputs": [],
      "source": [
        "df_olist_order_items_day['Day_of_the_Week'] = pd.to_datetime(df_olist_order_items_day['order_approved_at']).dt.day_name()"
      ]
    },
    {
      "cell_type": "code",
      "execution_count": null,
      "metadata": {
        "id": "bOJdSBCPZW-b"
      },
      "outputs": [],
      "source": [
        "df_olist_order_items_day_result = df_olist_order_items_day \\\n",
        "    .groupby(['product_id', 'Day_of_the_Week'], as_index=[False, False]) \\\n",
        "    .agg({'price': 'sum'}) \\\n",
        "    .reset_index() \\\n",
        "    .sort_values('product_id', ascending=False) \\\n",
        "    .rename(columns={'price': 'product_count'}) \\\n",
        "    .pivot(index='product_id', columns='Day_of_the_Week', values='product_count') \\\n",
        "    .fillna(0)"
      ]
    },
    {
      "cell_type": "code",
      "execution_count": null,
      "metadata": {
        "id": "bcN039gJZW-b"
      },
      "outputs": [],
      "source": [
        "most_frequent_day_of_the_week_for_shopping = pd.DataFrame(df_olist_order_items_day_result.idxmax(axis=\"columns\"))  \\\n",
        "    .reset_index() \\\n",
        "    .rename(columns={ 0 : 'Day_max_sales'})"
      ]
    },
    {
      "cell_type": "code",
      "execution_count": null,
      "metadata": {
        "id": "OZ0vw0C9ZW-b",
        "outputId": "7476de28-52ad-4adf-ad16-47ee8620666e"
      },
      "outputs": [
        {
          "data": {
            "text/html": [
              "<div>\n",
              "<style scoped>\n",
              "    .dataframe tbody tr th:only-of-type {\n",
              "        vertical-align: middle;\n",
              "    }\n",
              "\n",
              "    .dataframe tbody tr th {\n",
              "        vertical-align: top;\n",
              "    }\n",
              "\n",
              "    .dataframe thead th {\n",
              "        text-align: right;\n",
              "    }\n",
              "</style>\n",
              "<table border=\"1\" class=\"dataframe\">\n",
              "  <thead>\n",
              "    <tr style=\"text-align: right;\">\n",
              "      <th></th>\n",
              "      <th>product_id</th>\n",
              "      <th>Day_max_sales</th>\n",
              "    </tr>\n",
              "  </thead>\n",
              "  <tbody>\n",
              "    <tr>\n",
              "      <th>0</th>\n",
              "      <td>00066f42aeeb9f3007548bb9d3f33c38</td>\n",
              "      <td>Sunday</td>\n",
              "    </tr>\n",
              "    <tr>\n",
              "      <th>1</th>\n",
              "      <td>00088930e925c41fd95ebfe695fd2655</td>\n",
              "      <td>Tuesday</td>\n",
              "    </tr>\n",
              "    <tr>\n",
              "      <th>2</th>\n",
              "      <td>0009406fd7479715e4bef61dd91f2462</td>\n",
              "      <td>Friday</td>\n",
              "    </tr>\n",
              "    <tr>\n",
              "      <th>3</th>\n",
              "      <td>000b8f95fcb9e0096488278317764d19</td>\n",
              "      <td>Friday</td>\n",
              "    </tr>\n",
              "    <tr>\n",
              "      <th>4</th>\n",
              "      <td>000d9be29b5207b54e86aa1b1ac54872</td>\n",
              "      <td>Tuesday</td>\n",
              "    </tr>\n",
              "    <tr>\n",
              "      <th>...</th>\n",
              "      <td>...</td>\n",
              "      <td>...</td>\n",
              "    </tr>\n",
              "    <tr>\n",
              "      <th>32721</th>\n",
              "      <td>fff6177642830a9a94a0f2cba5e476d1</td>\n",
              "      <td>Monday</td>\n",
              "    </tr>\n",
              "    <tr>\n",
              "      <th>32722</th>\n",
              "      <td>fff81cc3158d2725c0655ab9ba0f712c</td>\n",
              "      <td>Monday</td>\n",
              "    </tr>\n",
              "    <tr>\n",
              "      <th>32723</th>\n",
              "      <td>fff9553ac224cec9d15d49f5a263411f</td>\n",
              "      <td>Saturday</td>\n",
              "    </tr>\n",
              "    <tr>\n",
              "      <th>32724</th>\n",
              "      <td>fffdb2d0ec8d6a61f0a0a0db3f25b441</td>\n",
              "      <td>Tuesday</td>\n",
              "    </tr>\n",
              "    <tr>\n",
              "      <th>32725</th>\n",
              "      <td>fffe9eeff12fcbd74a2f2b007dde0c58</td>\n",
              "      <td>Wednesday</td>\n",
              "    </tr>\n",
              "  </tbody>\n",
              "</table>\n",
              "<p>32726 rows × 2 columns</p>\n",
              "</div>"
            ],
            "text/plain": [
              "                             product_id Day_max_sales\n",
              "0      00066f42aeeb9f3007548bb9d3f33c38        Sunday\n",
              "1      00088930e925c41fd95ebfe695fd2655       Tuesday\n",
              "2      0009406fd7479715e4bef61dd91f2462        Friday\n",
              "3      000b8f95fcb9e0096488278317764d19        Friday\n",
              "4      000d9be29b5207b54e86aa1b1ac54872       Tuesday\n",
              "...                                 ...           ...\n",
              "32721  fff6177642830a9a94a0f2cba5e476d1        Monday\n",
              "32722  fff81cc3158d2725c0655ab9ba0f712c        Monday\n",
              "32723  fff9553ac224cec9d15d49f5a263411f      Saturday\n",
              "32724  fffdb2d0ec8d6a61f0a0a0db3f25b441       Tuesday\n",
              "32725  fffe9eeff12fcbd74a2f2b007dde0c58     Wednesday\n",
              "\n",
              "[32726 rows x 2 columns]"
            ]
          },
          "execution_count": 34,
          "metadata": {},
          "output_type": "execute_result"
        }
      ],
      "source": [
        "most_frequent_day_of_the_week_for_shopping"
      ]
    },
    {
      "cell_type": "markdown",
      "metadata": {
        "id": "TAsbCtdXZW-b"
      },
      "source": [
        "Задание № 4\n",
        "Сколько у каждого из пользователей в среднем покупок в неделю (по месяцам)? Не стоит забывать, что внутри месяца может быть не целое количество недель. Например, в ноябре 2021 года 4,28 недели. И внутри метрики это нужно учесть."
      ]
    },
    {
      "cell_type": "code",
      "execution_count": null,
      "metadata": {
        "id": "WSBKJ6BKZW-c"
      },
      "outputs": [],
      "source": [
        "df_olist_orders_delivered = df_olist_orders \\\n",
        "    .query('order_status != \"canceled\" and order_status != \"unavailable\"')"
      ]
    },
    {
      "cell_type": "code",
      "execution_count": null,
      "metadata": {
        "id": "YkTKeYzTZW-c"
      },
      "outputs": [],
      "source": [
        "df_all = df_olist_customers.merge(df_olist_orders_delivered, how='left', on='customer_id')"
      ]
    },
    {
      "cell_type": "code",
      "execution_count": null,
      "metadata": {
        "id": "RF1Uh3POZW-c"
      },
      "outputs": [],
      "source": [
        "average_purchases_per_week = df_all[['customer_unique_id', 'order_approved_at', 'customer_id']]"
      ]
    },
    {
      "cell_type": "code",
      "execution_count": null,
      "metadata": {
        "id": "vsFsiIHpZW-c"
      },
      "outputs": [],
      "source": [
        "average_purchases_per_week.columns = ['customer_id', 'date_pay', 'number_of_purchases']"
      ]
    },
    {
      "cell_type": "code",
      "execution_count": null,
      "metadata": {
        "id": "42C1KmSdZW-c",
        "outputId": "fde604e2-2841-43a3-8061-c15a13a2173f"
      },
      "outputs": [
        {
          "name": "stderr",
          "output_type": "stream",
          "text": [
            "/opt/tljh/user/lib/python3.7/site-packages/ipykernel_launcher.py:1: SettingWithCopyWarning: \n",
            "A value is trying to be set on a copy of a slice from a DataFrame.\n",
            "Try using .loc[row_indexer,col_indexer] = value instead\n",
            "\n",
            "See the caveats in the documentation: https://pandas.pydata.org/pandas-docs/stable/user_guide/indexing.html#returning-a-view-versus-a-copy\n",
            "  \"\"\"Entry point for launching an IPython kernel.\n"
          ]
        }
      ],
      "source": [
        "average_purchases_per_week['date_pay'] = pd.to_datetime(average_purchases_per_week.date_pay)"
      ]
    },
    {
      "cell_type": "code",
      "execution_count": null,
      "metadata": {
        "id": "up3Qn0MEZW-d",
        "outputId": "9fd492cd-4a3d-427a-c11e-2c77b3fe80ee"
      },
      "outputs": [
        {
          "name": "stderr",
          "output_type": "stream",
          "text": [
            "/opt/tljh/user/lib/python3.7/site-packages/ipykernel_launcher.py:1: SettingWithCopyWarning: \n",
            "A value is trying to be set on a copy of a slice from a DataFrame.\n",
            "Try using .loc[row_indexer,col_indexer] = value instead\n",
            "\n",
            "See the caveats in the documentation: https://pandas.pydata.org/pandas-docs/stable/user_guide/indexing.html#returning-a-view-versus-a-copy\n",
            "  \"\"\"Entry point for launching an IPython kernel.\n"
          ]
        }
      ],
      "source": [
        "average_purchases_per_week['days_in_month'] = average_purchases_per_week['date_pay'].dt.days_in_month / 7"
      ]
    },
    {
      "cell_type": "code",
      "execution_count": null,
      "metadata": {
        "id": "HE8WeK_ZZW-d",
        "outputId": "c7fa8527-c2d4-4c55-d97f-9d89ef1fd90d"
      },
      "outputs": [
        {
          "name": "stderr",
          "output_type": "stream",
          "text": [
            "/opt/tljh/user/lib/python3.7/site-packages/ipykernel_launcher.py:1: SettingWithCopyWarning: \n",
            "A value is trying to be set on a copy of a slice from a DataFrame.\n",
            "Try using .loc[row_indexer,col_indexer] = value instead\n",
            "\n",
            "See the caveats in the documentation: https://pandas.pydata.org/pandas-docs/stable/user_guide/indexing.html#returning-a-view-versus-a-copy\n",
            "  \"\"\"Entry point for launching an IPython kernel.\n"
          ]
        }
      ],
      "source": [
        "average_purchases_per_week['count'] = 1"
      ]
    },
    {
      "cell_type": "code",
      "execution_count": null,
      "metadata": {
        "id": "xVmOxYw-ZW-d"
      },
      "outputs": [],
      "source": [
        "average_purchases_per_week = average_purchases_per_week \\\n",
        "    .groupby('customer_id', as_index=False) \\\n",
        "    .agg({'count': 'sum', 'days_in_month' : 'mean'}) \\\n",
        "    .sort_values('count', ascending=True)"
      ]
    },
    {
      "cell_type": "code",
      "execution_count": null,
      "metadata": {
        "id": "wGUfqtFDZW-d"
      },
      "outputs": [],
      "source": [
        "average_purchases_per_week.columns = ['customer_id', 'number_of_purchases', 'weeks_in_month']"
      ]
    },
    {
      "cell_type": "code",
      "execution_count": null,
      "metadata": {
        "id": "ArIlgZEGZW-e"
      },
      "outputs": [],
      "source": [
        "average_purchases_per_week['number_of_purchases_in_week_mean'] = \\\n",
        "    average_purchases_per_week['number_of_purchases'] / average_purchases_per_week['weeks_in_month']"
      ]
    },
    {
      "cell_type": "code",
      "execution_count": null,
      "metadata": {
        "id": "r4LVJ4O4ZW-e",
        "outputId": "b64d61fc-39a5-45cf-9369-f4d3473552c9"
      },
      "outputs": [
        {
          "data": {
            "text/html": [
              "<div>\n",
              "<style scoped>\n",
              "    .dataframe tbody tr th:only-of-type {\n",
              "        vertical-align: middle;\n",
              "    }\n",
              "\n",
              "    .dataframe tbody tr th {\n",
              "        vertical-align: top;\n",
              "    }\n",
              "\n",
              "    .dataframe thead th {\n",
              "        text-align: right;\n",
              "    }\n",
              "</style>\n",
              "<table border=\"1\" class=\"dataframe\">\n",
              "  <thead>\n",
              "    <tr style=\"text-align: right;\">\n",
              "      <th></th>\n",
              "      <th>customer_id</th>\n",
              "      <th>number_of_purchases</th>\n",
              "      <th>weeks_in_month</th>\n",
              "      <th>number_of_purchases_in_week_mean</th>\n",
              "    </tr>\n",
              "  </thead>\n",
              "  <tbody>\n",
              "    <tr>\n",
              "      <th>0</th>\n",
              "      <td>0000366f3b9a7992bf8c76cfdf3221e2</td>\n",
              "      <td>1</td>\n",
              "      <td>4.428571</td>\n",
              "      <td>0.225806</td>\n",
              "    </tr>\n",
              "    <tr>\n",
              "      <th>63580</th>\n",
              "      <td>a926cfc9bc7b082335de50450f48eec9</td>\n",
              "      <td>1</td>\n",
              "      <td>4.285714</td>\n",
              "      <td>0.233333</td>\n",
              "    </tr>\n",
              "    <tr>\n",
              "      <th>63579</th>\n",
              "      <td>a926aae38267e7f54e67de9b5775d0a5</td>\n",
              "      <td>1</td>\n",
              "      <td>4.428571</td>\n",
              "      <td>0.225806</td>\n",
              "    </tr>\n",
              "    <tr>\n",
              "      <th>63578</th>\n",
              "      <td>a92605ec492805540520d3a73aaeeb6e</td>\n",
              "      <td>1</td>\n",
              "      <td>4.428571</td>\n",
              "      <td>0.225806</td>\n",
              "    </tr>\n",
              "    <tr>\n",
              "      <th>63577</th>\n",
              "      <td>a925c3e5df82fdc6082f1383d2834998</td>\n",
              "      <td>1</td>\n",
              "      <td>4.285714</td>\n",
              "      <td>0.233333</td>\n",
              "    </tr>\n",
              "    <tr>\n",
              "      <th>...</th>\n",
              "      <td>...</td>\n",
              "      <td>...</td>\n",
              "      <td>...</td>\n",
              "      <td>...</td>\n",
              "    </tr>\n",
              "    <tr>\n",
              "      <th>76082</th>\n",
              "      <td>ca77025e7201e3b30c44b472ff346268</td>\n",
              "      <td>7</td>\n",
              "      <td>4.265306</td>\n",
              "      <td>1.641148</td>\n",
              "    </tr>\n",
              "    <tr>\n",
              "      <th>37797</th>\n",
              "      <td>6469f99c1f9dfae7733b25662e7f1782</td>\n",
              "      <td>7</td>\n",
              "      <td>4.367347</td>\n",
              "      <td>1.602804</td>\n",
              "    </tr>\n",
              "    <tr>\n",
              "      <th>10354</th>\n",
              "      <td>1b6c7548a2a1f9037c1fd3ddfed95f33</td>\n",
              "      <td>7</td>\n",
              "      <td>4.326531</td>\n",
              "      <td>1.617925</td>\n",
              "    </tr>\n",
              "    <tr>\n",
              "      <th>23472</th>\n",
              "      <td>3e43e6105506432c953e165fb2acf44c</td>\n",
              "      <td>9</td>\n",
              "      <td>4.222222</td>\n",
              "      <td>2.131579</td>\n",
              "    </tr>\n",
              "    <tr>\n",
              "      <th>52973</th>\n",
              "      <td>8d50f5eadf50201ccdcedfb9e2ac8455</td>\n",
              "      <td>17</td>\n",
              "      <td>4.401786</td>\n",
              "      <td>3.862069</td>\n",
              "    </tr>\n",
              "  </tbody>\n",
              "</table>\n",
              "<p>96096 rows × 4 columns</p>\n",
              "</div>"
            ],
            "text/plain": [
              "                            customer_id  number_of_purchases  weeks_in_month  \\\n",
              "0      0000366f3b9a7992bf8c76cfdf3221e2                    1        4.428571   \n",
              "63580  a926cfc9bc7b082335de50450f48eec9                    1        4.285714   \n",
              "63579  a926aae38267e7f54e67de9b5775d0a5                    1        4.428571   \n",
              "63578  a92605ec492805540520d3a73aaeeb6e                    1        4.428571   \n",
              "63577  a925c3e5df82fdc6082f1383d2834998                    1        4.285714   \n",
              "...                                 ...                  ...             ...   \n",
              "76082  ca77025e7201e3b30c44b472ff346268                    7        4.265306   \n",
              "37797  6469f99c1f9dfae7733b25662e7f1782                    7        4.367347   \n",
              "10354  1b6c7548a2a1f9037c1fd3ddfed95f33                    7        4.326531   \n",
              "23472  3e43e6105506432c953e165fb2acf44c                    9        4.222222   \n",
              "52973  8d50f5eadf50201ccdcedfb9e2ac8455                   17        4.401786   \n",
              "\n",
              "       number_of_purchases_in_week_mean  \n",
              "0                              0.225806  \n",
              "63580                          0.233333  \n",
              "63579                          0.225806  \n",
              "63578                          0.225806  \n",
              "63577                          0.233333  \n",
              "...                                 ...  \n",
              "76082                          1.641148  \n",
              "37797                          1.602804  \n",
              "10354                          1.617925  \n",
              "23472                          2.131579  \n",
              "52973                          3.862069  \n",
              "\n",
              "[96096 rows x 4 columns]"
            ]
          },
          "execution_count": 55,
          "metadata": {},
          "output_type": "execute_result"
        }
      ],
      "source": [
        "average_purchases_per_week"
      ]
    },
    {
      "cell_type": "markdown",
      "metadata": {
        "id": "fyfpWTleZW-e"
      },
      "source": [
        "Задание № 5 \n",
        "Напиши функцию на python, позволяющую строить когортный анализ. В период с \n",
        "января по декабрь выяви когорту с самым высоким retention на 3-й месяц."
      ]
    },
    {
      "cell_type": "code",
      "execution_count": null,
      "metadata": {
        "id": "VIm7QnWiZW-e"
      },
      "outputs": [],
      "source": [
        "df_price = df_olist_order_items \\\n",
        "        .groupby('order_id', as_index=False) \\\n",
        "        .agg({'price': 'sum'})"
      ]
    },
    {
      "cell_type": "code",
      "execution_count": null,
      "metadata": {
        "id": "hw6tqinTZW-f"
      },
      "outputs": [],
      "source": [
        "df_all_clients = df_olist_orders.merge(df_olist_customers, how='outer', on='customer_id')\n",
        "df_all_clients = df_all_clients.merge(df_price, how='outer', on='order_id')"
      ]
    },
    {
      "cell_type": "code",
      "execution_count": null,
      "metadata": {
        "id": "jVqiu5bGZW-f"
      },
      "outputs": [],
      "source": [
        "columns = ['customer_unique_id','order_approved_at', 'price']\n",
        "df1     = pd.DataFrame(df_all_clients, columns=columns)"
      ]
    },
    {
      "cell_type": "code",
      "execution_count": null,
      "metadata": {
        "id": "niGjqj65ZW-f"
      },
      "outputs": [],
      "source": [
        "df_to_work = df1.dropna() "
      ]
    },
    {
      "cell_type": "code",
      "execution_count": null,
      "metadata": {
        "id": "wi0m1PbYZW-f"
      },
      "outputs": [],
      "source": [
        "df = df_to_work.rename(columns={'customer_unique_id': 'user_id',\n",
        "                                 'order_approved_at': 'date',\n",
        "                                             'price': 'revenue'\n",
        "                                })"
      ]
    },
    {
      "cell_type": "code",
      "execution_count": null,
      "metadata": {
        "id": "zwIFiq6yZW-f",
        "outputId": "1eb5be6b-5333-42f4-8487-9476d0f99fdc"
      },
      "outputs": [
        {
          "name": "stderr",
          "output_type": "stream",
          "text": [
            "/opt/tljh/user/lib/python3.7/site-packages/ipykernel_launcher.py:1: SettingWithCopyWarning: \n",
            "A value is trying to be set on a copy of a slice from a DataFrame.\n",
            "Try using .loc[row_indexer,col_indexer] = value instead\n",
            "\n",
            "See the caveats in the documentation: https://pandas.pydata.org/pandas-docs/stable/user_guide/indexing.html#returning-a-view-versus-a-copy\n",
            "  \"\"\"Entry point for launching an IPython kernel.\n"
          ]
        }
      ],
      "source": [
        "df_to_work['order_approved_at'] = pd.to_datetime(df_to_work.order_approved_at)"
      ]
    },
    {
      "cell_type": "code",
      "execution_count": null,
      "metadata": {
        "id": "x841E4v2ZW-g"
      },
      "outputs": [],
      "source": [
        "def cohort_analysis(user_id, date, revenue): # Функция для когортного анализа\n",
        "    series  = [user_id, date, revenue]\n",
        "    df = pd.concat(series, axis=1)\n",
        "    df['transaction_month'] = df['date'].astype('datetime64[M]')\n",
        "    df['reg_month'] = df['date'].astype('datetime64[M]')\n",
        "    user = df.groupby('user_id')['reg_month'].min().reset_index() # создаем переменную user с группировкой по юзеру и минимальной датой первого целевого действия\n",
        "    min_date = df['transaction_month'].min() # создаем переменные с минимальным и максимальным месяцем для календаря\n",
        "    max_date = df['transaction_month'].max()\n",
        "    month = pd.DataFrame(pd.date_range(min_date,max_date,freq='MS')) # генерируем календарь со сменой названия столбца\n",
        "    month.columns = ['month']\n",
        "    user['key']  = 1 # создаем сурогатные ключи для джоина фреймов\n",
        "    month['key'] = 1\n",
        "    template = user.merge(month,on='key')[['user_id','reg_month','month']] # джойним фрейм user с календарем по сурогатным ключам будоляем столбец с ключами и сохраняем фрейм в template\n",
        "    template = template[template['month'] >= template['reg_month']] # удаляем из template месяца где юзер еще не совершил целевое действие\n",
        "    trans_month = df.groupby(['user_id','transaction_month'])['revenue'].sum().reset_index() # создаем фрейм trans_month с группировкой по юзеру и сумме целевых действий\n",
        "    trans_month.columns = ['user_id','month','revenue'] # переименовваем столбцы в trans_month для джоина по месяцу и юзеру\n",
        "    report = template.merge(trans_month,on=['user_id','month'],how='left') # джойним фреймы template и trans_month по left, сохраняем все в переменную report\n",
        "    report['active'] = (report['revenue'] > 0)*1 # создаем столбец active с активностью пользователя\n",
        "    #retention = report.pivot_table(index='reg_month',columns='month',values='active',aggfunc='mean') # делаем сводную таблицу с индексами из дат первой покупки и столбец по месяцам\n",
        "    report['lifetime'] = ((report['month'] - report['reg_month'])/np.timedelta64(1, 'M')).round().astype(int) # создаем столбец с лайфтаймом\n",
        "    retention = report.pivot_table(index='reg_month',columns='lifetime',values='active',aggfunc='mean') # делаем сводную таблицу с индексами из дат первой покупки и столбецы с лайфтаймом\n",
        "    return retention"
      ]
    },
    {
      "cell_type": "code",
      "execution_count": null,
      "metadata": {
        "id": "fU537MttZW-g"
      },
      "outputs": [],
      "source": [
        "date    = df.date\n",
        "user_id = df.user_id\n",
        "revenue = df.revenue"
      ]
    },
    {
      "cell_type": "code",
      "execution_count": null,
      "metadata": {
        "id": "ggRtIIiZZW-g"
      },
      "outputs": [],
      "source": [
        "retention = cohort_analysis(user_id, date, revenue)"
      ]
    },
    {
      "cell_type": "code",
      "execution_count": null,
      "metadata": {
        "id": "qZt5efdbZW-g",
        "outputId": "2f8f0519-a75e-4db5-8b35-2ef6c3f2865e"
      },
      "outputs": [
        {
          "data": {
            "text/html": [
              "<div>\n",
              "<style scoped>\n",
              "    .dataframe tbody tr th:only-of-type {\n",
              "        vertical-align: middle;\n",
              "    }\n",
              "\n",
              "    .dataframe tbody tr th {\n",
              "        vertical-align: top;\n",
              "    }\n",
              "\n",
              "    .dataframe thead th {\n",
              "        text-align: right;\n",
              "    }\n",
              "</style>\n",
              "<table border=\"1\" class=\"dataframe\">\n",
              "  <thead>\n",
              "    <tr style=\"text-align: right;\">\n",
              "      <th>lifetime</th>\n",
              "      <th>0</th>\n",
              "      <th>1</th>\n",
              "      <th>2</th>\n",
              "      <th>3</th>\n",
              "      <th>4</th>\n",
              "      <th>5</th>\n",
              "      <th>6</th>\n",
              "      <th>7</th>\n",
              "      <th>8</th>\n",
              "      <th>9</th>\n",
              "      <th>...</th>\n",
              "      <th>15</th>\n",
              "      <th>16</th>\n",
              "      <th>17</th>\n",
              "      <th>18</th>\n",
              "      <th>19</th>\n",
              "      <th>20</th>\n",
              "      <th>21</th>\n",
              "      <th>22</th>\n",
              "      <th>23</th>\n",
              "      <th>24</th>\n",
              "    </tr>\n",
              "    <tr>\n",
              "      <th>reg_month</th>\n",
              "      <th></th>\n",
              "      <th></th>\n",
              "      <th></th>\n",
              "      <th></th>\n",
              "      <th></th>\n",
              "      <th></th>\n",
              "      <th></th>\n",
              "      <th></th>\n",
              "      <th></th>\n",
              "      <th></th>\n",
              "      <th></th>\n",
              "      <th></th>\n",
              "      <th></th>\n",
              "      <th></th>\n",
              "      <th></th>\n",
              "      <th></th>\n",
              "      <th></th>\n",
              "      <th></th>\n",
              "      <th></th>\n",
              "      <th></th>\n",
              "      <th></th>\n",
              "    </tr>\n",
              "  </thead>\n",
              "  <tbody>\n",
              "    <tr>\n",
              "      <th>2016-09-01</th>\n",
              "      <td>1.0</td>\n",
              "      <td>0.000000</td>\n",
              "      <td>0.000000</td>\n",
              "      <td>0.000000</td>\n",
              "      <td>0.000000</td>\n",
              "      <td>0.000000</td>\n",
              "      <td>0.000000</td>\n",
              "      <td>0.000000</td>\n",
              "      <td>0.000000</td>\n",
              "      <td>0.000000</td>\n",
              "      <td>...</td>\n",
              "      <td>0.000000</td>\n",
              "      <td>0.000000</td>\n",
              "      <td>0.000000</td>\n",
              "      <td>0.0</td>\n",
              "      <td>0.000000</td>\n",
              "      <td>0.000000</td>\n",
              "      <td>0.0</td>\n",
              "      <td>0.0</td>\n",
              "      <td>0.0</td>\n",
              "      <td>0.0</td>\n",
              "    </tr>\n",
              "    <tr>\n",
              "      <th>2016-10-01</th>\n",
              "      <td>1.0</td>\n",
              "      <td>0.000000</td>\n",
              "      <td>0.000000</td>\n",
              "      <td>0.000000</td>\n",
              "      <td>0.000000</td>\n",
              "      <td>0.000000</td>\n",
              "      <td>0.003257</td>\n",
              "      <td>0.000000</td>\n",
              "      <td>0.000000</td>\n",
              "      <td>0.003257</td>\n",
              "      <td>...</td>\n",
              "      <td>0.003257</td>\n",
              "      <td>0.000000</td>\n",
              "      <td>0.003257</td>\n",
              "      <td>0.0</td>\n",
              "      <td>0.006515</td>\n",
              "      <td>0.006515</td>\n",
              "      <td>0.0</td>\n",
              "      <td>0.0</td>\n",
              "      <td>0.0</td>\n",
              "      <td>NaN</td>\n",
              "    </tr>\n",
              "    <tr>\n",
              "      <th>2016-12-01</th>\n",
              "      <td>1.0</td>\n",
              "      <td>1.000000</td>\n",
              "      <td>0.000000</td>\n",
              "      <td>0.000000</td>\n",
              "      <td>0.000000</td>\n",
              "      <td>0.000000</td>\n",
              "      <td>0.000000</td>\n",
              "      <td>0.000000</td>\n",
              "      <td>0.000000</td>\n",
              "      <td>0.000000</td>\n",
              "      <td>...</td>\n",
              "      <td>0.000000</td>\n",
              "      <td>0.000000</td>\n",
              "      <td>0.000000</td>\n",
              "      <td>0.0</td>\n",
              "      <td>0.000000</td>\n",
              "      <td>0.000000</td>\n",
              "      <td>0.0</td>\n",
              "      <td>NaN</td>\n",
              "      <td>NaN</td>\n",
              "      <td>NaN</td>\n",
              "    </tr>\n",
              "    <tr>\n",
              "      <th>2017-01-01</th>\n",
              "      <td>1.0</td>\n",
              "      <td>0.005571</td>\n",
              "      <td>0.002786</td>\n",
              "      <td>0.001393</td>\n",
              "      <td>0.004178</td>\n",
              "      <td>0.001393</td>\n",
              "      <td>0.004178</td>\n",
              "      <td>0.001393</td>\n",
              "      <td>0.001393</td>\n",
              "      <td>0.000000</td>\n",
              "      <td>...</td>\n",
              "      <td>0.001393</td>\n",
              "      <td>0.002786</td>\n",
              "      <td>0.004178</td>\n",
              "      <td>0.0</td>\n",
              "      <td>0.001393</td>\n",
              "      <td>0.000000</td>\n",
              "      <td>NaN</td>\n",
              "      <td>NaN</td>\n",
              "      <td>NaN</td>\n",
              "      <td>NaN</td>\n",
              "    </tr>\n",
              "    <tr>\n",
              "      <th>2017-02-01</th>\n",
              "      <td>1.0</td>\n",
              "      <td>0.002368</td>\n",
              "      <td>0.002368</td>\n",
              "      <td>0.001776</td>\n",
              "      <td>0.004144</td>\n",
              "      <td>0.001184</td>\n",
              "      <td>0.002368</td>\n",
              "      <td>0.001776</td>\n",
              "      <td>0.000592</td>\n",
              "      <td>0.001776</td>\n",
              "      <td>...</td>\n",
              "      <td>0.000592</td>\n",
              "      <td>0.000592</td>\n",
              "      <td>0.002368</td>\n",
              "      <td>0.0</td>\n",
              "      <td>0.000000</td>\n",
              "      <td>NaN</td>\n",
              "      <td>NaN</td>\n",
              "      <td>NaN</td>\n",
              "      <td>NaN</td>\n",
              "      <td>NaN</td>\n",
              "    </tr>\n",
              "    <tr>\n",
              "      <th>2017-03-01</th>\n",
              "      <td>1.0</td>\n",
              "      <td>0.004992</td>\n",
              "      <td>0.003456</td>\n",
              "      <td>0.003456</td>\n",
              "      <td>0.003456</td>\n",
              "      <td>0.001536</td>\n",
              "      <td>0.001536</td>\n",
              "      <td>0.003072</td>\n",
              "      <td>0.003072</td>\n",
              "      <td>0.001152</td>\n",
              "      <td>...</td>\n",
              "      <td>0.002304</td>\n",
              "      <td>0.000768</td>\n",
              "      <td>0.001536</td>\n",
              "      <td>0.0</td>\n",
              "      <td>NaN</td>\n",
              "      <td>NaN</td>\n",
              "      <td>NaN</td>\n",
              "      <td>NaN</td>\n",
              "      <td>NaN</td>\n",
              "      <td>NaN</td>\n",
              "    </tr>\n",
              "    <tr>\n",
              "      <th>2017-04-01</th>\n",
              "      <td>1.0</td>\n",
              "      <td>0.006050</td>\n",
              "      <td>0.002161</td>\n",
              "      <td>0.001729</td>\n",
              "      <td>0.003025</td>\n",
              "      <td>0.002593</td>\n",
              "      <td>0.003457</td>\n",
              "      <td>0.002593</td>\n",
              "      <td>0.003457</td>\n",
              "      <td>0.001729</td>\n",
              "      <td>...</td>\n",
              "      <td>0.000864</td>\n",
              "      <td>0.001729</td>\n",
              "      <td>0.000000</td>\n",
              "      <td>NaN</td>\n",
              "      <td>NaN</td>\n",
              "      <td>NaN</td>\n",
              "      <td>NaN</td>\n",
              "      <td>NaN</td>\n",
              "      <td>NaN</td>\n",
              "      <td>NaN</td>\n",
              "    </tr>\n",
              "    <tr>\n",
              "      <th>2017-05-01</th>\n",
              "      <td>1.0</td>\n",
              "      <td>0.005336</td>\n",
              "      <td>0.004774</td>\n",
              "      <td>0.003931</td>\n",
              "      <td>0.003089</td>\n",
              "      <td>0.003370</td>\n",
              "      <td>0.004212</td>\n",
              "      <td>0.001404</td>\n",
              "      <td>0.002527</td>\n",
              "      <td>0.002808</td>\n",
              "      <td>...</td>\n",
              "      <td>0.002527</td>\n",
              "      <td>0.000000</td>\n",
              "      <td>NaN</td>\n",
              "      <td>NaN</td>\n",
              "      <td>NaN</td>\n",
              "      <td>NaN</td>\n",
              "      <td>NaN</td>\n",
              "      <td>NaN</td>\n",
              "      <td>NaN</td>\n",
              "      <td>NaN</td>\n",
              "    </tr>\n",
              "    <tr>\n",
              "      <th>2017-06-01</th>\n",
              "      <td>1.0</td>\n",
              "      <td>0.004802</td>\n",
              "      <td>0.003521</td>\n",
              "      <td>0.003841</td>\n",
              "      <td>0.002561</td>\n",
              "      <td>0.003521</td>\n",
              "      <td>0.003841</td>\n",
              "      <td>0.002241</td>\n",
              "      <td>0.001280</td>\n",
              "      <td>0.002241</td>\n",
              "      <td>...</td>\n",
              "      <td>0.000000</td>\n",
              "      <td>NaN</td>\n",
              "      <td>NaN</td>\n",
              "      <td>NaN</td>\n",
              "      <td>NaN</td>\n",
              "      <td>NaN</td>\n",
              "      <td>NaN</td>\n",
              "      <td>NaN</td>\n",
              "      <td>NaN</td>\n",
              "      <td>NaN</td>\n",
              "    </tr>\n",
              "    <tr>\n",
              "      <th>2017-07-01</th>\n",
              "      <td>1.0</td>\n",
              "      <td>0.005267</td>\n",
              "      <td>0.003424</td>\n",
              "      <td>0.001844</td>\n",
              "      <td>0.003424</td>\n",
              "      <td>0.001844</td>\n",
              "      <td>0.003160</td>\n",
              "      <td>0.001053</td>\n",
              "      <td>0.001844</td>\n",
              "      <td>0.002370</td>\n",
              "      <td>...</td>\n",
              "      <td>NaN</td>\n",
              "      <td>NaN</td>\n",
              "      <td>NaN</td>\n",
              "      <td>NaN</td>\n",
              "      <td>NaN</td>\n",
              "      <td>NaN</td>\n",
              "      <td>NaN</td>\n",
              "      <td>NaN</td>\n",
              "      <td>NaN</td>\n",
              "      <td>NaN</td>\n",
              "    </tr>\n",
              "    <tr>\n",
              "      <th>2017-08-01</th>\n",
              "      <td>1.0</td>\n",
              "      <td>0.006710</td>\n",
              "      <td>0.003595</td>\n",
              "      <td>0.002636</td>\n",
              "      <td>0.003834</td>\n",
              "      <td>0.005272</td>\n",
              "      <td>0.002636</td>\n",
              "      <td>0.002636</td>\n",
              "      <td>0.001198</td>\n",
              "      <td>0.001677</td>\n",
              "      <td>...</td>\n",
              "      <td>NaN</td>\n",
              "      <td>NaN</td>\n",
              "      <td>NaN</td>\n",
              "      <td>NaN</td>\n",
              "      <td>NaN</td>\n",
              "      <td>NaN</td>\n",
              "      <td>NaN</td>\n",
              "      <td>NaN</td>\n",
              "      <td>NaN</td>\n",
              "      <td>NaN</td>\n",
              "    </tr>\n",
              "    <tr>\n",
              "      <th>2017-09-01</th>\n",
              "      <td>1.0</td>\n",
              "      <td>0.006566</td>\n",
              "      <td>0.004864</td>\n",
              "      <td>0.003405</td>\n",
              "      <td>0.004134</td>\n",
              "      <td>0.002675</td>\n",
              "      <td>0.002189</td>\n",
              "      <td>0.002189</td>\n",
              "      <td>0.003161</td>\n",
              "      <td>0.001702</td>\n",
              "      <td>...</td>\n",
              "      <td>NaN</td>\n",
              "      <td>NaN</td>\n",
              "      <td>NaN</td>\n",
              "      <td>NaN</td>\n",
              "      <td>NaN</td>\n",
              "      <td>NaN</td>\n",
              "      <td>NaN</td>\n",
              "      <td>NaN</td>\n",
              "      <td>NaN</td>\n",
              "      <td>NaN</td>\n",
              "    </tr>\n",
              "    <tr>\n",
              "      <th>2017-10-01</th>\n",
              "      <td>1.0</td>\n",
              "      <td>0.006849</td>\n",
              "      <td>0.002968</td>\n",
              "      <td>0.000913</td>\n",
              "      <td>0.002283</td>\n",
              "      <td>0.001826</td>\n",
              "      <td>0.002740</td>\n",
              "      <td>0.003653</td>\n",
              "      <td>0.002740</td>\n",
              "      <td>0.002055</td>\n",
              "      <td>...</td>\n",
              "      <td>NaN</td>\n",
              "      <td>NaN</td>\n",
              "      <td>NaN</td>\n",
              "      <td>NaN</td>\n",
              "      <td>NaN</td>\n",
              "      <td>NaN</td>\n",
              "      <td>NaN</td>\n",
              "      <td>NaN</td>\n",
              "      <td>NaN</td>\n",
              "      <td>NaN</td>\n",
              "    </tr>\n",
              "    <tr>\n",
              "      <th>2017-11-01</th>\n",
              "      <td>1.0</td>\n",
              "      <td>0.005508</td>\n",
              "      <td>0.003813</td>\n",
              "      <td>0.001695</td>\n",
              "      <td>0.001977</td>\n",
              "      <td>0.001553</td>\n",
              "      <td>0.001271</td>\n",
              "      <td>0.001977</td>\n",
              "      <td>0.001271</td>\n",
              "      <td>0.000706</td>\n",
              "      <td>...</td>\n",
              "      <td>NaN</td>\n",
              "      <td>NaN</td>\n",
              "      <td>NaN</td>\n",
              "      <td>NaN</td>\n",
              "      <td>NaN</td>\n",
              "      <td>NaN</td>\n",
              "      <td>NaN</td>\n",
              "      <td>NaN</td>\n",
              "      <td>NaN</td>\n",
              "      <td>NaN</td>\n",
              "    </tr>\n",
              "    <tr>\n",
              "      <th>2017-12-01</th>\n",
              "      <td>1.0</td>\n",
              "      <td>0.002323</td>\n",
              "      <td>0.002680</td>\n",
              "      <td>0.003216</td>\n",
              "      <td>0.002323</td>\n",
              "      <td>0.001965</td>\n",
              "      <td>0.001608</td>\n",
              "      <td>0.000179</td>\n",
              "      <td>0.002144</td>\n",
              "      <td>0.000000</td>\n",
              "      <td>...</td>\n",
              "      <td>NaN</td>\n",
              "      <td>NaN</td>\n",
              "      <td>NaN</td>\n",
              "      <td>NaN</td>\n",
              "      <td>NaN</td>\n",
              "      <td>NaN</td>\n",
              "      <td>NaN</td>\n",
              "      <td>NaN</td>\n",
              "      <td>NaN</td>\n",
              "      <td>NaN</td>\n",
              "    </tr>\n",
              "    <tr>\n",
              "      <th>2018-01-01</th>\n",
              "      <td>1.0</td>\n",
              "      <td>0.003618</td>\n",
              "      <td>0.003908</td>\n",
              "      <td>0.002895</td>\n",
              "      <td>0.003184</td>\n",
              "      <td>0.001592</td>\n",
              "      <td>0.001737</td>\n",
              "      <td>0.002171</td>\n",
              "      <td>0.000000</td>\n",
              "      <td>NaN</td>\n",
              "      <td>...</td>\n",
              "      <td>NaN</td>\n",
              "      <td>NaN</td>\n",
              "      <td>NaN</td>\n",
              "      <td>NaN</td>\n",
              "      <td>NaN</td>\n",
              "      <td>NaN</td>\n",
              "      <td>NaN</td>\n",
              "      <td>NaN</td>\n",
              "      <td>NaN</td>\n",
              "      <td>NaN</td>\n",
              "    </tr>\n",
              "    <tr>\n",
              "      <th>2018-02-01</th>\n",
              "      <td>1.0</td>\n",
              "      <td>0.003593</td>\n",
              "      <td>0.003905</td>\n",
              "      <td>0.002812</td>\n",
              "      <td>0.002655</td>\n",
              "      <td>0.001718</td>\n",
              "      <td>0.002187</td>\n",
              "      <td>0.000000</td>\n",
              "      <td>NaN</td>\n",
              "      <td>NaN</td>\n",
              "      <td>...</td>\n",
              "      <td>NaN</td>\n",
              "      <td>NaN</td>\n",
              "      <td>NaN</td>\n",
              "      <td>NaN</td>\n",
              "      <td>NaN</td>\n",
              "      <td>NaN</td>\n",
              "      <td>NaN</td>\n",
              "      <td>NaN</td>\n",
              "      <td>NaN</td>\n",
              "      <td>NaN</td>\n",
              "    </tr>\n",
              "    <tr>\n",
              "      <th>2018-03-01</th>\n",
              "      <td>1.0</td>\n",
              "      <td>0.004413</td>\n",
              "      <td>0.003416</td>\n",
              "      <td>0.002847</td>\n",
              "      <td>0.001423</td>\n",
              "      <td>0.001281</td>\n",
              "      <td>0.000000</td>\n",
              "      <td>NaN</td>\n",
              "      <td>NaN</td>\n",
              "      <td>NaN</td>\n",
              "      <td>...</td>\n",
              "      <td>NaN</td>\n",
              "      <td>NaN</td>\n",
              "      <td>NaN</td>\n",
              "      <td>NaN</td>\n",
              "      <td>NaN</td>\n",
              "      <td>NaN</td>\n",
              "      <td>NaN</td>\n",
              "      <td>NaN</td>\n",
              "      <td>NaN</td>\n",
              "      <td>NaN</td>\n",
              "    </tr>\n",
              "    <tr>\n",
              "      <th>2018-04-01</th>\n",
              "      <td>1.0</td>\n",
              "      <td>0.005952</td>\n",
              "      <td>0.002900</td>\n",
              "      <td>0.002442</td>\n",
              "      <td>0.001374</td>\n",
              "      <td>0.000000</td>\n",
              "      <td>NaN</td>\n",
              "      <td>NaN</td>\n",
              "      <td>NaN</td>\n",
              "      <td>NaN</td>\n",
              "      <td>...</td>\n",
              "      <td>NaN</td>\n",
              "      <td>NaN</td>\n",
              "      <td>NaN</td>\n",
              "      <td>NaN</td>\n",
              "      <td>NaN</td>\n",
              "      <td>NaN</td>\n",
              "      <td>NaN</td>\n",
              "      <td>NaN</td>\n",
              "      <td>NaN</td>\n",
              "      <td>NaN</td>\n",
              "    </tr>\n",
              "    <tr>\n",
              "      <th>2018-05-01</th>\n",
              "      <td>1.0</td>\n",
              "      <td>0.005594</td>\n",
              "      <td>0.002650</td>\n",
              "      <td>0.002208</td>\n",
              "      <td>0.000000</td>\n",
              "      <td>NaN</td>\n",
              "      <td>NaN</td>\n",
              "      <td>NaN</td>\n",
              "      <td>NaN</td>\n",
              "      <td>NaN</td>\n",
              "      <td>...</td>\n",
              "      <td>NaN</td>\n",
              "      <td>NaN</td>\n",
              "      <td>NaN</td>\n",
              "      <td>NaN</td>\n",
              "      <td>NaN</td>\n",
              "      <td>NaN</td>\n",
              "      <td>NaN</td>\n",
              "      <td>NaN</td>\n",
              "      <td>NaN</td>\n",
              "      <td>NaN</td>\n",
              "    </tr>\n",
              "    <tr>\n",
              "      <th>2018-06-01</th>\n",
              "      <td>1.0</td>\n",
              "      <td>0.003879</td>\n",
              "      <td>0.002698</td>\n",
              "      <td>0.000000</td>\n",
              "      <td>NaN</td>\n",
              "      <td>NaN</td>\n",
              "      <td>NaN</td>\n",
              "      <td>NaN</td>\n",
              "      <td>NaN</td>\n",
              "      <td>NaN</td>\n",
              "      <td>...</td>\n",
              "      <td>NaN</td>\n",
              "      <td>NaN</td>\n",
              "      <td>NaN</td>\n",
              "      <td>NaN</td>\n",
              "      <td>NaN</td>\n",
              "      <td>NaN</td>\n",
              "      <td>NaN</td>\n",
              "      <td>NaN</td>\n",
              "      <td>NaN</td>\n",
              "      <td>NaN</td>\n",
              "    </tr>\n",
              "    <tr>\n",
              "      <th>2018-07-01</th>\n",
              "      <td>1.0</td>\n",
              "      <td>0.005041</td>\n",
              "      <td>0.000000</td>\n",
              "      <td>NaN</td>\n",
              "      <td>NaN</td>\n",
              "      <td>NaN</td>\n",
              "      <td>NaN</td>\n",
              "      <td>NaN</td>\n",
              "      <td>NaN</td>\n",
              "      <td>NaN</td>\n",
              "      <td>...</td>\n",
              "      <td>NaN</td>\n",
              "      <td>NaN</td>\n",
              "      <td>NaN</td>\n",
              "      <td>NaN</td>\n",
              "      <td>NaN</td>\n",
              "      <td>NaN</td>\n",
              "      <td>NaN</td>\n",
              "      <td>NaN</td>\n",
              "      <td>NaN</td>\n",
              "      <td>NaN</td>\n",
              "    </tr>\n",
              "    <tr>\n",
              "      <th>2018-08-01</th>\n",
              "      <td>1.0</td>\n",
              "      <td>0.000157</td>\n",
              "      <td>NaN</td>\n",
              "      <td>NaN</td>\n",
              "      <td>NaN</td>\n",
              "      <td>NaN</td>\n",
              "      <td>NaN</td>\n",
              "      <td>NaN</td>\n",
              "      <td>NaN</td>\n",
              "      <td>NaN</td>\n",
              "      <td>...</td>\n",
              "      <td>NaN</td>\n",
              "      <td>NaN</td>\n",
              "      <td>NaN</td>\n",
              "      <td>NaN</td>\n",
              "      <td>NaN</td>\n",
              "      <td>NaN</td>\n",
              "      <td>NaN</td>\n",
              "      <td>NaN</td>\n",
              "      <td>NaN</td>\n",
              "      <td>NaN</td>\n",
              "    </tr>\n",
              "  </tbody>\n",
              "</table>\n",
              "<p>23 rows × 25 columns</p>\n",
              "</div>"
            ],
            "text/plain": [
              "lifetime     0         1         2         3         4         5         6   \\\n",
              "reg_month                                                                     \n",
              "2016-09-01  1.0  0.000000  0.000000  0.000000  0.000000  0.000000  0.000000   \n",
              "2016-10-01  1.0  0.000000  0.000000  0.000000  0.000000  0.000000  0.003257   \n",
              "2016-12-01  1.0  1.000000  0.000000  0.000000  0.000000  0.000000  0.000000   \n",
              "2017-01-01  1.0  0.005571  0.002786  0.001393  0.004178  0.001393  0.004178   \n",
              "2017-02-01  1.0  0.002368  0.002368  0.001776  0.004144  0.001184  0.002368   \n",
              "2017-03-01  1.0  0.004992  0.003456  0.003456  0.003456  0.001536  0.001536   \n",
              "2017-04-01  1.0  0.006050  0.002161  0.001729  0.003025  0.002593  0.003457   \n",
              "2017-05-01  1.0  0.005336  0.004774  0.003931  0.003089  0.003370  0.004212   \n",
              "2017-06-01  1.0  0.004802  0.003521  0.003841  0.002561  0.003521  0.003841   \n",
              "2017-07-01  1.0  0.005267  0.003424  0.001844  0.003424  0.001844  0.003160   \n",
              "2017-08-01  1.0  0.006710  0.003595  0.002636  0.003834  0.005272  0.002636   \n",
              "2017-09-01  1.0  0.006566  0.004864  0.003405  0.004134  0.002675  0.002189   \n",
              "2017-10-01  1.0  0.006849  0.002968  0.000913  0.002283  0.001826  0.002740   \n",
              "2017-11-01  1.0  0.005508  0.003813  0.001695  0.001977  0.001553  0.001271   \n",
              "2017-12-01  1.0  0.002323  0.002680  0.003216  0.002323  0.001965  0.001608   \n",
              "2018-01-01  1.0  0.003618  0.003908  0.002895  0.003184  0.001592  0.001737   \n",
              "2018-02-01  1.0  0.003593  0.003905  0.002812  0.002655  0.001718  0.002187   \n",
              "2018-03-01  1.0  0.004413  0.003416  0.002847  0.001423  0.001281  0.000000   \n",
              "2018-04-01  1.0  0.005952  0.002900  0.002442  0.001374  0.000000       NaN   \n",
              "2018-05-01  1.0  0.005594  0.002650  0.002208  0.000000       NaN       NaN   \n",
              "2018-06-01  1.0  0.003879  0.002698  0.000000       NaN       NaN       NaN   \n",
              "2018-07-01  1.0  0.005041  0.000000       NaN       NaN       NaN       NaN   \n",
              "2018-08-01  1.0  0.000157       NaN       NaN       NaN       NaN       NaN   \n",
              "\n",
              "lifetime          7         8         9   ...        15        16        17  \\\n",
              "reg_month                                 ...                                 \n",
              "2016-09-01  0.000000  0.000000  0.000000  ...  0.000000  0.000000  0.000000   \n",
              "2016-10-01  0.000000  0.000000  0.003257  ...  0.003257  0.000000  0.003257   \n",
              "2016-12-01  0.000000  0.000000  0.000000  ...  0.000000  0.000000  0.000000   \n",
              "2017-01-01  0.001393  0.001393  0.000000  ...  0.001393  0.002786  0.004178   \n",
              "2017-02-01  0.001776  0.000592  0.001776  ...  0.000592  0.000592  0.002368   \n",
              "2017-03-01  0.003072  0.003072  0.001152  ...  0.002304  0.000768  0.001536   \n",
              "2017-04-01  0.002593  0.003457  0.001729  ...  0.000864  0.001729  0.000000   \n",
              "2017-05-01  0.001404  0.002527  0.002808  ...  0.002527  0.000000       NaN   \n",
              "2017-06-01  0.002241  0.001280  0.002241  ...  0.000000       NaN       NaN   \n",
              "2017-07-01  0.001053  0.001844  0.002370  ...       NaN       NaN       NaN   \n",
              "2017-08-01  0.002636  0.001198  0.001677  ...       NaN       NaN       NaN   \n",
              "2017-09-01  0.002189  0.003161  0.001702  ...       NaN       NaN       NaN   \n",
              "2017-10-01  0.003653  0.002740  0.002055  ...       NaN       NaN       NaN   \n",
              "2017-11-01  0.001977  0.001271  0.000706  ...       NaN       NaN       NaN   \n",
              "2017-12-01  0.000179  0.002144  0.000000  ...       NaN       NaN       NaN   \n",
              "2018-01-01  0.002171  0.000000       NaN  ...       NaN       NaN       NaN   \n",
              "2018-02-01  0.000000       NaN       NaN  ...       NaN       NaN       NaN   \n",
              "2018-03-01       NaN       NaN       NaN  ...       NaN       NaN       NaN   \n",
              "2018-04-01       NaN       NaN       NaN  ...       NaN       NaN       NaN   \n",
              "2018-05-01       NaN       NaN       NaN  ...       NaN       NaN       NaN   \n",
              "2018-06-01       NaN       NaN       NaN  ...       NaN       NaN       NaN   \n",
              "2018-07-01       NaN       NaN       NaN  ...       NaN       NaN       NaN   \n",
              "2018-08-01       NaN       NaN       NaN  ...       NaN       NaN       NaN   \n",
              "\n",
              "lifetime     18        19        20   21   22   23   24  \n",
              "reg_month                                                \n",
              "2016-09-01  0.0  0.000000  0.000000  0.0  0.0  0.0  0.0  \n",
              "2016-10-01  0.0  0.006515  0.006515  0.0  0.0  0.0  NaN  \n",
              "2016-12-01  0.0  0.000000  0.000000  0.0  NaN  NaN  NaN  \n",
              "2017-01-01  0.0  0.001393  0.000000  NaN  NaN  NaN  NaN  \n",
              "2017-02-01  0.0  0.000000       NaN  NaN  NaN  NaN  NaN  \n",
              "2017-03-01  0.0       NaN       NaN  NaN  NaN  NaN  NaN  \n",
              "2017-04-01  NaN       NaN       NaN  NaN  NaN  NaN  NaN  \n",
              "2017-05-01  NaN       NaN       NaN  NaN  NaN  NaN  NaN  \n",
              "2017-06-01  NaN       NaN       NaN  NaN  NaN  NaN  NaN  \n",
              "2017-07-01  NaN       NaN       NaN  NaN  NaN  NaN  NaN  \n",
              "2017-08-01  NaN       NaN       NaN  NaN  NaN  NaN  NaN  \n",
              "2017-09-01  NaN       NaN       NaN  NaN  NaN  NaN  NaN  \n",
              "2017-10-01  NaN       NaN       NaN  NaN  NaN  NaN  NaN  \n",
              "2017-11-01  NaN       NaN       NaN  NaN  NaN  NaN  NaN  \n",
              "2017-12-01  NaN       NaN       NaN  NaN  NaN  NaN  NaN  \n",
              "2018-01-01  NaN       NaN       NaN  NaN  NaN  NaN  NaN  \n",
              "2018-02-01  NaN       NaN       NaN  NaN  NaN  NaN  NaN  \n",
              "2018-03-01  NaN       NaN       NaN  NaN  NaN  NaN  NaN  \n",
              "2018-04-01  NaN       NaN       NaN  NaN  NaN  NaN  NaN  \n",
              "2018-05-01  NaN       NaN       NaN  NaN  NaN  NaN  NaN  \n",
              "2018-06-01  NaN       NaN       NaN  NaN  NaN  NaN  NaN  \n",
              "2018-07-01  NaN       NaN       NaN  NaN  NaN  NaN  NaN  \n",
              "2018-08-01  NaN       NaN       NaN  NaN  NaN  NaN  NaN  \n",
              "\n",
              "[23 rows x 25 columns]"
            ]
          },
          "execution_count": 44,
          "metadata": {},
          "output_type": "execute_result"
        }
      ],
      "source": [
        "retention"
      ]
    },
    {
      "cell_type": "markdown",
      "metadata": {
        "id": "vqfy2IaXZW-h"
      },
      "source": [
        "Ответ:\n",
        "Самый высокий ретеншн на трейтий месяц в период с января по декабрь 0.003931"
      ]
    },
    {
      "cell_type": "markdown",
      "metadata": {
        "id": "5FdIXPeNZW-h"
      },
      "source": [
        "Задание № 6 \n",
        "Построй RFM-кластеры для пользователей. Выведи для каждого кластера средние значения метрик R, F, M\n",
        "(и опиши подробно, как были построены метрики R, F, M)."
      ]
    },
    {
      "cell_type": "code",
      "execution_count": null,
      "metadata": {
        "id": "2QM3KtLeZW-h"
      },
      "outputs": [],
      "source": [
        "# Группируем чеки с агригацией по цене за единицу товара для получения суммы по чеку.\n",
        "df_olist_order_items_prepared = df_olist_order_items \\\n",
        "        .groupby('order_id', as_index=False) \\\n",
        "        .agg({'price': 'sum'})"
      ]
    },
    {
      "cell_type": "code",
      "execution_count": null,
      "metadata": {
        "id": "M2Bj2zbWZW-h"
      },
      "outputs": [],
      "source": [
        "# убираем заказы которые не были отменены или не доступны \n",
        "df_olist_orders_prepared = df_olist_orders \\\n",
        "    .query('order_status != \"canceled\" and order_status != \"unavailable\"')"
      ]
    },
    {
      "cell_type": "code",
      "execution_count": null,
      "metadata": {
        "id": "2iJ-IuPgZW-h"
      },
      "outputs": [],
      "source": [
        "df     = df_olist_customers.merge(df_olist_orders_prepared, how='outer', on='customer_id')\n",
        "df_all = df.merge(df_olist_order_items_prepared, how='outer', on='order_id')"
      ]
    },
    {
      "cell_type": "code",
      "execution_count": null,
      "metadata": {
        "id": "Oa6eh53HZW-i"
      },
      "outputs": [],
      "source": [
        "df = df_all[['customer_unique_id', 'order_id', 'price', 'order_approved_at']]"
      ]
    },
    {
      "cell_type": "code",
      "execution_count": null,
      "metadata": {
        "id": "IiXspBgvZW-i"
      },
      "outputs": [],
      "source": [
        "df = df.dropna()"
      ]
    },
    {
      "cell_type": "code",
      "execution_count": null,
      "metadata": {
        "id": "WFzLCDU_ZW-i"
      },
      "outputs": [],
      "source": [
        "df['order_approved_at'] = pd.to_datetime(df.order_approved_at)"
      ]
    },
    {
      "cell_type": "code",
      "execution_count": null,
      "metadata": {
        "id": "cj6Hn2JcZW-i"
      },
      "outputs": [],
      "source": [
        "# сумма покупки, последние покупки, количество покупок.\n",
        "cust = df \\\n",
        "    .groupby('customer_unique_id', as_index=False) \\\n",
        "    .agg({'price': 'sum',\n",
        "         'order_approved_at':'max',\n",
        "         'order_id':'nunique'\n",
        "         })"
      ]
    },
    {
      "cell_type": "code",
      "execution_count": null,
      "metadata": {
        "id": "e8HAQ8qwZW-i"
      },
      "outputs": [],
      "source": [
        "# Определляем дату последней покупки и добавляем к ней один день.\n",
        "obs_date = (max(cust['order_approved_at']) + timedelta(days=1))\n",
        "# Посчитаем количество дней с последней покупки.\n",
        "cust['days_since_last_purchase'] = cust['order_approved_at'] \\\n",
        "    .apply(lambda x: obs_date - x)"
      ]
    },
    {
      "cell_type": "code",
      "execution_count": null,
      "metadata": {
        "id": "GeIuJepPZW-j"
      },
      "outputs": [],
      "source": [
        "# Переведем получившийся ранее результат в дни и округлим его и переведем в int\n",
        "cust['days_since_last_purchase'] = cust['days_since_last_purchase'] \\\n",
        "    .dt.days \\\n",
        "    .round() \\\n",
        "    .astype(int)"
      ]
    },
    {
      "cell_type": "code",
      "execution_count": null,
      "metadata": {
        "id": "rA2N5JXVZW-j",
        "outputId": "d6484e0f-cc27-4fbe-df8f-e1bf08a683ee"
      },
      "outputs": [
        {
          "data": {
            "text/plain": [
              "<seaborn.axisgrid.FacetGrid at 0x7f7b1f15ae10>"
            ]
          },
          "execution_count": 14,
          "metadata": {},
          "output_type": "execute_result"
        },
        {
          "data": {
            "image/png": "[encoded data removed]",
            "text/plain": [
              "<Figure size 360x360 with 1 Axes>"
            ]
          },
          "metadata": {
            "needs_background": "light"
          },
          "output_type": "display_data"
        }
      ],
      "source": [
        "# Строим распределиние количества дней с последней покупки.\n",
        "# График говорит нам о том что очень много пользователей делала покупки единожды.\n",
        "# Каждый раз у нас вновь прибывшие пользавотели делают покупку и не возвращаются.\n",
        "sns.displot(cust['days_since_last_purchase'])"
      ]
    },
    {
      "cell_type": "code",
      "execution_count": null,
      "metadata": {
        "id": "rnd4adyUZW-j"
      },
      "outputs": [],
      "source": [
        "# Cкоры для recency.\n",
        "# При определинии скоров мы должны представлять как часто покупатель будет нуждаться в наших услугах.\n",
        "# Мы не знаем что за товары мы продаем но по графику можно сказать что это тавары разовой необходимости и временной промежуток \n",
        "# должен быть большего размера.\n",
        "# Так же можно предположить что у нас что-то не так с товаром т.к пользователи не возвращаются для повторной покупки.\n",
        "# Но количество товаров купленных в последнее время увеличилосью.\n",
        "# Разбитие на скоры я произвел по трем плато хотя достоверно понять кто из пользователей является оттовыми не очевидно\n",
        "# так же и пользаватели купившие недавно не имеют пика который должен присутствотать т.к. там присутствуют пользователи которые \n",
        "# только пришли в стор и пользователи которые совершили повторные покупки.\n",
        "def recency_score(recency):\n",
        "    if recency <= 250:\n",
        "        return 3\n",
        "    elif (recency > 250) and (recency <= 400):\n",
        "        return 2\n",
        "    else:\n",
        "        return 1\n",
        "cust['recency'] = cust['days_since_last_purchase'].apply(recency_score)"
      ]
    },
    {
      "cell_type": "code",
      "execution_count": null,
      "metadata": {
        "id": "e_oYmj-AZW-j",
        "outputId": "11cadba2-9aaf-477b-fb47-d148f7cf28e0"
      },
      "outputs": [
        {
          "name": "stderr",
          "output_type": "stream",
          "text": [
            "/opt/tljh/user/lib/python3.7/site-packages/seaborn/_decorators.py:43: FutureWarning: Pass the following variable as a keyword arg: x. From version 0.12, the only valid positional argument will be `data`, and passing other arguments without an explicit keyword will result in an error or misinterpretation.\n",
            "  FutureWarning\n"
          ]
        },
        {
          "data": {
            "text/plain": [
              "<matplotlib.axes._subplots.AxesSubplot at 0x7f7b26b64390>"
            ]
          },
          "execution_count": 16,
          "metadata": {},
          "output_type": "execute_result"
        },
        {
          "data": {
            "image/png": "[encoded data removed]",
            "text/plain": [
              "<Figure size 432x288 with 1 Axes>"
            ]
          },
          "metadata": {
            "needs_background": "light"
          },
          "output_type": "display_data"
        }
      ],
      "source": [
        "sns.countplot(cust.recency)"
      ]
    },
    {
      "cell_type": "code",
      "execution_count": null,
      "metadata": {
        "id": "rhMWDD86ZW-k",
        "outputId": "c8758b45-c45c-4601-e552-980aa51737d9"
      },
      "outputs": [
        {
          "data": {
            "text/plain": [
              "<seaborn.axisgrid.FacetGrid at 0x7f7b266d3a20>"
            ]
          },
          "execution_count": 17,
          "metadata": {},
          "output_type": "execute_result"
        },
        {
          "data": {
            "image/png": "[encoded data removed]",
            "text/plain": [
              "<Figure size 360x360 with 1 Axes>"
            ]
          },
          "metadata": {
            "needs_background": "light"
          },
          "output_type": "display_data"
        }
      ],
      "source": [
        "sns.displot(cust[cust['order_id']<20]['order_id'])"
      ]
    },
    {
      "cell_type": "code",
      "execution_count": null,
      "metadata": {
        "id": "v8djlFYnZW-k"
      },
      "outputs": [],
      "source": [
        "# Скоры для Frequency.\n",
        "# Здесь мы достоверно видим что количество покупок почти у всех пользователей равно 1.\n",
        "# Это говорит о том что наши товары не требуют быстрого обновления.\n",
        "# Разбиение на скоры.\n",
        "def frequency_score(freq):\n",
        "    if freq <= 1:\n",
        "        return 1\n",
        "    elif (freq > 1) and (freq <= 3):\n",
        "        return 2\n",
        "    else:\n",
        "        return 3\n",
        "cust['frequency'] = cust['order_id'].apply(frequency_score)"
      ]
    },
    {
      "cell_type": "code",
      "execution_count": null,
      "metadata": {
        "id": "pZpzW-UGZW-k",
        "outputId": "9b08be9e-2735-4420-97b4-bd3c351fb4cf"
      },
      "outputs": [
        {
          "name": "stderr",
          "output_type": "stream",
          "text": [
            "/opt/tljh/user/lib/python3.7/site-packages/seaborn/_decorators.py:43: FutureWarning: Pass the following variable as a keyword arg: x. From version 0.12, the only valid positional argument will be `data`, and passing other arguments without an explicit keyword will result in an error or misinterpretation.\n",
            "  FutureWarning\n"
          ]
        },
        {
          "data": {
            "text/plain": [
              "<matplotlib.axes._subplots.AxesSubplot at 0x7f7b25fa3748>"
            ]
          },
          "execution_count": 19,
          "metadata": {},
          "output_type": "execute_result"
        },
        {
          "data": {
            "image/png": "[encoded data removed]",
            "text/plain": [
              "<Figure size 432x288 with 1 Axes>"
            ]
          },
          "metadata": {
            "needs_background": "light"
          },
          "output_type": "display_data"
        }
      ],
      "source": [
        "sns.countplot(cust['frequency'])"
      ]
    },
    {
      "cell_type": "code",
      "execution_count": null,
      "metadata": {
        "id": "7vkBRhGsZW-k",
        "outputId": "e9938e49-2ede-4488-fa31-92b55948d9e3"
      },
      "outputs": [
        {
          "data": {
            "text/plain": [
              "<seaborn.axisgrid.FacetGrid at 0x7f7b25f2d7b8>"
            ]
          },
          "execution_count": 20,
          "metadata": {},
          "output_type": "execute_result"
        },
        {
          "data": {
            "image/png": "[encoded data removed]",
            "text/plain": [
              "<Figure size 360x360 with 1 Axes>"
            ]
          },
          "metadata": {
            "needs_background": "light"
          },
          "output_type": "display_data"
        }
      ],
      "source": [
        "sns.displot(cust[cust['price']<750]['price'])"
      ]
    },
    {
      "cell_type": "code",
      "execution_count": null,
      "metadata": {
        "id": "ed-pydEXZW-l"
      },
      "outputs": [],
      "source": [
        "# Скоры для monetary valye.\n",
        "# В распределении суммы покупки наблюдается пик в районе 50 далее меделенно снизающиеся показатели с 150 до 300 и после есть\n",
        "# большое плато с покупками свыше 400 относительно этих наблюдений и делаем разбивку по сегментам.\n",
        "def monetary_score(mon):\n",
        "    if mon <=150:\n",
        "        return 1\n",
        "    elif (mon > 150) and (mon <= 400):\n",
        "        return 2\n",
        "    else:\n",
        "        return 3\n",
        "cust['monetary'] = cust['price'].apply(monetary_score)"
      ]
    },
    {
      "cell_type": "code",
      "execution_count": null,
      "metadata": {
        "id": "tvqLmZXpZW-l",
        "outputId": "25b616b3-9285-4486-ec0c-25ef061877b5"
      },
      "outputs": [
        {
          "name": "stderr",
          "output_type": "stream",
          "text": [
            "/opt/tljh/user/lib/python3.7/site-packages/seaborn/_decorators.py:43: FutureWarning: Pass the following variable as a keyword arg: x. From version 0.12, the only valid positional argument will be `data`, and passing other arguments without an explicit keyword will result in an error or misinterpretation.\n",
            "  FutureWarning\n"
          ]
        },
        {
          "data": {
            "text/plain": [
              "<matplotlib.axes._subplots.AxesSubplot at 0x7f7b24bfddd8>"
            ]
          },
          "execution_count": 22,
          "metadata": {},
          "output_type": "execute_result"
        },
        {
          "data": {
            "image/png": "[encoded data removed]",
            "text/plain": [
              "<Figure size 432x288 with 1 Axes>"
            ]
          },
          "metadata": {
            "needs_background": "light"
          },
          "output_type": "display_data"
        }
      ],
      "source": [
        "sns.countplot(cust['monetary'] )"
      ]
    },
    {
      "cell_type": "code",
      "execution_count": null,
      "metadata": {
        "id": "Wq-zJWE3ZW-l"
      },
      "outputs": [],
      "source": [
        "cust['rfm_segment'] = cust.apply(lambda x: str(x['recency']) \\\n",
        "                                         + str(x['frequency']) \\\n",
        "                                         + str(x['monetary']), axis=1)"
      ]
    },
    {
      "cell_type": "code",
      "execution_count": null,
      "metadata": {
        "id": "J-qdBekTZW-l",
        "outputId": "b08d1acb-2ac0-4df9-9bfe-ed45cafa613e"
      },
      "outputs": [
        {
          "data": {
            "text/plain": [
              "<matplotlib.axes._subplots.AxesSubplot at 0x7f7b25f50208>"
            ]
          },
          "execution_count": 24,
          "metadata": {},
          "output_type": "execute_result"
        },
        {
          "data": {
            "image/png": "[encoded data removed]",
            "text/plain": [
              "<Figure size 1080x1440 with 1 Axes>"
            ]
          },
          "metadata": {
            "needs_background": "light"
          },
          "output_type": "display_data"
        }
      ],
      "source": [
        "plt.figure(figsize=(15,20))\n",
        "sns.countplot(y=cust['rfm_segment'])"
      ]
    },
    {
      "cell_type": "code",
      "execution_count": null,
      "metadata": {
        "id": "VBSmza-uZW-l"
      },
      "outputs": [],
      "source": [
        "# Автоматический RFM"
      ]
    },
    {
      "cell_type": "code",
      "execution_count": null,
      "metadata": {
        "id": "9ngYWRGrZW-m"
      },
      "outputs": [],
      "source": [
        "file_for_RFM = cust[['customer_unique_id', 'order_approved_at', 'price']]"
      ]
    },
    {
      "cell_type": "code",
      "execution_count": null,
      "metadata": {
        "id": "3iZcSM8HZW-m"
      },
      "outputs": [],
      "source": [
        "file_for_RFM = file_for_RFM.rename(columns={'customer_unique_id': 'user_id',\n",
        "                                             'order_approved_at': 'order_date',\n",
        "                                                         'price': 'order_value'\n",
        "                                           })"
      ]
    },
    {
      "cell_type": "code",
      "execution_count": null,
      "metadata": {
        "id": "4fS659q6ZW-m"
      },
      "outputs": [],
      "source": [
        "file_for_RFM.to_csv('file_for_RFM.csv', sep=',', encoding = 'utf-8', index=False)"
      ]
    },
    {
      "cell_type": "code",
      "execution_count": null,
      "metadata": {
        "id": "O-Brz484ZW-m"
      },
      "outputs": [],
      "source": [
        "RFM = pd.read_csv('some_unique_name_mapping.csv')"
      ]
    },
    {
      "cell_type": "code",
      "execution_count": null,
      "metadata": {
        "id": "5yG2EiOdZW-m"
      },
      "outputs": [],
      "source": [
        "RFM['rfm_segment'] = RFM.apply(lambda x: str(x['recency']) \\\n",
        "                                         + str(x['frequency']) \\\n",
        "                                         + str(x['monetary']), axis=1)"
      ]
    },
    {
      "cell_type": "code",
      "execution_count": null,
      "metadata": {
        "id": "tt0Ei6ugZW-n",
        "outputId": "c330d77d-e8f6-44e4-8923-1203c29fe5b1"
      },
      "outputs": [
        {
          "data": {
            "text/plain": [
              "<matplotlib.axes._subplots.AxesSubplot at 0x7f7b2288a5f8>"
            ]
          },
          "execution_count": 31,
          "metadata": {},
          "output_type": "execute_result"
        },
        {
          "data": {
            "image/png": "[encoded data removed]",
            "text/plain": [
              "<Figure size 720x360 with 1 Axes>"
            ]
          },
          "metadata": {
            "needs_background": "light"
          },
          "output_type": "display_data"
        }
      ],
      "source": [
        "plt.figure(figsize=(10,5))\n",
        "sns.countplot(y=RFM['rfm_segment'])"
      ]
    },
    {
      "cell_type": "code",
      "execution_count": null,
      "metadata": {
        "id": "VV0xX1xzZW-n"
      },
      "outputs": [],
      "source": [
        ""
      ]
    }
  ],
  "metadata": {
    "kernelspec": {
      "display_name": "Python 3",
      "language": "python",
      "name": "python3"
    },
    "language_info": {
      "codemirror_mode": {
        "name": "ipython",
        "version": 3
      },
      "file_extension": ".py",
      "mimetype": "text/x-python",
      "name": "python",
      "nbconvert_exporter": "python",
      "pygments_lexer": "ipython3",
      "version": "3.7.3"
    },
    "colab": {
      "name": "first_project_evgene_sivko_15_10_variant_1-Copy1.ipynb",
      "provenance": [],
      "collapsed_sections": []
    }
  },
  "nbformat": 4,
  "nbformat_minor": 0
}